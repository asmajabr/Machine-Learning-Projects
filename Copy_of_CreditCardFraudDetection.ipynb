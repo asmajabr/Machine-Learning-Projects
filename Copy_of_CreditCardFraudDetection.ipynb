{
  "nbformat": 4,
  "nbformat_minor": 0,
  "metadata": {
    "kernelspec": {
      "display_name": "Python 3",
      "language": "python",
      "name": "python3"
    },
    "language_info": {
      "codemirror_mode": {
        "name": "ipython",
        "version": 3
      },
      "file_extension": ".py",
      "mimetype": "text/x-python",
      "name": "python",
      "nbconvert_exporter": "python",
      "pygments_lexer": "ipython3",
      "version": "3.7.4"
    },
    "colab": {
      "name": "Copy of CreditCardFraudDetection.ipynb",
      "provenance": [],
      "include_colab_link": true
    }
  },
  "cells": [
    {
      "cell_type": "markdown",
      "metadata": {
        "id": "view-in-github",
        "colab_type": "text"
      },
      "source": [
        "<a href=\"https://colab.research.google.com/github/asmajabr/Machine-Learning-Projects/blob/master/Copy_of_CreditCardFraudDetection.ipynb\" target=\"_parent\"><img src=\"https://colab.research.google.com/assets/colab-badge.svg\" alt=\"Open In Colab\"/></a>"
      ]
    },
    {
      "cell_type": "markdown",
      "metadata": {
        "id": "WXpnxtWRFwQW",
        "colab_type": "text"
      },
      "source": [
        "# About The data set\n",
        "\n",
        "The datasets contains transactions made by credit cards in September 2013 by european cardholders. This dataset presents transactions that occurred in two days, where we have 492 frauds out of 284,807 transactions. The dataset is highly unbalanced, the positive class (frauds) account for 0.172% of all transactions.\n",
        "\n",
        "It contains only numerical input variables which are the result of a PCA transformation. Unfortunately, due to confidentiality issues, we cannot provide the original features and more background information about the data. Features V1, V2, ... V28 are the principal components obtained with PCA, the only features which have not been transformed with PCA are 'Time' and 'Amount'. Feature 'Time' contains the seconds elapsed between each transaction and the first transaction in the dataset. The feature 'Amount' is the transaction Amount, this feature can be used for example-dependant cost-senstive learning. **Feature 'Class' is the response variable and it takes value 1 in case of fraud and 0 otherwise.**\n",
        "\n",
        "Given the class imbalance ratio, we recommend measuring the accuracy using the Area Under the Precision-Recall Curve (AUPRC). Confusion matrix accuracy is not meaningful for unbalanced classification.\n",
        "\n",
        "The dataset has been collected and analysed during a research collaboration of Worldline and the Machine Learning Group (http://mlg.ulb.ac.be) of ULB (Université Libre de Bruxelles) on big data mining and fraud detection. \n",
        "\n",
        "\n"
      ]
    },
    {
      "cell_type": "markdown",
      "metadata": {
        "id": "s6BVNOhHFwQQ",
        "colab_type": "text"
      },
      "source": [
        "# Import Data from Drive\n",
        "\n",
        "Please download the data from https://www.kaggle.com/mlg-ulb/creditcardfraud\n",
        "\n",
        "Info about data: it is a CSV file, contains 31 features, the last feature is used to classify the transaction whether it is a fraud or not\n",
        "\n"
      ]
    },
    {
      "cell_type": "code",
      "metadata": {
        "id": "qj4vJhgIIE_l",
        "colab_type": "code",
        "colab": {
          "base_uri": "https://localhost:8080/",
          "height": 125
        },
        "outputId": "bfd6fe5e-632a-417e-f184-96cbda196ee2"
      },
      "source": [
        "from google.colab import drive\n",
        "drive.mount('/content/gdrive', force_remount=True)"
      ],
      "execution_count": 2,
      "outputs": [
        {
          "output_type": "stream",
          "text": [
            "Go to this URL in a browser: https://accounts.google.com/o/oauth2/auth?client_id=947318989803-6bn6qk8qdgf4n4g3pfee6491hc0brc4i.apps.googleusercontent.com&redirect_uri=urn%3aietf%3awg%3aoauth%3a2.0%3aoob&response_type=code&scope=email%20https%3a%2f%2fwww.googleapis.com%2fauth%2fdocs.test%20https%3a%2f%2fwww.googleapis.com%2fauth%2fdrive%20https%3a%2f%2fwww.googleapis.com%2fauth%2fdrive.photos.readonly%20https%3a%2f%2fwww.googleapis.com%2fauth%2fpeopleapi.readonly\n",
            "\n",
            "Enter your authorization code:\n",
            "··········\n",
            "Mounted at /content/gdrive\n"
          ],
          "name": "stdout"
        }
      ]
    },
    {
      "cell_type": "code",
      "metadata": {
        "id": "3zTlRkH1IaG_",
        "colab_type": "code",
        "colab": {}
      },
      "source": [
        "import os \n"
      ],
      "execution_count": 3,
      "outputs": []
    },
    {
      "cell_type": "code",
      "metadata": {
        "id": "ixAvYIe8IiL0",
        "colab_type": "code",
        "colab": {
          "base_uri": "https://localhost:8080/",
          "height": 141
        },
        "outputId": "a89a1c5d-eb81-4339-e92b-5c688e3fad33"
      },
      "source": [
        "cwd = os.getcwd()\n",
        "print (cwd)\n",
        "!ls -lah"
      ],
      "execution_count": 4,
      "outputs": [
        {
          "output_type": "stream",
          "text": [
            "/content\n",
            "total 20K\n",
            "drwxr-xr-x 1 root root 4.0K Jul  4 09:13 .\n",
            "drwxr-xr-x 1 root root 4.0K Jul  4 08:52 ..\n",
            "drwxr-xr-x 1 root root 4.0K Jun 26 16:26 .config\n",
            "drwx------ 4 root root 4.0K Jul  4 09:13 gdrive\n",
            "drwxr-xr-x 1 root root 4.0K Jun 26 16:26 sample_data\n"
          ],
          "name": "stdout"
        }
      ]
    },
    {
      "cell_type": "code",
      "metadata": {
        "id": "1TP0XZeDoomw",
        "colab_type": "code",
        "colab": {
          "base_uri": "https://localhost:8080/",
          "height": 34
        },
        "outputId": "81b251d3-1557-4983-a55c-c0f71526b488"
      },
      "source": [
        "!wc -l creditcard.csv\n"
      ],
      "execution_count": 5,
      "outputs": [
        {
          "output_type": "stream",
          "text": [
            "wc: creditcard.csv: No such file or directory\n"
          ],
          "name": "stdout"
        }
      ]
    },
    {
      "cell_type": "code",
      "metadata": {
        "id": "yQFvJf4mKj2-",
        "colab_type": "code",
        "colab": {
          "base_uri": "https://localhost:8080/",
          "height": 253
        },
        "outputId": "bb8b92e0-ac0d-4198-a490-978ee0dfe754"
      },
      "source": [
        "import pandas as pd\n",
        "import seaborn as sns\n",
        "import matplotlib.pyplot as plt\n",
        "import numpy as np\n",
        "\n",
        "\n",
        "url = \"/content/gdrive/My Drive/creditcard.csv\"\n",
        "\n",
        "creditcard = pd.read_csv(url)\n",
        "\n",
        "creditcard.head()\n"
      ],
      "execution_count": 6,
      "outputs": [
        {
          "output_type": "stream",
          "text": [
            "/usr/local/lib/python3.6/dist-packages/statsmodels/tools/_testing.py:19: FutureWarning: pandas.util.testing is deprecated. Use the functions in the public API at pandas.testing instead.\n",
            "  import pandas.util.testing as tm\n"
          ],
          "name": "stderr"
        },
        {
          "output_type": "execute_result",
          "data": {
            "text/html": [
              "<div>\n",
              "<style scoped>\n",
              "    .dataframe tbody tr th:only-of-type {\n",
              "        vertical-align: middle;\n",
              "    }\n",
              "\n",
              "    .dataframe tbody tr th {\n",
              "        vertical-align: top;\n",
              "    }\n",
              "\n",
              "    .dataframe thead th {\n",
              "        text-align: right;\n",
              "    }\n",
              "</style>\n",
              "<table border=\"1\" class=\"dataframe\">\n",
              "  <thead>\n",
              "    <tr style=\"text-align: right;\">\n",
              "      <th></th>\n",
              "      <th>Time</th>\n",
              "      <th>V1</th>\n",
              "      <th>V2</th>\n",
              "      <th>V3</th>\n",
              "      <th>V4</th>\n",
              "      <th>V5</th>\n",
              "      <th>V6</th>\n",
              "      <th>V7</th>\n",
              "      <th>V8</th>\n",
              "      <th>V9</th>\n",
              "      <th>V10</th>\n",
              "      <th>V11</th>\n",
              "      <th>V12</th>\n",
              "      <th>V13</th>\n",
              "      <th>V14</th>\n",
              "      <th>V15</th>\n",
              "      <th>V16</th>\n",
              "      <th>V17</th>\n",
              "      <th>V18</th>\n",
              "      <th>V19</th>\n",
              "      <th>V20</th>\n",
              "      <th>V21</th>\n",
              "      <th>V22</th>\n",
              "      <th>V23</th>\n",
              "      <th>V24</th>\n",
              "      <th>V25</th>\n",
              "      <th>V26</th>\n",
              "      <th>V27</th>\n",
              "      <th>V28</th>\n",
              "      <th>Amount</th>\n",
              "      <th>Class</th>\n",
              "    </tr>\n",
              "  </thead>\n",
              "  <tbody>\n",
              "    <tr>\n",
              "      <th>0</th>\n",
              "      <td>0.0</td>\n",
              "      <td>-1.359807</td>\n",
              "      <td>-0.072781</td>\n",
              "      <td>2.536347</td>\n",
              "      <td>1.378155</td>\n",
              "      <td>-0.338321</td>\n",
              "      <td>0.462388</td>\n",
              "      <td>0.239599</td>\n",
              "      <td>0.098698</td>\n",
              "      <td>0.363787</td>\n",
              "      <td>0.090794</td>\n",
              "      <td>-0.551600</td>\n",
              "      <td>-0.617801</td>\n",
              "      <td>-0.991390</td>\n",
              "      <td>-0.311169</td>\n",
              "      <td>1.468177</td>\n",
              "      <td>-0.470401</td>\n",
              "      <td>0.207971</td>\n",
              "      <td>0.025791</td>\n",
              "      <td>0.403993</td>\n",
              "      <td>0.251412</td>\n",
              "      <td>-0.018307</td>\n",
              "      <td>0.277838</td>\n",
              "      <td>-0.110474</td>\n",
              "      <td>0.066928</td>\n",
              "      <td>0.128539</td>\n",
              "      <td>-0.189115</td>\n",
              "      <td>0.133558</td>\n",
              "      <td>-0.021053</td>\n",
              "      <td>149.62</td>\n",
              "      <td>0</td>\n",
              "    </tr>\n",
              "    <tr>\n",
              "      <th>1</th>\n",
              "      <td>0.0</td>\n",
              "      <td>1.191857</td>\n",
              "      <td>0.266151</td>\n",
              "      <td>0.166480</td>\n",
              "      <td>0.448154</td>\n",
              "      <td>0.060018</td>\n",
              "      <td>-0.082361</td>\n",
              "      <td>-0.078803</td>\n",
              "      <td>0.085102</td>\n",
              "      <td>-0.255425</td>\n",
              "      <td>-0.166974</td>\n",
              "      <td>1.612727</td>\n",
              "      <td>1.065235</td>\n",
              "      <td>0.489095</td>\n",
              "      <td>-0.143772</td>\n",
              "      <td>0.635558</td>\n",
              "      <td>0.463917</td>\n",
              "      <td>-0.114805</td>\n",
              "      <td>-0.183361</td>\n",
              "      <td>-0.145783</td>\n",
              "      <td>-0.069083</td>\n",
              "      <td>-0.225775</td>\n",
              "      <td>-0.638672</td>\n",
              "      <td>0.101288</td>\n",
              "      <td>-0.339846</td>\n",
              "      <td>0.167170</td>\n",
              "      <td>0.125895</td>\n",
              "      <td>-0.008983</td>\n",
              "      <td>0.014724</td>\n",
              "      <td>2.69</td>\n",
              "      <td>0</td>\n",
              "    </tr>\n",
              "    <tr>\n",
              "      <th>2</th>\n",
              "      <td>1.0</td>\n",
              "      <td>-1.358354</td>\n",
              "      <td>-1.340163</td>\n",
              "      <td>1.773209</td>\n",
              "      <td>0.379780</td>\n",
              "      <td>-0.503198</td>\n",
              "      <td>1.800499</td>\n",
              "      <td>0.791461</td>\n",
              "      <td>0.247676</td>\n",
              "      <td>-1.514654</td>\n",
              "      <td>0.207643</td>\n",
              "      <td>0.624501</td>\n",
              "      <td>0.066084</td>\n",
              "      <td>0.717293</td>\n",
              "      <td>-0.165946</td>\n",
              "      <td>2.345865</td>\n",
              "      <td>-2.890083</td>\n",
              "      <td>1.109969</td>\n",
              "      <td>-0.121359</td>\n",
              "      <td>-2.261857</td>\n",
              "      <td>0.524980</td>\n",
              "      <td>0.247998</td>\n",
              "      <td>0.771679</td>\n",
              "      <td>0.909412</td>\n",
              "      <td>-0.689281</td>\n",
              "      <td>-0.327642</td>\n",
              "      <td>-0.139097</td>\n",
              "      <td>-0.055353</td>\n",
              "      <td>-0.059752</td>\n",
              "      <td>378.66</td>\n",
              "      <td>0</td>\n",
              "    </tr>\n",
              "    <tr>\n",
              "      <th>3</th>\n",
              "      <td>1.0</td>\n",
              "      <td>-0.966272</td>\n",
              "      <td>-0.185226</td>\n",
              "      <td>1.792993</td>\n",
              "      <td>-0.863291</td>\n",
              "      <td>-0.010309</td>\n",
              "      <td>1.247203</td>\n",
              "      <td>0.237609</td>\n",
              "      <td>0.377436</td>\n",
              "      <td>-1.387024</td>\n",
              "      <td>-0.054952</td>\n",
              "      <td>-0.226487</td>\n",
              "      <td>0.178228</td>\n",
              "      <td>0.507757</td>\n",
              "      <td>-0.287924</td>\n",
              "      <td>-0.631418</td>\n",
              "      <td>-1.059647</td>\n",
              "      <td>-0.684093</td>\n",
              "      <td>1.965775</td>\n",
              "      <td>-1.232622</td>\n",
              "      <td>-0.208038</td>\n",
              "      <td>-0.108300</td>\n",
              "      <td>0.005274</td>\n",
              "      <td>-0.190321</td>\n",
              "      <td>-1.175575</td>\n",
              "      <td>0.647376</td>\n",
              "      <td>-0.221929</td>\n",
              "      <td>0.062723</td>\n",
              "      <td>0.061458</td>\n",
              "      <td>123.50</td>\n",
              "      <td>0</td>\n",
              "    </tr>\n",
              "    <tr>\n",
              "      <th>4</th>\n",
              "      <td>2.0</td>\n",
              "      <td>-1.158233</td>\n",
              "      <td>0.877737</td>\n",
              "      <td>1.548718</td>\n",
              "      <td>0.403034</td>\n",
              "      <td>-0.407193</td>\n",
              "      <td>0.095921</td>\n",
              "      <td>0.592941</td>\n",
              "      <td>-0.270533</td>\n",
              "      <td>0.817739</td>\n",
              "      <td>0.753074</td>\n",
              "      <td>-0.822843</td>\n",
              "      <td>0.538196</td>\n",
              "      <td>1.345852</td>\n",
              "      <td>-1.119670</td>\n",
              "      <td>0.175121</td>\n",
              "      <td>-0.451449</td>\n",
              "      <td>-0.237033</td>\n",
              "      <td>-0.038195</td>\n",
              "      <td>0.803487</td>\n",
              "      <td>0.408542</td>\n",
              "      <td>-0.009431</td>\n",
              "      <td>0.798278</td>\n",
              "      <td>-0.137458</td>\n",
              "      <td>0.141267</td>\n",
              "      <td>-0.206010</td>\n",
              "      <td>0.502292</td>\n",
              "      <td>0.219422</td>\n",
              "      <td>0.215153</td>\n",
              "      <td>69.99</td>\n",
              "      <td>0</td>\n",
              "    </tr>\n",
              "  </tbody>\n",
              "</table>\n",
              "</div>"
            ],
            "text/plain": [
              "   Time        V1        V2        V3  ...       V27       V28  Amount  Class\n",
              "0   0.0 -1.359807 -0.072781  2.536347  ...  0.133558 -0.021053  149.62      0\n",
              "1   0.0  1.191857  0.266151  0.166480  ... -0.008983  0.014724    2.69      0\n",
              "2   1.0 -1.358354 -1.340163  1.773209  ... -0.055353 -0.059752  378.66      0\n",
              "3   1.0 -0.966272 -0.185226  1.792993  ...  0.062723  0.061458  123.50      0\n",
              "4   2.0 -1.158233  0.877737  1.548718  ...  0.219422  0.215153   69.99      0\n",
              "\n",
              "[5 rows x 31 columns]"
            ]
          },
          "metadata": {
            "tags": []
          },
          "execution_count": 6
        }
      ]
    },
    {
      "cell_type": "markdown",
      "metadata": {
        "id": "RgHic8Gm0ufm",
        "colab_type": "text"
      },
      "source": [
        "# Developing a PCA with our partner\n",
        "\n",
        "Whenevr we select our partner , and see the dimentions of data they have , we could use this approach to develop a good PCA for \n",
        "\n",
        "1.   Dimensionality Reduction\n",
        "2.   Featuers Encoding\n",
        "\n",
        "here we assume this synthetic dataset as the input from our partner , to simulate what we could do to customize our model\n",
        "source of data\n",
        "\n",
        "https://www.kaggle.com/ntnu-testimon/paysim1\n",
        "\n",
        "**Headers**\n",
        "\n",
        "This is a sample of 1 row with headers explanation:\n",
        "\n",
        "1,PAYMENT,1060.31,C429214117,1089.0,28.69,M1591654462,0.0,0.0,0,0\n",
        "\n",
        "step - maps a unit of time in the real world. In this case 1 step is 1 hour of time. Total steps 744 (30 days simulation).\n",
        "\n",
        "type - CASH-IN, CASH-OUT, DEBIT, PAYMENT and TRANSFER.\n",
        "\n",
        "amount -\n",
        "amount of the transaction in local currency.\n",
        "\n",
        "nameOrig - customer who started the transaction\n",
        "\n",
        "oldbalanceOrg - initial balance before the transaction\n",
        "\n",
        "newbalanceOrig - new balance after the transaction\n",
        "\n",
        "nameDest - customer who is the recipient of the transaction\n",
        "\n",
        "oldbalanceDest - initial balance recipient before the transaction. Note that there is not information for customers that start with M (Merchants).\n",
        "\n",
        "newbalanceDest - new balance recipient after the transaction. Note that there is not information for customers that start with M (Merchants).\n",
        "\n",
        "isFraud - This is the transactions made by the fraudulent agents inside the simulation. In this specific dataset the fraudulent behavior of the agents aims to profit by taking control or customers accounts and try to empty the funds by transferring to another account and then cashing out of the system.\n",
        "\n",
        "isFlaggedFraud - The business model aims to control massive transfers from one account to another and flags illegal attempts. An illegal attempt in this dataset is an attempt to transfer more than 200.000 in a single transaction. \n"
      ]
    },
    {
      "cell_type": "code",
      "metadata": {
        "id": "U7BRu_MHoinE",
        "colab_type": "code",
        "colab": {
          "base_uri": "https://localhost:8080/",
          "height": 478
        },
        "outputId": "00ffe516-f14f-4a01-c8cd-ca2f47e4190c"
      },
      "source": [
        "import pandas as pd\n",
        "import seaborn as sns\n",
        "import matplotlib.pyplot as plt\n",
        "import numpy as np\n",
        "\n",
        "url = \"/content/drive/My Drive/CreditCard/synthetic_payments.csv\"\n",
        "\n",
        "syn_payments = pd.read_csv(url)\n",
        "\n",
        "syn_payments.head()"
      ],
      "execution_count": 7,
      "outputs": [
        {
          "output_type": "error",
          "ename": "FileNotFoundError",
          "evalue": "ignored",
          "traceback": [
            "\u001b[0;31m---------------------------------------------------------------------------\u001b[0m",
            "\u001b[0;31mFileNotFoundError\u001b[0m                         Traceback (most recent call last)",
            "\u001b[0;32m<ipython-input-7-a59789fa2436>\u001b[0m in \u001b[0;36m<module>\u001b[0;34m()\u001b[0m\n\u001b[1;32m      6\u001b[0m \u001b[0murl\u001b[0m \u001b[0;34m=\u001b[0m \u001b[0;34m\"/content/drive/My Drive/CreditCard/synthetic_payments.csv\"\u001b[0m\u001b[0;34m\u001b[0m\u001b[0;34m\u001b[0m\u001b[0m\n\u001b[1;32m      7\u001b[0m \u001b[0;34m\u001b[0m\u001b[0m\n\u001b[0;32m----> 8\u001b[0;31m \u001b[0msyn_payments\u001b[0m \u001b[0;34m=\u001b[0m \u001b[0mpd\u001b[0m\u001b[0;34m.\u001b[0m\u001b[0mread_csv\u001b[0m\u001b[0;34m(\u001b[0m\u001b[0murl\u001b[0m\u001b[0;34m)\u001b[0m\u001b[0;34m\u001b[0m\u001b[0;34m\u001b[0m\u001b[0m\n\u001b[0m\u001b[1;32m      9\u001b[0m \u001b[0;34m\u001b[0m\u001b[0m\n\u001b[1;32m     10\u001b[0m \u001b[0msyn_payments\u001b[0m\u001b[0;34m.\u001b[0m\u001b[0mhead\u001b[0m\u001b[0;34m(\u001b[0m\u001b[0;34m)\u001b[0m\u001b[0;34m\u001b[0m\u001b[0;34m\u001b[0m\u001b[0m\n",
            "\u001b[0;32m/usr/local/lib/python3.6/dist-packages/pandas/io/parsers.py\u001b[0m in \u001b[0;36mparser_f\u001b[0;34m(filepath_or_buffer, sep, delimiter, header, names, index_col, usecols, squeeze, prefix, mangle_dupe_cols, dtype, engine, converters, true_values, false_values, skipinitialspace, skiprows, skipfooter, nrows, na_values, keep_default_na, na_filter, verbose, skip_blank_lines, parse_dates, infer_datetime_format, keep_date_col, date_parser, dayfirst, cache_dates, iterator, chunksize, compression, thousands, decimal, lineterminator, quotechar, quoting, doublequote, escapechar, comment, encoding, dialect, error_bad_lines, warn_bad_lines, delim_whitespace, low_memory, memory_map, float_precision)\u001b[0m\n\u001b[1;32m    674\u001b[0m         )\n\u001b[1;32m    675\u001b[0m \u001b[0;34m\u001b[0m\u001b[0m\n\u001b[0;32m--> 676\u001b[0;31m         \u001b[0;32mreturn\u001b[0m \u001b[0m_read\u001b[0m\u001b[0;34m(\u001b[0m\u001b[0mfilepath_or_buffer\u001b[0m\u001b[0;34m,\u001b[0m \u001b[0mkwds\u001b[0m\u001b[0;34m)\u001b[0m\u001b[0;34m\u001b[0m\u001b[0;34m\u001b[0m\u001b[0m\n\u001b[0m\u001b[1;32m    677\u001b[0m \u001b[0;34m\u001b[0m\u001b[0m\n\u001b[1;32m    678\u001b[0m     \u001b[0mparser_f\u001b[0m\u001b[0;34m.\u001b[0m\u001b[0m__name__\u001b[0m \u001b[0;34m=\u001b[0m \u001b[0mname\u001b[0m\u001b[0;34m\u001b[0m\u001b[0;34m\u001b[0m\u001b[0m\n",
            "\u001b[0;32m/usr/local/lib/python3.6/dist-packages/pandas/io/parsers.py\u001b[0m in \u001b[0;36m_read\u001b[0;34m(filepath_or_buffer, kwds)\u001b[0m\n\u001b[1;32m    446\u001b[0m \u001b[0;34m\u001b[0m\u001b[0m\n\u001b[1;32m    447\u001b[0m     \u001b[0;31m# Create the parser.\u001b[0m\u001b[0;34m\u001b[0m\u001b[0;34m\u001b[0m\u001b[0;34m\u001b[0m\u001b[0m\n\u001b[0;32m--> 448\u001b[0;31m     \u001b[0mparser\u001b[0m \u001b[0;34m=\u001b[0m \u001b[0mTextFileReader\u001b[0m\u001b[0;34m(\u001b[0m\u001b[0mfp_or_buf\u001b[0m\u001b[0;34m,\u001b[0m \u001b[0;34m**\u001b[0m\u001b[0mkwds\u001b[0m\u001b[0;34m)\u001b[0m\u001b[0;34m\u001b[0m\u001b[0;34m\u001b[0m\u001b[0m\n\u001b[0m\u001b[1;32m    449\u001b[0m \u001b[0;34m\u001b[0m\u001b[0m\n\u001b[1;32m    450\u001b[0m     \u001b[0;32mif\u001b[0m \u001b[0mchunksize\u001b[0m \u001b[0;32mor\u001b[0m \u001b[0miterator\u001b[0m\u001b[0;34m:\u001b[0m\u001b[0;34m\u001b[0m\u001b[0;34m\u001b[0m\u001b[0m\n",
            "\u001b[0;32m/usr/local/lib/python3.6/dist-packages/pandas/io/parsers.py\u001b[0m in \u001b[0;36m__init__\u001b[0;34m(self, f, engine, **kwds)\u001b[0m\n\u001b[1;32m    878\u001b[0m             \u001b[0mself\u001b[0m\u001b[0;34m.\u001b[0m\u001b[0moptions\u001b[0m\u001b[0;34m[\u001b[0m\u001b[0;34m\"has_index_names\"\u001b[0m\u001b[0;34m]\u001b[0m \u001b[0;34m=\u001b[0m \u001b[0mkwds\u001b[0m\u001b[0;34m[\u001b[0m\u001b[0;34m\"has_index_names\"\u001b[0m\u001b[0;34m]\u001b[0m\u001b[0;34m\u001b[0m\u001b[0;34m\u001b[0m\u001b[0m\n\u001b[1;32m    879\u001b[0m \u001b[0;34m\u001b[0m\u001b[0m\n\u001b[0;32m--> 880\u001b[0;31m         \u001b[0mself\u001b[0m\u001b[0;34m.\u001b[0m\u001b[0m_make_engine\u001b[0m\u001b[0;34m(\u001b[0m\u001b[0mself\u001b[0m\u001b[0;34m.\u001b[0m\u001b[0mengine\u001b[0m\u001b[0;34m)\u001b[0m\u001b[0;34m\u001b[0m\u001b[0;34m\u001b[0m\u001b[0m\n\u001b[0m\u001b[1;32m    881\u001b[0m \u001b[0;34m\u001b[0m\u001b[0m\n\u001b[1;32m    882\u001b[0m     \u001b[0;32mdef\u001b[0m \u001b[0mclose\u001b[0m\u001b[0;34m(\u001b[0m\u001b[0mself\u001b[0m\u001b[0;34m)\u001b[0m\u001b[0;34m:\u001b[0m\u001b[0;34m\u001b[0m\u001b[0;34m\u001b[0m\u001b[0m\n",
            "\u001b[0;32m/usr/local/lib/python3.6/dist-packages/pandas/io/parsers.py\u001b[0m in \u001b[0;36m_make_engine\u001b[0;34m(self, engine)\u001b[0m\n\u001b[1;32m   1112\u001b[0m     \u001b[0;32mdef\u001b[0m \u001b[0m_make_engine\u001b[0m\u001b[0;34m(\u001b[0m\u001b[0mself\u001b[0m\u001b[0;34m,\u001b[0m \u001b[0mengine\u001b[0m\u001b[0;34m=\u001b[0m\u001b[0;34m\"c\"\u001b[0m\u001b[0;34m)\u001b[0m\u001b[0;34m:\u001b[0m\u001b[0;34m\u001b[0m\u001b[0;34m\u001b[0m\u001b[0m\n\u001b[1;32m   1113\u001b[0m         \u001b[0;32mif\u001b[0m \u001b[0mengine\u001b[0m \u001b[0;34m==\u001b[0m \u001b[0;34m\"c\"\u001b[0m\u001b[0;34m:\u001b[0m\u001b[0;34m\u001b[0m\u001b[0;34m\u001b[0m\u001b[0m\n\u001b[0;32m-> 1114\u001b[0;31m             \u001b[0mself\u001b[0m\u001b[0;34m.\u001b[0m\u001b[0m_engine\u001b[0m \u001b[0;34m=\u001b[0m \u001b[0mCParserWrapper\u001b[0m\u001b[0;34m(\u001b[0m\u001b[0mself\u001b[0m\u001b[0;34m.\u001b[0m\u001b[0mf\u001b[0m\u001b[0;34m,\u001b[0m \u001b[0;34m**\u001b[0m\u001b[0mself\u001b[0m\u001b[0;34m.\u001b[0m\u001b[0moptions\u001b[0m\u001b[0;34m)\u001b[0m\u001b[0;34m\u001b[0m\u001b[0;34m\u001b[0m\u001b[0m\n\u001b[0m\u001b[1;32m   1115\u001b[0m         \u001b[0;32melse\u001b[0m\u001b[0;34m:\u001b[0m\u001b[0;34m\u001b[0m\u001b[0;34m\u001b[0m\u001b[0m\n\u001b[1;32m   1116\u001b[0m             \u001b[0;32mif\u001b[0m \u001b[0mengine\u001b[0m \u001b[0;34m==\u001b[0m \u001b[0;34m\"python\"\u001b[0m\u001b[0;34m:\u001b[0m\u001b[0;34m\u001b[0m\u001b[0;34m\u001b[0m\u001b[0m\n",
            "\u001b[0;32m/usr/local/lib/python3.6/dist-packages/pandas/io/parsers.py\u001b[0m in \u001b[0;36m__init__\u001b[0;34m(self, src, **kwds)\u001b[0m\n\u001b[1;32m   1889\u001b[0m         \u001b[0mkwds\u001b[0m\u001b[0;34m[\u001b[0m\u001b[0;34m\"usecols\"\u001b[0m\u001b[0;34m]\u001b[0m \u001b[0;34m=\u001b[0m \u001b[0mself\u001b[0m\u001b[0;34m.\u001b[0m\u001b[0musecols\u001b[0m\u001b[0;34m\u001b[0m\u001b[0;34m\u001b[0m\u001b[0m\n\u001b[1;32m   1890\u001b[0m \u001b[0;34m\u001b[0m\u001b[0m\n\u001b[0;32m-> 1891\u001b[0;31m         \u001b[0mself\u001b[0m\u001b[0;34m.\u001b[0m\u001b[0m_reader\u001b[0m \u001b[0;34m=\u001b[0m \u001b[0mparsers\u001b[0m\u001b[0;34m.\u001b[0m\u001b[0mTextReader\u001b[0m\u001b[0;34m(\u001b[0m\u001b[0msrc\u001b[0m\u001b[0;34m,\u001b[0m \u001b[0;34m**\u001b[0m\u001b[0mkwds\u001b[0m\u001b[0;34m)\u001b[0m\u001b[0;34m\u001b[0m\u001b[0;34m\u001b[0m\u001b[0m\n\u001b[0m\u001b[1;32m   1892\u001b[0m         \u001b[0mself\u001b[0m\u001b[0;34m.\u001b[0m\u001b[0munnamed_cols\u001b[0m \u001b[0;34m=\u001b[0m \u001b[0mself\u001b[0m\u001b[0;34m.\u001b[0m\u001b[0m_reader\u001b[0m\u001b[0;34m.\u001b[0m\u001b[0munnamed_cols\u001b[0m\u001b[0;34m\u001b[0m\u001b[0;34m\u001b[0m\u001b[0m\n\u001b[1;32m   1893\u001b[0m \u001b[0;34m\u001b[0m\u001b[0m\n",
            "\u001b[0;32mpandas/_libs/parsers.pyx\u001b[0m in \u001b[0;36mpandas._libs.parsers.TextReader.__cinit__\u001b[0;34m()\u001b[0m\n",
            "\u001b[0;32mpandas/_libs/parsers.pyx\u001b[0m in \u001b[0;36mpandas._libs.parsers.TextReader._setup_parser_source\u001b[0;34m()\u001b[0m\n",
            "\u001b[0;31mFileNotFoundError\u001b[0m: [Errno 2] File /content/drive/My Drive/CreditCard/synthetic_payments.csv does not exist: '/content/drive/My Drive/CreditCard/synthetic_payments.csv'"
          ]
        }
      ]
    },
    {
      "cell_type": "code",
      "metadata": {
        "id": "uwG6Cr0ctq8n",
        "colab_type": "code",
        "colab": {}
      },
      "source": [
        "import warnings\n",
        "warnings.filterwarnings(\"ignore\", category=DeprecationWarning)"
      ],
      "execution_count": 8,
      "outputs": []
    },
    {
      "cell_type": "code",
      "metadata": {
        "id": "ug8v1PMvt1Wv",
        "colab_type": "code",
        "colab": {
          "base_uri": "https://localhost:8080/",
          "height": 34
        },
        "outputId": "80848882-de84-48c3-ea0e-d94610395447"
      },
      "source": [
        "## check missing values \n",
        "syn_payments.isnull().values.any()"
      ],
      "execution_count": null,
      "outputs": [
        {
          "output_type": "execute_result",
          "data": {
            "text/plain": [
              "False"
            ]
          },
          "metadata": {
            "tags": []
          },
          "execution_count": 19
        }
      ]
    },
    {
      "cell_type": "code",
      "metadata": {
        "id": "Mu8qGcNNMTOF",
        "colab_type": "code",
        "colab": {
          "base_uri": "https://localhost:8080/",
          "height": 85
        },
        "outputId": "bc0c3283-71bf-4aff-c43e-2d2db0381a2c"
      },
      "source": [
        "## check null values \n",
        "print (f'Number if the records = {syn_payments.shape[0]}')\n",
        "pd.isnull(syn_payments).sum()\n",
        "\n",
        "syn_payments[\"isFraud\"].value_counts()"
      ],
      "execution_count": null,
      "outputs": [
        {
          "output_type": "stream",
          "text": [
            "Number if the records = 6362620\n"
          ],
          "name": "stdout"
        },
        {
          "output_type": "execute_result",
          "data": {
            "text/plain": [
              "0    6354407\n",
              "1       8213\n",
              "Name: isFraud, dtype: int64"
            ]
          },
          "metadata": {
            "tags": []
          },
          "execution_count": 20
        }
      ]
    },
    {
      "cell_type": "code",
      "metadata": {
        "id": "Z2kDLggRuWtT",
        "colab_type": "code",
        "colab": {
          "base_uri": "https://localhost:8080/",
          "height": 119
        },
        "outputId": "7977a682-3816-4210-869f-d3a5ddb4aa63"
      },
      "source": [
        "syn_payments[\"type\"].value_counts()"
      ],
      "execution_count": null,
      "outputs": [
        {
          "output_type": "execute_result",
          "data": {
            "text/plain": [
              "CASH_OUT    2237500\n",
              "PAYMENT     2151495\n",
              "CASH_IN     1399284\n",
              "TRANSFER     532909\n",
              "DEBIT         41432\n",
              "Name: type, dtype: int64"
            ]
          },
          "metadata": {
            "tags": []
          },
          "execution_count": 21
        }
      ]
    },
    {
      "cell_type": "code",
      "metadata": {
        "id": "Qf1AlwLpul2B",
        "colab_type": "code",
        "colab": {
          "base_uri": "https://localhost:8080/",
          "height": 68
        },
        "outputId": "548baba1-bd7e-4c7c-a019-ee7d482547b6"
      },
      "source": [
        "## in which type fruad happend \n",
        "syn_payments.loc[(syn_payments.isFraud == 1)].type.value_counts()"
      ],
      "execution_count": null,
      "outputs": [
        {
          "output_type": "execute_result",
          "data": {
            "text/plain": [
              "CASH_OUT    4116\n",
              "TRANSFER    4097\n",
              "Name: type, dtype: int64"
            ]
          },
          "metadata": {
            "tags": []
          },
          "execution_count": 22
        }
      ]
    },
    {
      "cell_type": "markdown",
      "metadata": {
        "id": "oY-q7zMAxD7T",
        "colab_type": "text"
      },
      "source": [
        "So , we see fruad only in Cash out and Transfer"
      ]
    },
    {
      "cell_type": "code",
      "metadata": {
        "id": "Pl2kkgXUs5ob",
        "colab_type": "code",
        "colab": {
          "base_uri": "https://localhost:8080/",
          "height": 68
        },
        "outputId": "ce759e70-137c-40bd-b7c8-46fd06876b53"
      },
      "source": [
        "syn_df= syn_payments.loc[(syn_payments.type == 'TRANSFER') | (syn_payments.type == 'CASH_OUT')]\n",
        "syn_df.type.value_counts()\n"
      ],
      "execution_count": null,
      "outputs": [
        {
          "output_type": "execute_result",
          "data": {
            "text/plain": [
              "CASH_OUT    2237500\n",
              "TRANSFER     532909\n",
              "Name: type, dtype: int64"
            ]
          },
          "metadata": {
            "tags": []
          },
          "execution_count": 23
        }
      ]
    },
    {
      "cell_type": "code",
      "metadata": {
        "id": "bXwquaqyl7db",
        "colab_type": "code",
        "colab": {
          "base_uri": "https://localhost:8080/",
          "height": 419
        },
        "outputId": "4dfc6905-adbc-431e-fde3-996a488956d0"
      },
      "source": [
        "syn_df"
      ],
      "execution_count": null,
      "outputs": [
        {
          "output_type": "execute_result",
          "data": {
            "text/html": [
              "<div>\n",
              "<style scoped>\n",
              "    .dataframe tbody tr th:only-of-type {\n",
              "        vertical-align: middle;\n",
              "    }\n",
              "\n",
              "    .dataframe tbody tr th {\n",
              "        vertical-align: top;\n",
              "    }\n",
              "\n",
              "    .dataframe thead th {\n",
              "        text-align: right;\n",
              "    }\n",
              "</style>\n",
              "<table border=\"1\" class=\"dataframe\">\n",
              "  <thead>\n",
              "    <tr style=\"text-align: right;\">\n",
              "      <th></th>\n",
              "      <th>step</th>\n",
              "      <th>type</th>\n",
              "      <th>amount</th>\n",
              "      <th>nameOrig</th>\n",
              "      <th>oldbalanceOrg</th>\n",
              "      <th>newbalanceOrig</th>\n",
              "      <th>nameDest</th>\n",
              "      <th>oldbalanceDest</th>\n",
              "      <th>newbalanceDest</th>\n",
              "      <th>isFraud</th>\n",
              "      <th>isFlaggedFraud</th>\n",
              "    </tr>\n",
              "  </thead>\n",
              "  <tbody>\n",
              "    <tr>\n",
              "      <th>2</th>\n",
              "      <td>1</td>\n",
              "      <td>TRANSFER</td>\n",
              "      <td>181.00</td>\n",
              "      <td>C1305486145</td>\n",
              "      <td>181.00</td>\n",
              "      <td>0.0</td>\n",
              "      <td>C553264065</td>\n",
              "      <td>0.00</td>\n",
              "      <td>0.00</td>\n",
              "      <td>1</td>\n",
              "      <td>0</td>\n",
              "    </tr>\n",
              "    <tr>\n",
              "      <th>3</th>\n",
              "      <td>1</td>\n",
              "      <td>CASH_OUT</td>\n",
              "      <td>181.00</td>\n",
              "      <td>C840083671</td>\n",
              "      <td>181.00</td>\n",
              "      <td>0.0</td>\n",
              "      <td>C38997010</td>\n",
              "      <td>21182.00</td>\n",
              "      <td>0.00</td>\n",
              "      <td>1</td>\n",
              "      <td>0</td>\n",
              "    </tr>\n",
              "    <tr>\n",
              "      <th>15</th>\n",
              "      <td>1</td>\n",
              "      <td>CASH_OUT</td>\n",
              "      <td>229133.94</td>\n",
              "      <td>C905080434</td>\n",
              "      <td>15325.00</td>\n",
              "      <td>0.0</td>\n",
              "      <td>C476402209</td>\n",
              "      <td>5083.00</td>\n",
              "      <td>51513.44</td>\n",
              "      <td>0</td>\n",
              "      <td>0</td>\n",
              "    </tr>\n",
              "    <tr>\n",
              "      <th>19</th>\n",
              "      <td>1</td>\n",
              "      <td>TRANSFER</td>\n",
              "      <td>215310.30</td>\n",
              "      <td>C1670993182</td>\n",
              "      <td>705.00</td>\n",
              "      <td>0.0</td>\n",
              "      <td>C1100439041</td>\n",
              "      <td>22425.00</td>\n",
              "      <td>0.00</td>\n",
              "      <td>0</td>\n",
              "      <td>0</td>\n",
              "    </tr>\n",
              "    <tr>\n",
              "      <th>24</th>\n",
              "      <td>1</td>\n",
              "      <td>TRANSFER</td>\n",
              "      <td>311685.89</td>\n",
              "      <td>C1984094095</td>\n",
              "      <td>10835.00</td>\n",
              "      <td>0.0</td>\n",
              "      <td>C932583850</td>\n",
              "      <td>6267.00</td>\n",
              "      <td>2719172.89</td>\n",
              "      <td>0</td>\n",
              "      <td>0</td>\n",
              "    </tr>\n",
              "    <tr>\n",
              "      <th>...</th>\n",
              "      <td>...</td>\n",
              "      <td>...</td>\n",
              "      <td>...</td>\n",
              "      <td>...</td>\n",
              "      <td>...</td>\n",
              "      <td>...</td>\n",
              "      <td>...</td>\n",
              "      <td>...</td>\n",
              "      <td>...</td>\n",
              "      <td>...</td>\n",
              "      <td>...</td>\n",
              "    </tr>\n",
              "    <tr>\n",
              "      <th>6362615</th>\n",
              "      <td>743</td>\n",
              "      <td>CASH_OUT</td>\n",
              "      <td>339682.13</td>\n",
              "      <td>C786484425</td>\n",
              "      <td>339682.13</td>\n",
              "      <td>0.0</td>\n",
              "      <td>C776919290</td>\n",
              "      <td>0.00</td>\n",
              "      <td>339682.13</td>\n",
              "      <td>1</td>\n",
              "      <td>0</td>\n",
              "    </tr>\n",
              "    <tr>\n",
              "      <th>6362616</th>\n",
              "      <td>743</td>\n",
              "      <td>TRANSFER</td>\n",
              "      <td>6311409.28</td>\n",
              "      <td>C1529008245</td>\n",
              "      <td>6311409.28</td>\n",
              "      <td>0.0</td>\n",
              "      <td>C1881841831</td>\n",
              "      <td>0.00</td>\n",
              "      <td>0.00</td>\n",
              "      <td>1</td>\n",
              "      <td>0</td>\n",
              "    </tr>\n",
              "    <tr>\n",
              "      <th>6362617</th>\n",
              "      <td>743</td>\n",
              "      <td>CASH_OUT</td>\n",
              "      <td>6311409.28</td>\n",
              "      <td>C1162922333</td>\n",
              "      <td>6311409.28</td>\n",
              "      <td>0.0</td>\n",
              "      <td>C1365125890</td>\n",
              "      <td>68488.84</td>\n",
              "      <td>6379898.11</td>\n",
              "      <td>1</td>\n",
              "      <td>0</td>\n",
              "    </tr>\n",
              "    <tr>\n",
              "      <th>6362618</th>\n",
              "      <td>743</td>\n",
              "      <td>TRANSFER</td>\n",
              "      <td>850002.52</td>\n",
              "      <td>C1685995037</td>\n",
              "      <td>850002.52</td>\n",
              "      <td>0.0</td>\n",
              "      <td>C2080388513</td>\n",
              "      <td>0.00</td>\n",
              "      <td>0.00</td>\n",
              "      <td>1</td>\n",
              "      <td>0</td>\n",
              "    </tr>\n",
              "    <tr>\n",
              "      <th>6362619</th>\n",
              "      <td>743</td>\n",
              "      <td>CASH_OUT</td>\n",
              "      <td>850002.52</td>\n",
              "      <td>C1280323807</td>\n",
              "      <td>850002.52</td>\n",
              "      <td>0.0</td>\n",
              "      <td>C873221189</td>\n",
              "      <td>6510099.11</td>\n",
              "      <td>7360101.63</td>\n",
              "      <td>1</td>\n",
              "      <td>0</td>\n",
              "    </tr>\n",
              "  </tbody>\n",
              "</table>\n",
              "<p>2770409 rows × 11 columns</p>\n",
              "</div>"
            ],
            "text/plain": [
              "         step      type      amount  ... newbalanceDest  isFraud  isFlaggedFraud\n",
              "2           1  TRANSFER      181.00  ...           0.00        1               0\n",
              "3           1  CASH_OUT      181.00  ...           0.00        1               0\n",
              "15          1  CASH_OUT   229133.94  ...       51513.44        0               0\n",
              "19          1  TRANSFER   215310.30  ...           0.00        0               0\n",
              "24          1  TRANSFER   311685.89  ...     2719172.89        0               0\n",
              "...       ...       ...         ...  ...            ...      ...             ...\n",
              "6362615   743  CASH_OUT   339682.13  ...      339682.13        1               0\n",
              "6362616   743  TRANSFER  6311409.28  ...           0.00        1               0\n",
              "6362617   743  CASH_OUT  6311409.28  ...     6379898.11        1               0\n",
              "6362618   743  TRANSFER   850002.52  ...           0.00        1               0\n",
              "6362619   743  CASH_OUT   850002.52  ...     7360101.63        1               0\n",
              "\n",
              "[2770409 rows x 11 columns]"
            ]
          },
          "metadata": {
            "tags": []
          },
          "execution_count": 24
        }
      ]
    },
    {
      "cell_type": "code",
      "metadata": {
        "id": "KarlFrRLkyB8",
        "colab_type": "code",
        "colab": {
          "base_uri": "https://localhost:8080/",
          "height": 221
        },
        "outputId": "263ea9cc-07a8-4ef6-cd50-26f6b36c541f"
      },
      "source": [
        "syn_df.dtypes"
      ],
      "execution_count": null,
      "outputs": [
        {
          "output_type": "execute_result",
          "data": {
            "text/plain": [
              "step                int64\n",
              "type               object\n",
              "amount            float64\n",
              "nameOrig           object\n",
              "oldbalanceOrg     float64\n",
              "newbalanceOrig    float64\n",
              "nameDest           object\n",
              "oldbalanceDest    float64\n",
              "newbalanceDest    float64\n",
              "isFraud             int64\n",
              "isFlaggedFraud      int64\n",
              "dtype: object"
            ]
          },
          "metadata": {
            "tags": []
          },
          "execution_count": 25
        }
      ]
    },
    {
      "cell_type": "code",
      "metadata": {
        "id": "6Nxib_M5uJp9",
        "colab_type": "code",
        "colab": {
          "base_uri": "https://localhost:8080/",
          "height": 204
        },
        "outputId": "43840c6c-1d13-432e-fb14-a9176db8da25"
      },
      "source": [
        "from sklearn.preprocessing import LabelEncoder\n",
        "le_mod = LabelEncoder()\n",
        "syn_df_le = pd.DataFrame.copy(syn_df)\n",
        "syn_df_le['type'] = le_mod.fit_transform(syn_df_le['type'])\n",
        "syn_df_le['nameOrig'] = le_mod.fit_transform(syn_df_le['nameOrig'])\n",
        "syn_df_le['nameDest'] = le_mod.fit_transform(syn_df_le['nameDest'])\n",
        "syn_df_le.head()"
      ],
      "execution_count": null,
      "outputs": [
        {
          "output_type": "execute_result",
          "data": {
            "text/html": [
              "<div>\n",
              "<style scoped>\n",
              "    .dataframe tbody tr th:only-of-type {\n",
              "        vertical-align: middle;\n",
              "    }\n",
              "\n",
              "    .dataframe tbody tr th {\n",
              "        vertical-align: top;\n",
              "    }\n",
              "\n",
              "    .dataframe thead th {\n",
              "        text-align: right;\n",
              "    }\n",
              "</style>\n",
              "<table border=\"1\" class=\"dataframe\">\n",
              "  <thead>\n",
              "    <tr style=\"text-align: right;\">\n",
              "      <th></th>\n",
              "      <th>step</th>\n",
              "      <th>type</th>\n",
              "      <th>amount</th>\n",
              "      <th>nameOrig</th>\n",
              "      <th>oldbalanceOrg</th>\n",
              "      <th>newbalanceOrig</th>\n",
              "      <th>nameDest</th>\n",
              "      <th>oldbalanceDest</th>\n",
              "      <th>newbalanceDest</th>\n",
              "      <th>isFraud</th>\n",
              "      <th>isFlaggedFraud</th>\n",
              "    </tr>\n",
              "  </thead>\n",
              "  <tbody>\n",
              "    <tr>\n",
              "      <th>2</th>\n",
              "      <td>1</td>\n",
              "      <td>1</td>\n",
              "      <td>181.00</td>\n",
              "      <td>436008</td>\n",
              "      <td>181.0</td>\n",
              "      <td>0.0</td>\n",
              "      <td>391672</td>\n",
              "      <td>0.0</td>\n",
              "      <td>0.00</td>\n",
              "      <td>1</td>\n",
              "      <td>0</td>\n",
              "    </tr>\n",
              "    <tr>\n",
              "      <th>3</th>\n",
              "      <td>1</td>\n",
              "      <td>0</td>\n",
              "      <td>181.00</td>\n",
              "      <td>2539295</td>\n",
              "      <td>181.0</td>\n",
              "      <td>0.0</td>\n",
              "      <td>348886</td>\n",
              "      <td>21182.0</td>\n",
              "      <td>0.00</td>\n",
              "      <td>1</td>\n",
              "      <td>0</td>\n",
              "    </tr>\n",
              "    <tr>\n",
              "      <th>15</th>\n",
              "      <td>1</td>\n",
              "      <td>0</td>\n",
              "      <td>229133.94</td>\n",
              "      <td>2632251</td>\n",
              "      <td>15325.0</td>\n",
              "      <td>0.0</td>\n",
              "      <td>371535</td>\n",
              "      <td>5083.0</td>\n",
              "      <td>51513.44</td>\n",
              "      <td>0</td>\n",
              "      <td>0</td>\n",
              "    </tr>\n",
              "    <tr>\n",
              "      <th>19</th>\n",
              "      <td>1</td>\n",
              "      <td>1</td>\n",
              "      <td>215310.30</td>\n",
              "      <td>959849</td>\n",
              "      <td>705.0</td>\n",
              "      <td>0.0</td>\n",
              "      <td>26498</td>\n",
              "      <td>22425.0</td>\n",
              "      <td>0.00</td>\n",
              "      <td>0</td>\n",
              "      <td>0</td>\n",
              "    </tr>\n",
              "    <tr>\n",
              "      <th>24</th>\n",
              "      <td>1</td>\n",
              "      <td>1</td>\n",
              "      <td>311685.89</td>\n",
              "      <td>1408914</td>\n",
              "      <td>10835.0</td>\n",
              "      <td>0.0</td>\n",
              "      <td>491969</td>\n",
              "      <td>6267.0</td>\n",
              "      <td>2719172.89</td>\n",
              "      <td>0</td>\n",
              "      <td>0</td>\n",
              "    </tr>\n",
              "  </tbody>\n",
              "</table>\n",
              "</div>"
            ],
            "text/plain": [
              "    step  type     amount  ...  newbalanceDest  isFraud  isFlaggedFraud\n",
              "2      1     1     181.00  ...            0.00        1               0\n",
              "3      1     0     181.00  ...            0.00        1               0\n",
              "15     1     0  229133.94  ...        51513.44        0               0\n",
              "19     1     1  215310.30  ...            0.00        0               0\n",
              "24     1     1  311685.89  ...      2719172.89        0               0\n",
              "\n",
              "[5 rows x 11 columns]"
            ]
          },
          "metadata": {
            "tags": []
          },
          "execution_count": 26
        }
      ]
    },
    {
      "cell_type": "code",
      "metadata": {
        "id": "JffqvxvovjEB",
        "colab_type": "code",
        "colab": {
          "base_uri": "https://localhost:8080/",
          "height": 34
        },
        "outputId": "f651a75b-80e3-44ca-cbc8-19367eaa7621"
      },
      "source": [
        "syn_df_le.isnull().values.any()"
      ],
      "execution_count": null,
      "outputs": [
        {
          "output_type": "execute_result",
          "data": {
            "text/plain": [
              "False"
            ]
          },
          "metadata": {
            "tags": []
          },
          "execution_count": 27
        }
      ]
    },
    {
      "cell_type": "code",
      "metadata": {
        "id": "fBHAksowwJD7",
        "colab_type": "code",
        "colab": {
          "base_uri": "https://localhost:8080/",
          "height": 419
        },
        "outputId": "4d0da53c-60f3-4fc3-b35b-78d9a8645c26"
      },
      "source": [
        "from sklearn.decomposition import PCA\n",
        "X = syn_df_le.drop(['isFraud','isFlaggedFraud'],axis=1)\n",
        "y = syn_df_le.isFraud\n",
        "\n",
        "\n",
        "pca = PCA(n_components=9)\n",
        "## principalComponents = pca.fit_transform(X)\n",
        "## fit then transform ( to keep the model for prediction transfomation )\n",
        "pca_model = pca.fit(X)\n",
        "principalComponents = pca_model.transform(X)\n",
        "feat_cols = ['V'+str(i+1) for i in range(principalComponents.shape[1])]\n",
        "principalDf = pd.DataFrame(data = principalComponents, columns= feat_cols)\n",
        "principalDf\n"
      ],
      "execution_count": null,
      "outputs": [
        {
          "output_type": "execute_result",
          "data": {
            "text/html": [
              "<div>\n",
              "<style scoped>\n",
              "    .dataframe tbody tr th:only-of-type {\n",
              "        vertical-align: middle;\n",
              "    }\n",
              "\n",
              "    .dataframe tbody tr th {\n",
              "        vertical-align: top;\n",
              "    }\n",
              "\n",
              "    .dataframe thead th {\n",
              "        text-align: right;\n",
              "    }\n",
              "</style>\n",
              "<table border=\"1\" class=\"dataframe\">\n",
              "  <thead>\n",
              "    <tr style=\"text-align: right;\">\n",
              "      <th></th>\n",
              "      <th>V1</th>\n",
              "      <th>V2</th>\n",
              "      <th>V3</th>\n",
              "      <th>V4</th>\n",
              "      <th>V5</th>\n",
              "      <th>V6</th>\n",
              "      <th>V7</th>\n",
              "      <th>V8</th>\n",
              "      <th>V9</th>\n",
              "    </tr>\n",
              "  </thead>\n",
              "  <tbody>\n",
              "    <tr>\n",
              "      <th>0</th>\n",
              "      <td>-2.677341e+06</td>\n",
              "      <td>-1.871498e+05</td>\n",
              "      <td>-9.484251e+05</td>\n",
              "      <td>-5.122220e+04</td>\n",
              "      <td>-2.477970e+04</td>\n",
              "      <td>-136986.638519</td>\n",
              "      <td>5.282471e+03</td>\n",
              "      <td>-237.475532</td>\n",
              "      <td>-0.853641</td>\n",
              "    </tr>\n",
              "    <tr>\n",
              "      <th>1</th>\n",
              "      <td>-2.663304e+06</td>\n",
              "      <td>-1.982403e+05</td>\n",
              "      <td>1.154865e+06</td>\n",
              "      <td>-4.235211e+04</td>\n",
              "      <td>-3.002437e+04</td>\n",
              "      <td>-94082.328429</td>\n",
              "      <td>5.681930e+03</td>\n",
              "      <td>-237.710338</td>\n",
              "      <td>0.147419</td>\n",
              "    </tr>\n",
              "    <tr>\n",
              "      <th>2</th>\n",
              "      <td>-2.622138e+06</td>\n",
              "      <td>-9.552482e+02</td>\n",
              "      <td>1.247828e+06</td>\n",
              "      <td>6.834653e+04</td>\n",
              "      <td>-8.190740e+04</td>\n",
              "      <td>-116686.495513</td>\n",
              "      <td>5.273612e+03</td>\n",
              "      <td>-240.593865</td>\n",
              "      <td>0.186120</td>\n",
              "    </tr>\n",
              "    <tr>\n",
              "      <th>3</th>\n",
              "      <td>-2.649561e+06</td>\n",
              "      <td>-4.294947e+04</td>\n",
              "      <td>-4.245836e+05</td>\n",
              "      <td>8.545102e+04</td>\n",
              "      <td>-1.050315e+05</td>\n",
              "      <td>228247.336947</td>\n",
              "      <td>1.263912e+04</td>\n",
              "      <td>-241.529704</td>\n",
              "      <td>-0.814516</td>\n",
              "    </tr>\n",
              "    <tr>\n",
              "      <th>4</th>\n",
              "      <td>-6.362400e+05</td>\n",
              "      <td>1.194789e+06</td>\n",
              "      <td>2.403827e+04</td>\n",
              "      <td>-1.098034e+06</td>\n",
              "      <td>5.398931e+05</td>\n",
              "      <td>-237040.769010</td>\n",
              "      <td>-3.316696e+04</td>\n",
              "      <td>-217.060953</td>\n",
              "      <td>-0.876734</td>\n",
              "    </tr>\n",
              "    <tr>\n",
              "      <th>...</th>\n",
              "      <td>...</td>\n",
              "      <td>...</td>\n",
              "      <td>...</td>\n",
              "      <td>...</td>\n",
              "      <td>...</td>\n",
              "      <td>...</td>\n",
              "      <td>...</td>\n",
              "      <td>...</td>\n",
              "      <td>...</td>\n",
              "    </tr>\n",
              "    <tr>\n",
              "      <th>2770404</th>\n",
              "      <td>-2.405192e+06</td>\n",
              "      <td>2.127034e+05</td>\n",
              "      <td>1.077785e+06</td>\n",
              "      <td>1.449035e+05</td>\n",
              "      <td>1.969331e+05</td>\n",
              "      <td>-195611.778348</td>\n",
              "      <td>-1.502845e+05</td>\n",
              "      <td>498.611834</td>\n",
              "      <td>0.187773</td>\n",
              "    </tr>\n",
              "    <tr>\n",
              "      <th>2770405</th>\n",
              "      <td>-2.303583e+06</td>\n",
              "      <td>4.549286e+06</td>\n",
              "      <td>-6.257881e+05</td>\n",
              "      <td>6.480706e+06</td>\n",
              "      <td>2.549977e+06</td>\n",
              "      <td>25430.134025</td>\n",
              "      <td>-2.786147e+06</td>\n",
              "      <td>333.257674</td>\n",
              "      <td>0.004775</td>\n",
              "    </tr>\n",
              "    <tr>\n",
              "      <th>2770406</th>\n",
              "      <td>2.477712e+06</td>\n",
              "      <td>7.230815e+06</td>\n",
              "      <td>-1.151458e+06</td>\n",
              "      <td>3.608675e+06</td>\n",
              "      <td>4.097883e+06</td>\n",
              "      <td>161658.648620</td>\n",
              "      <td>-2.889074e+06</td>\n",
              "      <td>390.949930</td>\n",
              "      <td>0.820312</td>\n",
              "    </tr>\n",
              "    <tr>\n",
              "      <th>2770407</th>\n",
              "      <td>-2.627043e+06</td>\n",
              "      <td>4.506905e+05</td>\n",
              "      <td>-4.029139e+05</td>\n",
              "      <td>8.281125e+05</td>\n",
              "      <td>3.218433e+05</td>\n",
              "      <td>-29622.953408</td>\n",
              "      <td>-3.706036e+05</td>\n",
              "      <td>481.322449</td>\n",
              "      <td>-0.733837</td>\n",
              "    </tr>\n",
              "    <tr>\n",
              "      <th>2770408</th>\n",
              "      <td>7.181208e+06</td>\n",
              "      <td>7.851927e+04</td>\n",
              "      <td>-9.838440e+05</td>\n",
              "      <td>4.337329e+05</td>\n",
              "      <td>5.602860e+05</td>\n",
              "      <td>-220593.831742</td>\n",
              "      <td>-3.922461e+05</td>\n",
              "      <td>482.995221</td>\n",
              "      <td>0.239813</td>\n",
              "    </tr>\n",
              "  </tbody>\n",
              "</table>\n",
              "<p>2770409 rows × 9 columns</p>\n",
              "</div>"
            ],
            "text/plain": [
              "                   V1            V2  ...          V8        V9\n",
              "0       -2.677341e+06 -1.871498e+05  ... -237.475532 -0.853641\n",
              "1       -2.663304e+06 -1.982403e+05  ... -237.710338  0.147419\n",
              "2       -2.622138e+06 -9.552482e+02  ... -240.593865  0.186120\n",
              "3       -2.649561e+06 -4.294947e+04  ... -241.529704 -0.814516\n",
              "4       -6.362400e+05  1.194789e+06  ... -217.060953 -0.876734\n",
              "...               ...           ...  ...         ...       ...\n",
              "2770404 -2.405192e+06  2.127034e+05  ...  498.611834  0.187773\n",
              "2770405 -2.303583e+06  4.549286e+06  ...  333.257674  0.004775\n",
              "2770406  2.477712e+06  7.230815e+06  ...  390.949930  0.820312\n",
              "2770407 -2.627043e+06  4.506905e+05  ...  481.322449 -0.733837\n",
              "2770408  7.181208e+06  7.851927e+04  ...  482.995221  0.239813\n",
              "\n",
              "[2770409 rows x 9 columns]"
            ]
          },
          "metadata": {
            "tags": []
          },
          "execution_count": 34
        }
      ]
    },
    {
      "cell_type": "code",
      "metadata": {
        "id": "0efyVdPQNWVM",
        "colab_type": "code",
        "colab": {}
      },
      "source": [
        "import pickle\n",
        "# save the model to disk\n",
        "filename = 'pca_model.sav'\n",
        "pickle.dump(pca_model, open(filename, 'wb'))"
      ],
      "execution_count": null,
      "outputs": []
    },
    {
      "cell_type": "code",
      "metadata": {
        "id": "p3gpAay9Np8S",
        "colab_type": "code",
        "colab": {
          "base_uri": "https://localhost:8080/",
          "height": 51
        },
        "outputId": "a6387bc0-91c8-4e38-b0eb-ca49b912298b"
      },
      "source": [
        "!pwd\n",
        "!ls "
      ],
      "execution_count": null,
      "outputs": [
        {
          "output_type": "stream",
          "text": [
            "/content\n",
            "drive  pca_model.sav  sample_data\n"
          ],
          "name": "stdout"
        }
      ]
    },
    {
      "cell_type": "code",
      "metadata": {
        "id": "nFDDajVtNvS4",
        "colab_type": "code",
        "colab": {}
      },
      "source": [
        "# some time later...\n",
        "filename = 'pca_model.sav'\n",
        "# load the model from disk\n",
        "loaded_model = pickle.load(open(filename, 'rb'))\n",
        "##principalComponents = loaded_model.transform(X)\n",
        "##feat_cols = ['V'+str(i+1) for i in range(principalComponents.shape[1])]\n",
        "##principalDf = pd.DataFrame(data = principalComponents, columns= feat_cols)\n",
        "##principalDf"
      ],
      "execution_count": null,
      "outputs": []
    },
    {
      "cell_type": "code",
      "metadata": {
        "id": "ZCpbX8gC4GbE",
        "colab_type": "code",
        "colab": {
          "base_uri": "https://localhost:8080/",
          "height": 419
        },
        "outputId": "3de268b3-0755-44c1-83f4-cc6a9aaacb50"
      },
      "source": [
        "## reset index to avoide NAN\n",
        "principalDf.reset_index(drop=True, inplace=True)\n",
        "y.reset_index(drop=True, inplace=True)\n",
        "finalDf = pd.concat([principalDf, y], axis = 1)\n",
        "finalDf\n"
      ],
      "execution_count": null,
      "outputs": [
        {
          "output_type": "execute_result",
          "data": {
            "text/html": [
              "<div>\n",
              "<style scoped>\n",
              "    .dataframe tbody tr th:only-of-type {\n",
              "        vertical-align: middle;\n",
              "    }\n",
              "\n",
              "    .dataframe tbody tr th {\n",
              "        vertical-align: top;\n",
              "    }\n",
              "\n",
              "    .dataframe thead th {\n",
              "        text-align: right;\n",
              "    }\n",
              "</style>\n",
              "<table border=\"1\" class=\"dataframe\">\n",
              "  <thead>\n",
              "    <tr style=\"text-align: right;\">\n",
              "      <th></th>\n",
              "      <th>V1</th>\n",
              "      <th>V2</th>\n",
              "      <th>V3</th>\n",
              "      <th>V4</th>\n",
              "      <th>V5</th>\n",
              "      <th>V6</th>\n",
              "      <th>V7</th>\n",
              "      <th>V8</th>\n",
              "      <th>V9</th>\n",
              "      <th>isFraud</th>\n",
              "    </tr>\n",
              "  </thead>\n",
              "  <tbody>\n",
              "    <tr>\n",
              "      <th>0</th>\n",
              "      <td>-2.677341e+06</td>\n",
              "      <td>-1.871498e+05</td>\n",
              "      <td>-9.484251e+05</td>\n",
              "      <td>-5.122220e+04</td>\n",
              "      <td>-2.477970e+04</td>\n",
              "      <td>-136986.638519</td>\n",
              "      <td>5.282471e+03</td>\n",
              "      <td>-237.475532</td>\n",
              "      <td>-0.853641</td>\n",
              "      <td>1</td>\n",
              "    </tr>\n",
              "    <tr>\n",
              "      <th>1</th>\n",
              "      <td>-2.663304e+06</td>\n",
              "      <td>-1.982403e+05</td>\n",
              "      <td>1.154865e+06</td>\n",
              "      <td>-4.235211e+04</td>\n",
              "      <td>-3.002437e+04</td>\n",
              "      <td>-94082.328429</td>\n",
              "      <td>5.681930e+03</td>\n",
              "      <td>-237.710338</td>\n",
              "      <td>0.147419</td>\n",
              "      <td>1</td>\n",
              "    </tr>\n",
              "    <tr>\n",
              "      <th>2</th>\n",
              "      <td>-2.622138e+06</td>\n",
              "      <td>-9.552482e+02</td>\n",
              "      <td>1.247828e+06</td>\n",
              "      <td>6.834653e+04</td>\n",
              "      <td>-8.190740e+04</td>\n",
              "      <td>-116686.495513</td>\n",
              "      <td>5.273612e+03</td>\n",
              "      <td>-240.593865</td>\n",
              "      <td>0.186120</td>\n",
              "      <td>0</td>\n",
              "    </tr>\n",
              "    <tr>\n",
              "      <th>3</th>\n",
              "      <td>-2.649561e+06</td>\n",
              "      <td>-4.294947e+04</td>\n",
              "      <td>-4.245836e+05</td>\n",
              "      <td>8.545102e+04</td>\n",
              "      <td>-1.050315e+05</td>\n",
              "      <td>228247.336947</td>\n",
              "      <td>1.263912e+04</td>\n",
              "      <td>-241.529704</td>\n",
              "      <td>-0.814516</td>\n",
              "      <td>0</td>\n",
              "    </tr>\n",
              "    <tr>\n",
              "      <th>4</th>\n",
              "      <td>-6.362400e+05</td>\n",
              "      <td>1.194789e+06</td>\n",
              "      <td>2.403827e+04</td>\n",
              "      <td>-1.098034e+06</td>\n",
              "      <td>5.398931e+05</td>\n",
              "      <td>-237040.769010</td>\n",
              "      <td>-3.316696e+04</td>\n",
              "      <td>-217.060953</td>\n",
              "      <td>-0.876734</td>\n",
              "      <td>0</td>\n",
              "    </tr>\n",
              "    <tr>\n",
              "      <th>...</th>\n",
              "      <td>...</td>\n",
              "      <td>...</td>\n",
              "      <td>...</td>\n",
              "      <td>...</td>\n",
              "      <td>...</td>\n",
              "      <td>...</td>\n",
              "      <td>...</td>\n",
              "      <td>...</td>\n",
              "      <td>...</td>\n",
              "      <td>...</td>\n",
              "    </tr>\n",
              "    <tr>\n",
              "      <th>2770404</th>\n",
              "      <td>-2.405192e+06</td>\n",
              "      <td>2.127034e+05</td>\n",
              "      <td>1.077785e+06</td>\n",
              "      <td>1.449035e+05</td>\n",
              "      <td>1.969331e+05</td>\n",
              "      <td>-195611.778348</td>\n",
              "      <td>-1.502845e+05</td>\n",
              "      <td>498.611834</td>\n",
              "      <td>0.187773</td>\n",
              "      <td>1</td>\n",
              "    </tr>\n",
              "    <tr>\n",
              "      <th>2770405</th>\n",
              "      <td>-2.303583e+06</td>\n",
              "      <td>4.549286e+06</td>\n",
              "      <td>-6.257881e+05</td>\n",
              "      <td>6.480706e+06</td>\n",
              "      <td>2.549977e+06</td>\n",
              "      <td>25430.134025</td>\n",
              "      <td>-2.786147e+06</td>\n",
              "      <td>333.257674</td>\n",
              "      <td>0.004775</td>\n",
              "      <td>1</td>\n",
              "    </tr>\n",
              "    <tr>\n",
              "      <th>2770406</th>\n",
              "      <td>2.477712e+06</td>\n",
              "      <td>7.230815e+06</td>\n",
              "      <td>-1.151458e+06</td>\n",
              "      <td>3.608675e+06</td>\n",
              "      <td>4.097883e+06</td>\n",
              "      <td>161658.648620</td>\n",
              "      <td>-2.889074e+06</td>\n",
              "      <td>390.949930</td>\n",
              "      <td>0.820312</td>\n",
              "      <td>1</td>\n",
              "    </tr>\n",
              "    <tr>\n",
              "      <th>2770407</th>\n",
              "      <td>-2.627043e+06</td>\n",
              "      <td>4.506905e+05</td>\n",
              "      <td>-4.029139e+05</td>\n",
              "      <td>8.281125e+05</td>\n",
              "      <td>3.218433e+05</td>\n",
              "      <td>-29622.953408</td>\n",
              "      <td>-3.706036e+05</td>\n",
              "      <td>481.322449</td>\n",
              "      <td>-0.733837</td>\n",
              "      <td>1</td>\n",
              "    </tr>\n",
              "    <tr>\n",
              "      <th>2770408</th>\n",
              "      <td>7.181208e+06</td>\n",
              "      <td>7.851927e+04</td>\n",
              "      <td>-9.838440e+05</td>\n",
              "      <td>4.337329e+05</td>\n",
              "      <td>5.602860e+05</td>\n",
              "      <td>-220593.831742</td>\n",
              "      <td>-3.922461e+05</td>\n",
              "      <td>482.995221</td>\n",
              "      <td>0.239813</td>\n",
              "      <td>1</td>\n",
              "    </tr>\n",
              "  </tbody>\n",
              "</table>\n",
              "<p>2770409 rows × 10 columns</p>\n",
              "</div>"
            ],
            "text/plain": [
              "                   V1            V2  ...        V9  isFraud\n",
              "0       -2.677341e+06 -1.871498e+05  ... -0.853641        1\n",
              "1       -2.663304e+06 -1.982403e+05  ...  0.147419        1\n",
              "2       -2.622138e+06 -9.552482e+02  ...  0.186120        0\n",
              "3       -2.649561e+06 -4.294947e+04  ... -0.814516        0\n",
              "4       -6.362400e+05  1.194789e+06  ... -0.876734        0\n",
              "...               ...           ...  ...       ...      ...\n",
              "2770404 -2.405192e+06  2.127034e+05  ...  0.187773        1\n",
              "2770405 -2.303583e+06  4.549286e+06  ...  0.004775        1\n",
              "2770406  2.477712e+06  7.230815e+06  ...  0.820312        1\n",
              "2770407 -2.627043e+06  4.506905e+05  ... -0.733837        1\n",
              "2770408  7.181208e+06  7.851927e+04  ...  0.239813        1\n",
              "\n",
              "[2770409 rows x 10 columns]"
            ]
          },
          "metadata": {
            "tags": []
          },
          "execution_count": 35
        }
      ]
    },
    {
      "cell_type": "code",
      "metadata": {
        "id": "2T5k3bxsykAQ",
        "colab_type": "code",
        "colab": {
          "base_uri": "https://localhost:8080/",
          "height": 85
        },
        "outputId": "a1013506-987e-4c6b-c3cd-543b26958d26"
      },
      "source": [
        "print(principalDf.shape)\n",
        "print(y.shape)\n",
        "print(finalDf.shape)\n",
        "print(finalDf.isnull().values.any())"
      ],
      "execution_count": null,
      "outputs": [
        {
          "output_type": "stream",
          "text": [
            "(2770409, 9)\n",
            "(2770409,)\n",
            "(2770409, 10)\n",
            "False\n"
          ],
          "name": "stdout"
        }
      ]
    },
    {
      "cell_type": "code",
      "metadata": {
        "id": "ZV2cOLSRJnpx",
        "colab_type": "code",
        "colab": {
          "base_uri": "https://localhost:8080/",
          "height": 102
        },
        "outputId": "c3f34974-6f06-464a-d944-e74742616a96"
      },
      "source": [
        "from sklearn.model_selection import train_test_split\n",
        "x = finalDf.drop( ['isFraud'],axis=1)\n",
        "y = finalDf.isFraud\n",
        "x_train, x_test, y_train, y_test = train_test_split(x,y,test_size=0.2)\n",
        "print('size of test dataset = {}, size of traing data = {}, percentage = {}%'.format(len(x_test),len(x_train),len(x_test)*100/(len(x_test) + len(x_train))))\n",
        "\n",
        "\n",
        "# 1-Change the performance metric\n",
        "from sklearn.metrics import accuracy_score\n",
        "from sklearn.metrics import precision_score\n",
        "from sklearn.metrics import f1_score\n",
        "from sklearn.metrics import recall_score\n",
        "\n",
        "# 2. Change the algorithm\n",
        "from sklearn.ensemble import RandomForestClassifier\n",
        "\n",
        "# train model\n",
        "model_rfc = RandomForestClassifier(n_estimators=10).fit(x_train, y_train)\n",
        "\n",
        "# predict on test set\n",
        "rfc_pred = model_rfc.predict(x_test)\n",
        "\n",
        "\n",
        "acc_test_rfc= accuracy_score(y_test, rfc_pred)*100\n",
        "acc_pr_rfc= precision_score(y_test, rfc_pred, average='micro')*100\n",
        "acc_recall_rfc= recall_score(y_test, rfc_pred)*100\n",
        "acc_f1_rfc= f1_score(y_test, rfc_pred)*100\n",
        "\n",
        "\n",
        "print('accuracy_score= ', acc_test_rfc)\n",
        "print('pr_score= ', acc_pr_rfc)\n",
        "print('recall_score= ', acc_recall_rfc)\n",
        "print('f1_score= ', acc_f1_rfc)"
      ],
      "execution_count": null,
      "outputs": [
        {
          "output_type": "stream",
          "text": [
            "size of test dataset = 554082, size of traing data = 2216327, percentage = 20.000007219150675%\n",
            "accuracy_score=  99.92528181749272\n",
            "pr_score=  99.92528181749272\n",
            "recall_score=  77.25118483412322\n",
            "f1_score=  86.30046326935805\n"
          ],
          "name": "stdout"
        }
      ]
    },
    {
      "cell_type": "markdown",
      "metadata": {
        "id": "hcx5vmpFA2Yx",
        "colab_type": "text"
      },
      "source": [
        "Later , our partner would use the same input feilds (featuers ) and the number of componenets to generate a PCA data, then call our API "
      ]
    },
    {
      "cell_type": "markdown",
      "metadata": {
        "id": "nbBfZm9sforQ",
        "colab_type": "text"
      },
      "source": [
        "# How to Deal with Imbalanced Dataset"
      ]
    },
    {
      "cell_type": "code",
      "metadata": {
        "id": "XS8Kp_VNFwQX",
        "colab_type": "code",
        "colab": {
          "base_uri": "https://localhost:8080/",
          "height": 34
        },
        "outputId": "39d4fab0-b72a-4022-bb9f-2454915c9d46"
      },
      "source": [
        "print(creditcard.shape)"
      ],
      "execution_count": 9,
      "outputs": [
        {
          "output_type": "stream",
          "text": [
            "(284807, 31)\n"
          ],
          "name": "stdout"
        }
      ]
    },
    {
      "cell_type": "code",
      "metadata": {
        "id": "WsSJVyyYFwQa",
        "colab_type": "code",
        "colab": {
          "base_uri": "https://localhost:8080/",
          "height": 105
        },
        "outputId": "82600a1e-6cd7-4960-e362-e33b332e2301"
      },
      "source": [
        "print(creditcard.columns)"
      ],
      "execution_count": 10,
      "outputs": [
        {
          "output_type": "stream",
          "text": [
            "Index(['Time', 'V1', 'V2', 'V3', 'V4', 'V5', 'V6', 'V7', 'V8', 'V9', 'V10',\n",
            "       'V11', 'V12', 'V13', 'V14', 'V15', 'V16', 'V17', 'V18', 'V19', 'V20',\n",
            "       'V21', 'V22', 'V23', 'V24', 'V25', 'V26', 'V27', 'V28', 'Amount',\n",
            "       'Class'],\n",
            "      dtype='object')\n"
          ],
          "name": "stdout"
        }
      ]
    },
    {
      "cell_type": "code",
      "metadata": {
        "id": "UteXbVeOqDjr",
        "colab_type": "code",
        "colab": {
          "base_uri": "https://localhost:8080/",
          "height": 603
        },
        "outputId": "5ca5c119-3514-4509-eccd-6ad465e7829b"
      },
      "source": [
        "## check null values \n",
        "print (f'Number if the records = {creditcard.shape[0]}')\n",
        "pd.isnull(creditcard).sum()"
      ],
      "execution_count": null,
      "outputs": [
        {
          "output_type": "stream",
          "text": [
            "Number if the records = 284807\n"
          ],
          "name": "stdout"
        },
        {
          "output_type": "execute_result",
          "data": {
            "text/plain": [
              "Time      0\n",
              "V1        0\n",
              "V2        0\n",
              "V3        0\n",
              "V4        0\n",
              "V5        0\n",
              "V6        0\n",
              "V7        0\n",
              "V8        0\n",
              "V9        0\n",
              "V10       0\n",
              "V11       0\n",
              "V12       0\n",
              "V13       0\n",
              "V14       0\n",
              "V15       0\n",
              "V16       0\n",
              "V17       0\n",
              "V18       0\n",
              "V19       0\n",
              "V20       0\n",
              "V21       0\n",
              "V22       0\n",
              "V23       0\n",
              "V24       0\n",
              "V25       0\n",
              "V26       0\n",
              "V27       0\n",
              "V28       0\n",
              "Amount    0\n",
              "Class     0\n",
              "dtype: int64"
            ]
          },
          "metadata": {
            "tags": []
          },
          "execution_count": 20
        }
      ]
    },
    {
      "cell_type": "code",
      "metadata": {
        "id": "MQ3w5P7UFwQc",
        "colab_type": "code",
        "colab": {
          "base_uri": "https://localhost:8080/",
          "height": 70
        },
        "outputId": "1f114573-2d0f-4f6c-a840-a1b593254e5c"
      },
      "source": [
        "creditcard[\"Class\"].value_counts()"
      ],
      "execution_count": null,
      "outputs": [
        {
          "output_type": "execute_result",
          "data": {
            "text/plain": [
              "0    284315\n",
              "1       492\n",
              "Name: Class, dtype: int64"
            ]
          },
          "metadata": {
            "tags": []
          },
          "execution_count": 21
        }
      ]
    },
    {
      "cell_type": "code",
      "metadata": {
        "id": "8vQ7quX2W8Rt",
        "colab_type": "code",
        "colab": {
          "base_uri": "https://localhost:8080/",
          "height": 34
        },
        "outputId": "8d685738-e2eb-496f-e14f-fd9f46516613"
      },
      "source": [
        "## the data is highly unbalanced\n",
        "positive =  creditcard[creditcard.Class == 1]\n",
        "positive_cnt = positive.shape[0]\n",
        "\n",
        "negative =  creditcard[creditcard.Class == 0]\n",
        "negative_cnt = negative.shape[0]\n",
        "\n",
        "fruad_pct= positive_cnt / (positive_cnt  + negative_cnt )\n",
        "print(f'records count = {creditcard.shape[0]} , fruad records = {positive_cnt} ,  the positive class (frauds) {round(fruad_pct*100,3)}%')\n"
      ],
      "execution_count": 11,
      "outputs": [
        {
          "output_type": "stream",
          "text": [
            "records count = 284807 , fruad records = 492 ,  the positive class (frauds) 0.173%\n"
          ],
          "name": "stdout"
        }
      ]
    },
    {
      "cell_type": "markdown",
      "metadata": {
        "id": "u-UqsmKseXC0",
        "colab_type": "text"
      },
      "source": [
        "Observations:\n",
        "\n",
        "We will use the Credit Card Fraud Detection Dataset available on Kaggle. The dataset is high imbalanced, with only 0.17% of transactions being classified as fraudulent."
      ]
    },
    {
      "cell_type": "markdown",
      "metadata": {
        "id": "CEmzNbMFpPau",
        "colab_type": "text"
      },
      "source": [
        "**Imbalanced Classes**\n",
        "\n",
        "Most machine learning algorithms work best when the number of samples in each class are about equal. This is because most algorithms are designed to maximize accuracy and reduce error.\n",
        "\n",
        "\n",
        "https://towardsdatascience.com/methods-for-dealing-with-imbalanced-data-5b761be45a18\n",
        "\n",
        "\n",
        "We explored 5 different methods for dealing with imbalanced datasets:\n",
        "Change the performance metric\n",
        "\n",
        "\n",
        "1.   Change the performance metric\n",
        "2.   Change the algorithm\n",
        "3.   Oversample minority class\n",
        "4.   Undersample majority class\n",
        "5.   Generate synthetic samples\n",
        "\n",
        "\n"
      ]
    },
    {
      "cell_type": "code",
      "metadata": {
        "id": "N1-eO1jrs3Iu",
        "colab_type": "code",
        "colab": {
          "base_uri": "https://localhost:8080/",
          "height": 34
        },
        "outputId": "c20646ce-fed9-46ad-b7c4-eb5626ae58c4"
      },
      "source": [
        "\n",
        "from sklearn.model_selection import train_test_split\n",
        "x = creditcard.drop( ['Class','Time'],axis=1)\n",
        "y = creditcard.Class\n",
        "x_train, x_test, y_train, y_test = train_test_split(x,y,test_size=0.2)\n",
        "print('size of test dataset = {}, size of traing data = {}, percentage = {}%'.format(len(x_test),len(x_train),len(x_test)*100/(len(x_test) + len(x_train))))"
      ],
      "execution_count": 12,
      "outputs": [
        {
          "output_type": "stream",
          "text": [
            "size of test dataset = 56962, size of traing data = 227845, percentage = 20.000210668979342%\n"
          ],
          "name": "stdout"
        }
      ]
    },
    {
      "cell_type": "code",
      "metadata": {
        "id": "AWLnDq36sX3V",
        "colab_type": "code",
        "colab": {
          "base_uri": "https://localhost:8080/",
          "height": 52
        },
        "outputId": "582486b2-3795-485b-feff-34cf0822fc6a"
      },
      "source": [
        "# Modeling the data as is\n",
        "# Train model\n",
        "from sklearn.linear_model import LogisticRegression\n",
        "model_lr = LogisticRegression(solver='liblinear').fit(x_train, y_train)\n",
        " \n",
        "# Checking accuracy\n",
        "acc_model_lr = model_lr.score(x_train, y_train)\n",
        "acc_test_lr = model_lr.score(x_test, y_test)\n",
        "\n",
        "print(acc_model_lr*100)\n",
        "print(acc_test_lr*100)\n",
        "\n",
        "# Predict on training set\n",
        "lr_pred = model_lr.predict(x_test)\n"
      ],
      "execution_count": 14,
      "outputs": [
        {
          "output_type": "stream",
          "text": [
            "99.91836555553118\n",
            "99.91748885221726\n"
          ],
          "name": "stdout"
        }
      ]
    },
    {
      "cell_type": "markdown",
      "metadata": {
        "id": "1e3XmIUXwiTV",
        "colab_type": "text"
      },
      "source": [
        "high score !\n",
        "but Let’s see what happens when we apply these F1 and recall scores to our logistic regression from above."
      ]
    },
    {
      "cell_type": "markdown",
      "metadata": {
        "id": "Q1TA1eHS9FFt",
        "colab_type": "text"
      },
      "source": [
        "**1-Change the performance metric**"
      ]
    },
    {
      "cell_type": "markdown",
      "metadata": {
        "id": "TR5HokN_JkQT",
        "colab_type": "text"
      },
      "source": [
        "**To be reminded**\n",
        "\n",
        " Classifying a single point can result in \n",
        " \n",
        "\n",
        "1.   a true positive (truth = 1, guess = 1)\n",
        "2.   a true negative (truth = 0, guess = 0)\n",
        "1.   a false positive (truth = 0, guess = 1) \n",
        "2.   a false negative (truth = 1, guess = 0)\n",
        "\n",
        "TP            FP\n",
        "\n",
        "FN            TN\n",
        "\n",
        "\n",
        "1) Accuracy measures how many classifications your algorithm got correct out of every classification it made.\n",
        "**CA =(TP+TN)/ (TP+TN+ FP+FN)**\n",
        "\n",
        "2) Precision measures : actually positive TP divided by total number of points predicted by model as positive\n",
        ". **P = TP/(TP+FP)**\n",
        "\n",
        "3) Recall measures : actually are positive TP divided by total number of positive points\n",
        "**R =TP/(TP+FN)**\n",
        "\n",
        "4) Precision and recall are tied to each other. As one goes up, the other will go down.\n",
        "\n",
        "5) F1 score is a combination of precision and recall, **F1** score will be low if either precision or recall is low."
      ]
    },
    {
      "cell_type": "markdown",
      "metadata": {
        "id": "-GxORYKIe9BA",
        "colab_type": "text"
      },
      "source": [
        "**which error we have to reduce depends on problem, requirements**\n",
        "\n",
        "**Minimizing False Positive:** high Precision\n",
        "\n",
        "Minimizing genuine trans but model detects fraud/Positive\n",
        "\n",
        "if we don't want to interupt transaction by mistake \n",
        "\n",
        "**Minimizing False Negative:** high recall\n",
        "\n",
        "Minimizing fraud trans but model detects genuine/Negative\n",
        "\n",
        "if we don't want credit-card holder to loss money\n"
      ]
    },
    {
      "cell_type": "code",
      "metadata": {
        "id": "vwUjJMaxu0dj",
        "colab_type": "code",
        "colab": {}
      },
      "source": [
        "# 1-Change the performance metric\n",
        "from sklearn.metrics import accuracy_score\n",
        "from sklearn.metrics import precision_score\n",
        "from sklearn.metrics import f1_score\n",
        "from sklearn.metrics import recall_score,roc_auc_score\n"
      ],
      "execution_count": 15,
      "outputs": []
    },
    {
      "cell_type": "code",
      "metadata": {
        "id": "wCybQiSzIYGM",
        "colab_type": "code",
        "colab": {
          "base_uri": "https://localhost:8080/",
          "height": 105
        },
        "outputId": "bf07cfe5-4838-4fb1-90ce-f435bb827637"
      },
      "source": [
        "acc_test_lr= accuracy_score(y_test, lr_pred)*100\n",
        "acc_pr_lr= precision_score(y_test, lr_pred, average='micro')*100\n",
        "acc_recall_lr= recall_score(y_test, lr_pred)*100\n",
        "acc_f1_lr= f1_score(y_test, lr_pred)*100\n",
        "roc_lr=roc_auc_score(y_test, lr_pred)*100\n",
        "\n",
        "print('accuracy_score= ', acc_test_lr)\n",
        "print('pr_score= ', acc_pr_lr)\n",
        "print('recall_score= ', acc_recall_lr)\n",
        "print('f1_score= ',acc_f1_lr)\n",
        "print('roc_score=',roc_lr)"
      ],
      "execution_count": 16,
      "outputs": [
        {
          "output_type": "stream",
          "text": [
            "accuracy_score=  99.91748885221726\n",
            "pr_score=  99.91748885221726\n",
            "recall_score=  62.264150943396224\n",
            "f1_score=  73.74301675977654\n",
            "roc_score= 81.1259195690669\n"
          ],
          "name": "stdout"
        }
      ]
    },
    {
      "cell_type": "markdown",
      "metadata": {
        "id": "FMRToKt2wsZE",
        "colab_type": "text"
      },
      "source": [
        "These scores don’t look quite so impressive"
      ]
    },
    {
      "cell_type": "markdown",
      "metadata": {
        "id": "PYmVAyWK9M8c",
        "colab_type": "text"
      },
      "source": [
        "**2. Change the algorithm**\n",
        "\n",
        "Decision trees frequently perform well on imbalanced data. They work by learning a hierarchy of if/else questions and this can force both classes to be addressed"
      ]
    },
    {
      "cell_type": "code",
      "metadata": {
        "id": "ApEW48HYwJqa",
        "colab_type": "code",
        "colab": {
          "base_uri": "https://localhost:8080/",
          "height": 52
        },
        "outputId": "5690545b-d9a3-4cd5-fecb-b738dbf669f9"
      },
      "source": [
        "# 2. Change the algorithm\n",
        "##edited\n",
        "### import sklearn new libraries\n",
        "from sklearn.preprocessing import StandardScaler, Normalizer, scale\n",
        "from sklearn.ensemble import RandomForestClassifier, AdaBoostClassifier, GradientBoostingClassifier, ExtraTreesClassifier\n",
        "from sklearn.model_selection import RandomizedSearchCV\n",
        "from sklearn.svm import SVC, LinearSVC\n",
        "from sklearn.metrics import confusion_matrix, log_loss, auc, roc_curve, roc_auc_score, recall_score, precision_recall_curve\n",
        "from sklearn.metrics import make_scorer, precision_score, fbeta_score, f1_score, classification_report\n",
        "from sklearn.model_selection import cross_val_score, train_test_split, KFold, StratifiedShuffleSplit, GridSearchCV\n",
        "from sklearn.ensemble import RandomForestClassifier\n",
        "\n",
        "# train model noting that we used same ratio of training and testing in LR model\n",
        "model_rfc = RandomForestClassifier(n_estimators=10).fit(x_train, y_train)\n",
        "\n",
        "# predict on test set\n",
        "rfc_pred = model_rfc.predict(x_test)\n",
        "print(confusion_matrix(y_test,rfc_pred))\n"
      ],
      "execution_count": 17,
      "outputs": [
        {
          "output_type": "stream",
          "text": [
            "[[56855     1]\n",
            " [   22    84]]\n"
          ],
          "name": "stdout"
        }
      ]
    },
    {
      "cell_type": "markdown",
      "metadata": {
        "id": "q42-RL_soP5N",
        "colab_type": "text"
      },
      "source": [
        "from the code above we can see from the confusion matrix that the code has missed 37 fraud transactions and classified them as FN, 2 non Fraud transactions were classified as FP , this model Precision score will be higher than recall score as we'll see in the below results\n"
      ]
    },
    {
      "cell_type": "code",
      "metadata": {
        "id": "GK9cFgI9yY3k",
        "colab_type": "code",
        "colab": {
          "base_uri": "https://localhost:8080/",
          "height": 105
        },
        "outputId": "82f39995-a94b-408c-9d62-cceb350d67d6"
      },
      "source": [
        "acc_test_rfc= accuracy_score(y_test, rfc_pred)*100\n",
        "acc_pr_rfc= precision_score(y_test, rfc_pred, average='micro')*100\n",
        "acc_recall_rfc= recall_score(y_test, rfc_pred)*100\n",
        "acc_f1_rfc= f1_score(y_test, rfc_pred)*100\n",
        "roc_rfc=roc_auc_score(y_test, rfc_pred)*100\n",
        "\n",
        "print('accuracy_score= ', acc_test_rfc)\n",
        "print('pr_score= ', acc_pr_rfc)\n",
        "print('recall_score= ', acc_recall_rfc)\n",
        "print('f1_score= ', acc_f1_rfc)\n",
        "print('roc_score=',roc_rfc)"
      ],
      "execution_count": 18,
      "outputs": [
        {
          "output_type": "stream",
          "text": [
            "accuracy_score=  99.95962220427653\n",
            "pr_score=  99.95962220427653\n",
            "recall_score=  79.24528301886792\n",
            "f1_score=  87.95811518324608\n",
            "roc_score= 89.62176209477236\n"
          ],
          "name": "stdout"
        }
      ]
    },
    {
      "cell_type": "markdown",
      "metadata": {
        "id": "Z3J6Oj9ZwP_7",
        "colab_type": "text"
      },
      "source": [
        "While our accuracy score is slightly lower, both F1 and recall have increased as compared to logistic regression! It appears that for this specific problem, random forest may be a better choice of model."
      ]
    },
    {
      "cell_type": "code",
      "metadata": {
        "id": "MtUcKfecjbyo",
        "colab_type": "code",
        "colab": {}
      },
      "source": [
        "del x,y,x_train, x_test, y_train, y_test"
      ],
      "execution_count": 14,
      "outputs": []
    },
    {
      "cell_type": "markdown",
      "metadata": {
        "id": "1J-3EtLM9TsA",
        "colab_type": "text"
      },
      "source": [
        "**3. Resampling Techniques — Oversample minority class**\n",
        "\n",
        "we would split into test and train sets BEFORE trying oversampling techniques."
      ]
    },
    {
      "cell_type": "code",
      "metadata": {
        "id": "JcryIcmZ-GpU",
        "colab_type": "code",
        "colab": {
          "base_uri": "https://localhost:8080/",
          "height": 70
        },
        "outputId": "3a687b6f-bdd8-4b5d-e325-3c7306322e8c"
      },
      "source": [
        "from sklearn.utils import resample\n",
        "\n",
        "# Separate input features and target\n",
        "y = creditcard.Class\n",
        "X = creditcard.drop(['Class','Time'], axis=1)\n",
        "\n",
        "# setting up testing and training sets\n",
        "X_train, X_test, y_train, y_test = train_test_split(X, y, test_size=0.25, random_state=27)\n",
        "\n",
        "# concatenate our training data back together\n",
        "X = pd.concat([X_train, y_train], axis=1)\n",
        "\n",
        "# separate minority and majority classes\n",
        "not_fraud = X[X.Class==0]\n",
        "fraud = X[X.Class==1]\n",
        "\n",
        "# upsample minority\n",
        "fraud_upsampled = resample(fraud,\n",
        "                          replace=True, # sample with replacement\n",
        "                          n_samples=len(not_fraud), # match number in majority class\n",
        "                          random_state=27) # reproducible results\n",
        "\n",
        "# combine majority and upsampled minority\n",
        "upsampled = pd.concat([not_fraud, fraud_upsampled])\n",
        "\n",
        "# check new class counts\n",
        "upsampled.Class.value_counts()\n"
      ],
      "execution_count": 19,
      "outputs": [
        {
          "output_type": "execute_result",
          "data": {
            "text/plain": [
              "1    213245\n",
              "0    213245\n",
              "Name: Class, dtype: int64"
            ]
          },
          "metadata": {
            "tags": []
          },
          "execution_count": 19
        }
      ]
    },
    {
      "cell_type": "code",
      "metadata": {
        "id": "sAf4TYcP-Kua",
        "colab_type": "code",
        "colab": {}
      },
      "source": [
        "# trying logistic regression again with the balanced dataset\n",
        "y_train = upsampled.Class\n",
        "X_train = upsampled.drop('Class', axis=1)\n",
        "\n",
        "##upsampled = LogisticRegression(solver='liblinear').fit(X_train, y_train)\n",
        "upsampled = RandomForestClassifier(n_estimators=10).fit(X_train, y_train)\n",
        "\n",
        "upsampled_pred = upsampled.predict(X_test)\n",
        "   "
      ],
      "execution_count": 20,
      "outputs": []
    },
    {
      "cell_type": "code",
      "metadata": {
        "id": "k7PERFMF_I_K",
        "colab_type": "code",
        "colab": {
          "base_uri": "https://localhost:8080/",
          "height": 105
        },
        "outputId": "fef603dc-170b-4aa7-ad2a-7e0c66ff3ea4"
      },
      "source": [
        "acc_test_ups= accuracy_score(y_test, upsampled_pred)*100\n",
        "acc_pr_ups = precision_score(y_test, upsampled_pred, average='micro')*100\n",
        "acc_recall_ups= recall_score(y_test, upsampled_pred)*100\n",
        "acc_f1_ups= f1_score(y_test, upsampled_pred)*100\n",
        "roc_ups=roc_auc_score(y_test, upsampled_pred)*100\n",
        "\n",
        "print('accuracy_score= ', acc_test_ups)\n",
        "print('pr_score= ', acc_pr_ups)\n",
        "print('recall_score= ', acc_recall_ups)\n",
        "print('f1_score= ', acc_f1_ups)\n",
        "print('roc score=',roc_ups)"
      ],
      "execution_count": 21,
      "outputs": [
        {
          "output_type": "stream",
          "text": [
            "accuracy_score=  99.9522485323446\n",
            "pr_score=  99.9522485323446\n",
            "recall_score=  78.78787878787878\n",
            "f1_score=  85.95041322314049\n",
            "roc score= 89.3897182035637\n"
          ],
          "name": "stdout"
        }
      ]
    },
    {
      "cell_type": "markdown",
      "metadata": {
        "id": "BDcZlMI2hQLt",
        "colab_type": "text"
      },
      "source": [
        "Our recall score increased, but F1 is much lower than with either our baseline logistic regression or random forest from above. Let’s see if undersampling might perform better here."
      ]
    },
    {
      "cell_type": "code",
      "metadata": {
        "id": "GSnI-caylaWy",
        "colab_type": "code",
        "colab": {}
      },
      "source": [
        "del X,y,X_train, X_test, y_train, y_test"
      ],
      "execution_count": 22,
      "outputs": []
    },
    {
      "cell_type": "markdown",
      "metadata": {
        "id": "t3bb_dal9VpK",
        "colab_type": "text"
      },
      "source": [
        "**4. Resampling techniques — Undersample majority class**\n",
        "\n",
        "Again, we would split into test and train sets BEFORE trying Undersample techniques."
      ]
    },
    {
      "cell_type": "code",
      "metadata": {
        "id": "YUtI9f2d_bQl",
        "colab_type": "code",
        "colab": {
          "base_uri": "https://localhost:8080/",
          "height": 70
        },
        "outputId": "55137edd-1e3c-4269-d55c-c36a2fa72cc3"
      },
      "source": [
        "from sklearn.utils import resample\n",
        "\n",
        "# Separate input features and target\n",
        "y = creditcard.Class\n",
        "X = creditcard.drop(['Class','Time'], axis=1)\n",
        "\n",
        "# setting up testing and training sets\n",
        "X_train, X_test, y_train, y_test = train_test_split(X, y, test_size=0.25, random_state=27)\n",
        "\n",
        "# concatenate our training data back together\n",
        "X = pd.concat([X_train, y_train], axis=1)\n",
        "\n",
        "# separate minority and majority classes\n",
        "not_fraud = X[X.Class==0]\n",
        "fraud = X[X.Class==1]\n",
        "\n",
        "# downsample majority\n",
        "not_fraud_downsampled = resample(not_fraud,\n",
        "                                replace = False, # sample without replacement\n",
        "                                n_samples = len(fraud), # match minority n\n",
        "                                random_state = 27) # reproducible results\n",
        "\n",
        "# combine minority and downsampled majority\n",
        "downsampled = pd.concat([not_fraud_downsampled, fraud])\n",
        "\n",
        "# checking counts\n",
        "downsampled.Class.value_counts()\n"
      ],
      "execution_count": 23,
      "outputs": [
        {
          "output_type": "execute_result",
          "data": {
            "text/plain": [
              "1    360\n",
              "0    360\n",
              "Name: Class, dtype: int64"
            ]
          },
          "metadata": {
            "tags": []
          },
          "execution_count": 23
        }
      ]
    },
    {
      "cell_type": "code",
      "metadata": {
        "id": "u60PDkvu_jVb",
        "colab_type": "code",
        "colab": {}
      },
      "source": [
        "# trying logistic regression again with the undersampled dataset\n",
        "\n",
        "y_train = downsampled.Class\n",
        "X_train = downsampled.drop('Class', axis=1)\n",
        "\n",
        "##undersampled = LogisticRegression(solver='liblinear').fit(X_train, y_train)\n",
        "undersampled = RandomForestClassifier(n_estimators=10).fit(X_train, y_train)\n",
        "\n",
        "undersampled_pred = undersampled.predict(X_test)\n"
      ],
      "execution_count": 24,
      "outputs": []
    },
    {
      "cell_type": "code",
      "metadata": {
        "id": "V2gCZU4HRB8d",
        "colab_type": "code",
        "colab": {
          "base_uri": "https://localhost:8080/",
          "height": 105
        },
        "outputId": "a60338f9-ea9b-4a41-f839-4416644c3ab1"
      },
      "source": [
        "acc_test_undr= accuracy_score(y_test, undersampled_pred)*100\n",
        "acc_pr_undr = precision_score(y_test, undersampled_pred, average='micro')*100\n",
        "acc_recall_undr= recall_score(y_test, undersampled_pred)*100\n",
        "acc_f1_undr= f1_score(y_test, undersampled_pred)*100\n",
        "roc_undr=roc_auc_score(y_test, undersampled_pred)*100\n",
        "\n",
        "print('accuracy_score= ', acc_test_undr)\n",
        "print('pr_score= ',acc_pr_undr )\n",
        "print('recall_score= ', acc_recall_undr)\n",
        "print('f1_score= ', acc_f1_undr)\n",
        "print('roc_score=',roc_undr)"
      ],
      "execution_count": 25,
      "outputs": [
        {
          "output_type": "stream",
          "text": [
            "accuracy_score=  97.45512766495324\n",
            "pr_score=  97.45512766495324\n",
            "recall_score=  87.12121212121212\n",
            "f1_score=  11.263467189030363\n",
            "roc_score= 92.29776660654669\n"
          ],
          "name": "stdout"
        }
      ]
    },
    {
      "cell_type": "code",
      "metadata": {
        "id": "f3rIRd-sS3tT",
        "colab_type": "code",
        "colab": {}
      },
      "source": [
        "del X,y,X_train, X_test, y_train, y_test"
      ],
      "execution_count": 26,
      "outputs": []
    },
    {
      "cell_type": "markdown",
      "metadata": {
        "id": "3nOE32ubhk3T",
        "colab_type": "text"
      },
      "source": [
        "Undersampling underperformed oversampling in this case. Let’s try one more method for handling imbalanced data."
      ]
    },
    {
      "cell_type": "markdown",
      "metadata": {
        "id": "9dvc8wHL9deR",
        "colab_type": "text"
      },
      "source": [
        "**5. Generate synthetic samples SMOTE**"
      ]
    },
    {
      "cell_type": "markdown",
      "metadata": {
        "id": "r8uADKcDh1K4",
        "colab_type": "text"
      },
      "source": [
        "Again, it’s important to generate the new samples only in the training set to ensure our model generalizes well to unseen data."
      ]
    },
    {
      "cell_type": "code",
      "metadata": {
        "id": "ldo42zMI__x-",
        "colab_type": "code",
        "colab": {
          "base_uri": "https://localhost:8080/",
          "height": 107
        },
        "outputId": "1f21f122-0669-4f22-be6d-ed132d1ae85b"
      },
      "source": [
        "from imblearn.over_sampling import SMOTE\n",
        "\n",
        "# Separate input features and target\n",
        "y = creditcard.Class\n",
        "X = creditcard.drop('Class', axis=1)\n",
        "\n",
        "# setting up testing and training sets\n",
        "X_train, X_test, y_train, y_test = train_test_split(X, y, test_size=0.25, random_state=27)\n",
        "\n",
        "sm = SMOTE(random_state=27, ratio=1.0)\n",
        "print(X_train.shape[0], y_train.shape[0])\n",
        "X_train, y_train = sm.fit_sample(X_train, y_train)\n",
        "print(X_train.shape[0], y_train.shape[0])\n"
      ],
      "execution_count": 27,
      "outputs": [
        {
          "output_type": "stream",
          "text": [
            "213605 213605\n"
          ],
          "name": "stdout"
        },
        {
          "output_type": "stream",
          "text": [
            "/usr/local/lib/python3.6/dist-packages/sklearn/utils/deprecation.py:87: FutureWarning: Function safe_indexing is deprecated; safe_indexing is deprecated in version 0.22 and will be removed in version 0.24.\n",
            "  warnings.warn(msg, category=FutureWarning)\n"
          ],
          "name": "stderr"
        },
        {
          "output_type": "stream",
          "text": [
            "426490 426490\n"
          ],
          "name": "stdout"
        }
      ]
    },
    {
      "cell_type": "code",
      "metadata": {
        "id": "ZBKvXYHTMDXe",
        "colab_type": "code",
        "colab": {
          "base_uri": "https://localhost:8080/",
          "height": 34
        },
        "outputId": "227f1323-9341-4a6a-f3b3-25d2ecad1b6e"
      },
      "source": [
        "\n",
        "lst= list(y_train)\n",
        "print(lst.count(0),lst.count(1))"
      ],
      "execution_count": 28,
      "outputs": [
        {
          "output_type": "stream",
          "text": [
            "213245 213245\n"
          ],
          "name": "stdout"
        }
      ]
    },
    {
      "cell_type": "code",
      "metadata": {
        "id": "THYFI4moACvm",
        "colab_type": "code",
        "colab": {}
      },
      "source": [
        "\n",
        "smote = RandomForestClassifier(n_estimators=10).fit(X_train, y_train)\n",
        "smote_pred = smote.predict(X_test)\n"
      ],
      "execution_count": 29,
      "outputs": []
    },
    {
      "cell_type": "code",
      "metadata": {
        "id": "0SASyGi5pQTv",
        "colab_type": "code",
        "colab": {
          "base_uri": "https://localhost:8080/",
          "height": 52
        },
        "outputId": "78ab2728-8623-48a9-e1e6-a254d4a51284"
      },
      "source": [
        "#### Edited\n",
        "print(confusion_matrix(y_test,smote_pred))"
      ],
      "execution_count": null,
      "outputs": [
        {
          "output_type": "stream",
          "text": [
            "[[71058    12]\n",
            " [   21   111]]\n"
          ],
          "name": "stdout"
        }
      ]
    },
    {
      "cell_type": "markdown",
      "metadata": {
        "id": "NMJSHUh2pieh",
        "colab_type": "text"
      },
      "source": [
        "from the above confusion matrix result we can see a great ennhancement when using SMOTE with RF, the model has missed only 21 fraud transactions as FN and detected 12 non frauds as frauds (FP), this model has a higher recall score than normal RF model with imbalanced data"
      ]
    },
    {
      "cell_type": "code",
      "metadata": {
        "id": "-C9A2oLbR9-h",
        "colab_type": "code",
        "colab": {
          "base_uri": "https://localhost:8080/",
          "height": 105
        },
        "outputId": "695da596-be31-4d03-8eae-ced3a33542b0"
      },
      "source": [
        "acc_test_smote= accuracy_score(y_test, smote_pred)*100\n",
        "acc_pr_smote = precision_score(y_test, smote_pred, average='micro')*100\n",
        "acc_recall_smote= recall_score(y_test, smote_pred)*100\n",
        "acc_f1_smote= f1_score(y_test, smote_pred)*100\n",
        "roc_smote=roc_auc_score(y_test, smote_pred)*100\n",
        "\n",
        "\n",
        "print('accuracy_score= ', acc_test_smote)\n",
        "print('pr_score= ', acc_pr_smote)\n",
        "print('recall_score= ', acc_recall_smote)\n",
        "print('f1_score= ', acc_f1_smote)\n",
        "print('roc score=',roc_smote)"
      ],
      "execution_count": 30,
      "outputs": [
        {
          "output_type": "stream",
          "text": [
            "accuracy_score=  99.94943962248252\n",
            "pr_score=  99.94943962248252\n",
            "recall_score=  83.33333333333334\n",
            "f1_score=  85.9375\n",
            "roc score= 91.65681722245674\n"
          ],
          "name": "stdout"
        }
      ]
    },
    {
      "cell_type": "code",
      "metadata": {
        "id": "Vo_xM-Qpphj5",
        "colab_type": "code",
        "colab": {}
      },
      "source": [
        ""
      ],
      "execution_count": null,
      "outputs": []
    },
    {
      "cell_type": "markdown",
      "metadata": {
        "id": "1p-jWtPjqQpe",
        "colab_type": "text"
      },
      "source": [
        "Try with Hyperparameters tuning in RF using RandomizedSearch CV that uses Kfold Cross Validation when iterating,and considering ROC_AUC score\n"
      ]
    },
    {
      "cell_type": "code",
      "metadata": {
        "id": "m1vvKYn9qi5D",
        "colab_type": "code",
        "colab": {
          "base_uri": "https://localhost:8080/",
          "height": 52
        },
        "outputId": "0a2938ec-485e-4977-86a8-fa96f2a05784"
      },
      "source": [
        "#########################\n",
        "## we will use same ratio of training and testing sizes as SMOTE as we need to compare their results correctly \n",
        "## we will use tuned RF with imbalanced data first and the scoring will be roc_auc\n",
        "# Separate input features and target\n",
        "y = creditcard.Class\n",
        "X = creditcard.drop('Class', axis=1)\n",
        "len(X.columns)\n",
        "# setting up testing and training sets\n",
        "X_train, X_test, y_train, y_test = train_test_split(X, y, test_size=0.25, random_state=27)\n",
        "\n",
        "random_forest = RandomForestClassifier()\n",
        "param_grid = {\"criterion\":['gini','entropy'],\n",
        "             'n_estimators':range(20,200,20),\n",
        "             'max_depth':range(20,200,20),\n",
        "             }\n",
        "tuned_rfc = RandomizedSearchCV(random_forest,param_grid,cv=5,scoring='roc_auc')\n",
        "tuned_rfc.fit(X_train,y_train)\n",
        "tuned_preds = tuned_rfc.predict(X_test)\n",
        "confusion_matrix(y_test,tuned_preds)"
      ],
      "execution_count": 31,
      "outputs": [
        {
          "output_type": "execute_result",
          "data": {
            "text/plain": [
              "array([[71068,     2],\n",
              "       [   26,   106]])"
            ]
          },
          "metadata": {
            "tags": []
          },
          "execution_count": 31
        }
      ]
    },
    {
      "cell_type": "code",
      "metadata": {
        "id": "oW8yS1-o11W4",
        "colab_type": "code",
        "colab": {
          "base_uri": "https://localhost:8080/",
          "height": 105
        },
        "outputId": "955506bf-f9ed-438c-9ca6-b34c34f6dd51"
      },
      "source": [
        "#### now calculate scores for the tuned RF\n",
        "acc_test_tunedRF= accuracy_score(y_test, tuned_preds)*100\n",
        "acc_pr_tunedRF = precision_score(y_test, tuned_preds, average='micro')*100\n",
        "acc_recall_tunedRF= recall_score(y_test, tuned_preds)*100\n",
        "acc_f1_tunedRF= f1_score(y_test, tuned_preds)*100\n",
        "roc_tundedRF=roc_auc_score(y_test, tuned_preds)*100\n",
        "\n",
        "print('accuracy_score= ', acc_test_tunedRF)\n",
        "print('pr_score= ', acc_pr_tunedRF)\n",
        "print('recall_score= ', acc_recall_tunedRF)\n",
        "print('f1_score= ', acc_f1_tunedRF)\n",
        "print('roc_score=',roc_tundedRF)"
      ],
      "execution_count": 32,
      "outputs": [
        {
          "output_type": "stream",
          "text": [
            "accuracy_score=  99.96067526193085\n",
            "pr_score=  99.96067526193085\n",
            "recall_score=  80.3030303030303\n",
            "f1_score=  88.33333333333331\n",
            "roc_score= 90.15010808805658\n"
          ],
          "name": "stdout"
        }
      ]
    },
    {
      "cell_type": "markdown",
      "metadata": {
        "id": "schXNLHStWLI",
        "colab_type": "text"
      },
      "source": [
        "Now we try the same above code but with recall score as a scoring in the RandomizedSearch"
      ]
    },
    {
      "cell_type": "code",
      "metadata": {
        "id": "_smgAQ4JthbM",
        "colab_type": "code",
        "colab": {
          "base_uri": "https://localhost:8080/",
          "height": 52
        },
        "outputId": "f9699a43-788e-437a-cf70-4eb8e7e1c55a"
      },
      "source": [
        "#########################\n",
        "## we will use same ratio of training and testing sizes as SMOTE as we need to compare their results correctly \n",
        "## we will use tuned RF with imbalanced data first and the scoring will be recall\n",
        "# Separate input features and target\n",
        "# y = creditcard.Class\n",
        "# X = creditcard.drop('Class', axis=1)\n",
        "# len(X.columns)\n",
        "# # setting up testing and training sets\n",
        "# X_train, X_test, y_train, y_test = train_test_split(X, y, test_size=0.25, random_state=27)\n",
        "\n",
        "# random_forest = RandomForestClassifier()\n",
        "# param_grid = {\"criterion\":['gini','entropy'],\n",
        "#              'n_estimators':range(20,200,20),\n",
        "#              'max_depth':range(20,200,20),\n",
        "#              }\n",
        "tuned_rfc_recall = RandomizedSearchCV(random_forest,param_grid,cv=5,scoring='recall')\n",
        "tuned_rfc_recall.fit(X_train,y_train)\n",
        "tuned_preds_recall = tuned_rfc.predict(X_test)\n",
        "confusion_matrix(y_test,tuned_preds_recall)"
      ],
      "execution_count": 29,
      "outputs": [
        {
          "output_type": "execute_result",
          "data": {
            "text/plain": [
              "array([[71068,     2],\n",
              "       [   25,   107]])"
            ]
          },
          "metadata": {
            "tags": []
          },
          "execution_count": 29
        }
      ]
    },
    {
      "cell_type": "code",
      "metadata": {
        "id": "Wg0riEHft1B-",
        "colab_type": "code",
        "colab": {}
      },
      "source": [
        ""
      ],
      "execution_count": null,
      "outputs": []
    },
    {
      "cell_type": "code",
      "metadata": {
        "id": "5Ona8GIatUpW",
        "colab_type": "code",
        "colab": {
          "base_uri": "https://localhost:8080/",
          "height": 87
        },
        "outputId": "bdf5834f-d1ea-492e-f4b5-79498fbb9f6c"
      },
      "source": [
        "#### now calculate scores for the tuned RF with recall scoring\n",
        "acc_test_tunedRF_recall= accuracy_score(y_test, tuned_preds_recall)*100\n",
        "acc_pr_tunedRF_recall = precision_score(y_test, tuned_preds_recall, average='micro')*100\n",
        "acc_recall_tunedRF_recall= recall_score(y_test, tuned_preds_recall)*100\n",
        "acc_f1_tunedRF_recall= f1_score(y_test, tuned_preds_recall)*100\n",
        "\n",
        "\n",
        "print('accuracy_score= ', acc_test_tunedRF_recall)\n",
        "print('pr_score= ', acc_pr_tunedRF_recall)\n",
        "print('recall_score= ', acc_recall_tunedRF_recall)\n",
        "print('f1_score= ', acc_f1_tunedRF_recall)"
      ],
      "execution_count": 30,
      "outputs": [
        {
          "output_type": "stream",
          "text": [
            "accuracy_score=  99.96207971686188\n",
            "pr_score=  99.96207971686188\n",
            "recall_score=  81.06060606060606\n",
            "f1_score=  88.79668049792531\n"
          ],
          "name": "stdout"
        }
      ]
    },
    {
      "cell_type": "markdown",
      "metadata": {
        "id": "Xtbl1BwuMghk",
        "colab_type": "text"
      },
      "source": [
        "from the above results we see that there is no difference when we changed the scoring from roc_auc to recall so we'll stick to roc_recall"
      ]
    },
    {
      "cell_type": "markdown",
      "metadata": {
        "id": "xKcWIgHzF2l4",
        "colab_type": "text"
      },
      "source": [
        "Now we'll Try to use The Tuned RF with SMOTE together to see if this enhances our results"
      ]
    },
    {
      "cell_type": "code",
      "metadata": {
        "id": "WHj_HKH-GBOV",
        "colab_type": "code",
        "colab": {
          "base_uri": "https://localhost:8080/",
          "height": 330
        },
        "outputId": "7b8786cc-0b03-4b80-d8f8-248300033660"
      },
      "source": [
        "from imblearn.over_sampling import SMOTE\n",
        "\n",
        "# Separate input features and target\n",
        "y = creditcard.Class\n",
        "X = creditcard.drop('Class', axis=1)\n",
        "\n",
        "# setting up testing and training sets\n",
        "X_train, X_test, y_train, y_test = train_test_split(X, y, test_size=0.25, random_state=27)\n",
        "\n",
        "sm = SMOTE(random_state=27, ratio=1.0)\n",
        "print(X_train.shape[0], y_train.shape[0])\n",
        "X_train, y_train = sm.fit_sample(X_train, y_train)\n",
        "#### fit the tuned RF model with the SMOTE trained data\n",
        "random_forest = RandomForestClassifier(verbose=5,n_jobs=-1)\n",
        "param_grid = {\"criterion\":['gini','entropy'],\n",
        "             'n_estimators':range(20,200,20),\n",
        "             'max_depth':range(20,200,20),\n",
        "             }\n",
        "tuned_rf_smote = RandomizedSearchCV(random_forest,param_grid,cv=5,scoring='roc_auc')\n",
        "tuned_rf_smote.fit(X_train,y_train)\n",
        "tuned_preds_smote = tuned_rf_smote.predict(X_test)\n",
        "confusion_matrix(y_test,tuned_preds_smote)\n"
      ],
      "execution_count": 1,
      "outputs": [
        {
          "output_type": "stream",
          "text": [
            "/usr/local/lib/python3.6/dist-packages/sklearn/externals/six.py:31: FutureWarning: The module is deprecated in version 0.21 and will be removed in version 0.23 since we've dropped support for Python 2.7. Please rely on the official version of six (https://pypi.org/project/six/).\n",
            "  \"(https://pypi.org/project/six/).\", FutureWarning)\n",
            "/usr/local/lib/python3.6/dist-packages/sklearn/utils/deprecation.py:144: FutureWarning: The sklearn.neighbors.base module is  deprecated in version 0.22 and will be removed in version 0.24. The corresponding classes / functions should instead be imported from sklearn.neighbors. Anything that cannot be imported from sklearn.neighbors is now part of the private API.\n",
            "  warnings.warn(message, FutureWarning)\n"
          ],
          "name": "stderr"
        },
        {
          "output_type": "error",
          "ename": "NameError",
          "evalue": "ignored",
          "traceback": [
            "\u001b[0;31m---------------------------------------------------------------------------\u001b[0m",
            "\u001b[0;31mNameError\u001b[0m                                 Traceback (most recent call last)",
            "\u001b[0;32m<ipython-input-1-08d30a05f253>\u001b[0m in \u001b[0;36m<module>\u001b[0;34m()\u001b[0m\n\u001b[1;32m      2\u001b[0m \u001b[0;34m\u001b[0m\u001b[0m\n\u001b[1;32m      3\u001b[0m \u001b[0;31m# Separate input features and target\u001b[0m\u001b[0;34m\u001b[0m\u001b[0;34m\u001b[0m\u001b[0;34m\u001b[0m\u001b[0m\n\u001b[0;32m----> 4\u001b[0;31m \u001b[0my\u001b[0m \u001b[0;34m=\u001b[0m \u001b[0mcreditcard\u001b[0m\u001b[0;34m.\u001b[0m\u001b[0mClass\u001b[0m\u001b[0;34m\u001b[0m\u001b[0;34m\u001b[0m\u001b[0m\n\u001b[0m\u001b[1;32m      5\u001b[0m \u001b[0mX\u001b[0m \u001b[0;34m=\u001b[0m \u001b[0mcreditcard\u001b[0m\u001b[0;34m.\u001b[0m\u001b[0mdrop\u001b[0m\u001b[0;34m(\u001b[0m\u001b[0;34m'Class'\u001b[0m\u001b[0;34m,\u001b[0m \u001b[0maxis\u001b[0m\u001b[0;34m=\u001b[0m\u001b[0;36m1\u001b[0m\u001b[0;34m)\u001b[0m\u001b[0;34m\u001b[0m\u001b[0;34m\u001b[0m\u001b[0m\n\u001b[1;32m      6\u001b[0m \u001b[0;34m\u001b[0m\u001b[0m\n",
            "\u001b[0;31mNameError\u001b[0m: name 'creditcard' is not defined"
          ]
        }
      ]
    },
    {
      "cell_type": "code",
      "metadata": {
        "id": "xiZZ-8ePtf3F",
        "colab_type": "code",
        "colab": {}
      },
      "source": [
        ""
      ],
      "execution_count": null,
      "outputs": []
    },
    {
      "cell_type": "markdown",
      "metadata": {
        "id": "Lv1uUoT8IzgS",
        "colab_type": "text"
      },
      "source": [
        "generate Scores for tuned RF with SMOTE"
      ]
    },
    {
      "cell_type": "code",
      "metadata": {
        "id": "jxLRERxqI4AM",
        "colab_type": "code",
        "colab": {
          "base_uri": "https://localhost:8080/",
          "height": 238
        },
        "outputId": "9e555432-7053-4f6d-9bf0-4c0e0abd3f71"
      },
      "source": [
        "acc_test_tunedRF_smote= accuracy_score(y_test, tuned_preds_smote)*100\n",
        "acc_pr_tunedRF_smote = precision_score(y_test, tuned_preds_smote, average='micro')*100\n",
        "acc_recall_tunedRF_smote= recall_score(y_test, tuned_preds_smote)*100\n",
        "acc_f1_tunedRF_smote= f1_score(y_test, tuned_preds_smote)*100\n",
        "roc_tunedRF_smote=roc_auc_score(y_test, tuned_preds_smote)*100\n",
        "\n",
        "\n",
        "print('accuracy_score= ', acc_test_tunedRF_smote)\n",
        "print('pr_score= ', acc_pr_tunedRF_smote)\n",
        "print('recall_score= ', acc_recall_tunedRF_smote)\n",
        "print('f1_score= ', acc_f1_tunedRF_smote)\n",
        "print('roc_score=',roc_tunedRF_smote)"
      ],
      "execution_count": 31,
      "outputs": [
        {
          "output_type": "error",
          "ename": "NameError",
          "evalue": "ignored",
          "traceback": [
            "\u001b[0;31m---------------------------------------------------------------------------\u001b[0m",
            "\u001b[0;31mNameError\u001b[0m                                 Traceback (most recent call last)",
            "\u001b[0;32m<ipython-input-31-61419ca3ed20>\u001b[0m in \u001b[0;36m<module>\u001b[0;34m()\u001b[0m\n\u001b[0;32m----> 1\u001b[0;31m \u001b[0macc_test_tunedRF_smote\u001b[0m\u001b[0;34m=\u001b[0m \u001b[0maccuracy_score\u001b[0m\u001b[0;34m(\u001b[0m\u001b[0my_test\u001b[0m\u001b[0;34m,\u001b[0m \u001b[0mtuned_preds_smote\u001b[0m\u001b[0;34m)\u001b[0m\u001b[0;34m*\u001b[0m\u001b[0;36m100\u001b[0m\u001b[0;34m\u001b[0m\u001b[0;34m\u001b[0m\u001b[0m\n\u001b[0m\u001b[1;32m      2\u001b[0m \u001b[0macc_pr_tunedRF_smote\u001b[0m \u001b[0;34m=\u001b[0m \u001b[0mprecision_score\u001b[0m\u001b[0;34m(\u001b[0m\u001b[0my_test\u001b[0m\u001b[0;34m,\u001b[0m \u001b[0mtuned_preds_smote\u001b[0m\u001b[0;34m,\u001b[0m \u001b[0maverage\u001b[0m\u001b[0;34m=\u001b[0m\u001b[0;34m'micro'\u001b[0m\u001b[0;34m)\u001b[0m\u001b[0;34m*\u001b[0m\u001b[0;36m100\u001b[0m\u001b[0;34m\u001b[0m\u001b[0;34m\u001b[0m\u001b[0m\n\u001b[1;32m      3\u001b[0m \u001b[0macc_recall_tunedRF_smote\u001b[0m\u001b[0;34m=\u001b[0m \u001b[0mrecall_score\u001b[0m\u001b[0;34m(\u001b[0m\u001b[0my_test\u001b[0m\u001b[0;34m,\u001b[0m \u001b[0mtuned_preds_smote\u001b[0m\u001b[0;34m)\u001b[0m\u001b[0;34m*\u001b[0m\u001b[0;36m100\u001b[0m\u001b[0;34m\u001b[0m\u001b[0;34m\u001b[0m\u001b[0m\n\u001b[1;32m      4\u001b[0m \u001b[0macc_f1_tunedRF_smote\u001b[0m\u001b[0;34m=\u001b[0m \u001b[0mf1_score\u001b[0m\u001b[0;34m(\u001b[0m\u001b[0my_test\u001b[0m\u001b[0;34m,\u001b[0m \u001b[0mtuned_preds_smote\u001b[0m\u001b[0;34m)\u001b[0m\u001b[0;34m*\u001b[0m\u001b[0;36m100\u001b[0m\u001b[0;34m\u001b[0m\u001b[0;34m\u001b[0m\u001b[0m\n\u001b[1;32m      5\u001b[0m \u001b[0;34m\u001b[0m\u001b[0m\n",
            "\u001b[0;31mNameError\u001b[0m: name 'tuned_preds_smote' is not defined"
          ]
        }
      ]
    },
    {
      "cell_type": "code",
      "metadata": {
        "id": "WZTs-EleYzcW",
        "colab_type": "code",
        "colab": {
          "base_uri": "https://localhost:8080/",
          "height": 176
        },
        "outputId": "68ee6ed0-ae09-40aa-9ca2-0d778c18848e"
      },
      "source": [
        "from prettytable import PrettyTable\n",
        "t2 = PrettyTable(['Accuracy'  ,'Logistic'     ,'RF'              ,'Oversample'         ,'Undersample'   ,'SMOTE', 'Tuned RF' ])\n",
        "t2.add_row(['accuracy_score'  ,acc_test_lr    , acc_test_rfc     ,acc_test_ups         ,acc_test_undr   ,acc_test_smote   ,acc_test_tunedRF])\n",
        "t2.add_row(['pr_score'        ,acc_pr_lr      , acc_pr_rfc       ,acc_pr_ups           ,acc_pr_undr     ,acc_pr_smote     ,acc_pr_tunedRF])\n",
        "t2.add_row(['recall_score'    ,acc_recall_lr  , acc_recall_rfc   ,acc_recall_ups       ,acc_recall_undr ,acc_recall_smote ,acc_recall_tunedRF])\n",
        "t2.add_row(['f1_score'        ,acc_f1_lr      , acc_f1_rfc       ,acc_f1_ups           ,acc_f1_undr     ,acc_f1_smote     ,acc_f1_tunedRF])\n",
        "t2.add_row(['ROC_Score'       ,roc_lr         , roc_rfc          ,roc_ups              ,roc_undr        ,roc_smote        ,roc_tundedRF])\n",
        "print(t2)\n",
        "\n"
      ],
      "execution_count": 34,
      "outputs": [
        {
          "output_type": "stream",
          "text": [
            "+----------------+--------------------+-------------------+-------------------+--------------------+-------------------+-------------------+\n",
            "|    Accuracy    |      Logistic      |         RF        |     Oversample    |    Undersample     |       SMOTE       |      Tuned RF     |\n",
            "+----------------+--------------------+-------------------+-------------------+--------------------+-------------------+-------------------+\n",
            "| accuracy_score | 99.91748885221726  | 99.95962220427653 |  99.9522485323446 | 97.45512766495324  | 99.94943962248252 | 99.96067526193085 |\n",
            "|    pr_score    | 99.91748885221726  | 99.95962220427653 |  99.9522485323446 | 97.45512766495324  | 99.94943962248252 | 99.96067526193085 |\n",
            "|  recall_score  | 62.264150943396224 | 79.24528301886792 | 78.78787878787878 | 87.12121212121212  | 83.33333333333334 |  80.3030303030303 |\n",
            "|    f1_score    | 73.74301675977654  | 87.95811518324608 | 85.95041322314049 | 11.263467189030363 |      85.9375      | 88.33333333333331 |\n",
            "|   ROC_Score    |  81.1259195690669  | 89.62176209477236 |  89.3897182035637 | 92.29776660654669  | 91.65681722245674 | 90.15010808805658 |\n",
            "+----------------+--------------------+-------------------+-------------------+--------------------+-------------------+-------------------+\n"
          ],
          "name": "stdout"
        }
      ]
    },
    {
      "cell_type": "code",
      "metadata": {
        "id": "COlHbc8LF_35",
        "colab_type": "code",
        "colab": {}
      },
      "source": [
        ""
      ],
      "execution_count": null,
      "outputs": []
    },
    {
      "cell_type": "markdown",
      "metadata": {
        "id": "w9x2OClXL5mK",
        "colab_type": "text"
      },
      "source": [
        "Now we plot the Precision-Recall Curve as well as ROC_AUC curve for the training and testing datasets that were used in tuned RF and SMOTE\n"
      ]
    },
    {
      "cell_type": "code",
      "metadata": {
        "id": "WxR4LIRqMEDo",
        "colab_type": "code",
        "colab": {
          "base_uri": "https://localhost:8080/",
          "height": 1000
        },
        "outputId": "d8c35ed2-f9cc-44d1-c4df-66968843d7b6"
      },
      "source": [
        "from sklearn.metrics import precision_recall_curve\n",
        "from sklearn.metrics import roc_curve\n",
        "from sklearn.metrics import plot_precision_recall_curve\n",
        "from sklearn.metrics import plot_roc_curve\n",
        "import matplotlib.pyplot as plt\n",
        "#disp = plot_precision_recall_curve(classifier, X_test, y_test)\n",
        "figure, axes = plt.subplots(nrows=2, ncols=2)\n",
        "axes[0,0]=plot_precision_recall_curve(tuned_rfc, X_test, y_test)\n",
        "axes[0,1]=plot_roc_curve(tuned_rfc,X_test,y_test)\n",
        "axes[1,0]=plot_precision_recall_curve(smote, X_test, y_test)\n",
        "axes[1,1]=plot_roc_curve(smote,X_test,y_test)\n",
        "plt.show()"
      ],
      "execution_count": 35,
      "outputs": [
        {
          "output_type": "display_data",
          "data": {
            "image/png": "[encoded data removed]",
            "text/plain": [
              "<Figure size 432x288 with 4 Axes>"
            ]
          },
          "metadata": {
            "tags": [],
            "needs_background": "light"
          }
        },
        {
          "output_type": "display_data",
          "data": {
            "image/png": "[encoded data removed]",
            "text/plain": [
              "<Figure size 432x288 with 1 Axes>"
            ]
          },
          "metadata": {
            "tags": [],
            "needs_background": "light"
          }
        },
        {
          "output_type": "display_data",
          "data": {
            "image/png": "[encoded data removed]",
            "text/plain": [
              "<Figure size 432x288 with 1 Axes>"
            ]
          },
          "metadata": {
            "tags": [],
            "needs_background": "light"
          }
        },
        {
          "output_type": "display_data",
          "data": {
            "image/png": "[encoded data removed]",
            "text/plain": [
              "<Figure size 432x288 with 1 Axes>"
            ]
          },
          "metadata": {
            "tags": [],
            "needs_background": "light"
          }
        },
        {
          "output_type": "display_data",
          "data": {
            "image/png": "[encoded data removed]",
            "text/plain": [
              "<Figure size 432x288 with 1 Axes>"
            ]
          },
          "metadata": {
            "tags": [],
            "needs_background": "light"
          }
        }
      ]
    },
    {
      "cell_type": "markdown",
      "metadata": {
        "id": "VZ64Ee9f9yTh",
        "colab_type": "text"
      },
      "source": [
        "It appears for this particular dataset random forest with SMOTE are the best of the options we tried here.\n",
        "\n",
        "in our case we are looking to minimize false negative (minimize loses), so we are looking for high recall score , Undersample in this case results in a very samall quantity of data to train the model on, while SMOTE increased the recall score, so we would consider SMOTE+RF approach.\n"
      ]
    },
    {
      "cell_type": "code",
      "metadata": {
        "id": "SCAjDNPbMDKr",
        "colab_type": "code",
        "colab": {}
      },
      "source": [
        ""
      ],
      "execution_count": null,
      "outputs": []
    },
    {
      "cell_type": "markdown",
      "metadata": {
        "id": "gCd7VV7CtD7B",
        "colab_type": "text"
      },
      "source": [
        "# Execlde some Features"
      ]
    },
    {
      "cell_type": "code",
      "metadata": {
        "id": "xCu2Infx83Pt",
        "colab_type": "code",
        "colab": {
          "base_uri": "https://localhost:8080/",
          "height": 279
        },
        "outputId": "cf45805a-70da-468d-9934-f8fd1629fa70"
      },
      "source": [
        "import seaborn as sns\n",
        "import matplotlib.pyplot as plt\n",
        "col='V28'\n",
        "## V13 V20 V23 V28 seems irrelevant \n",
        "\n",
        "sns.distplot(creditcard[col][creditcard.Class == 1], bins=50, color='r')\n",
        "sns.distplot(creditcard[col][creditcard.Class == 0], bins=50, color='g')\n",
        "plt.show()"
      ],
      "execution_count": null,
      "outputs": [
        {
          "output_type": "display_data",
          "data": {
            "image/png": "[encoded data removed]",
            "text/plain": [
              "<Figure size 432x288 with 1 Axes>"
            ]
          },
          "metadata": {
            "tags": [],
            "needs_background": "light"
          }
        }
      ]
    },
    {
      "cell_type": "code",
      "metadata": {
        "id": "_FS9H8cZi24b",
        "colab_type": "code",
        "colab": {}
      },
      "source": [
        "from sklearn.model_selection import train_test_split\n",
        "x = creditcard.drop(['Class','Time'],axis=1)\n",
        "y = creditcard.Class\n",
        "x_train, x_test, y_train, y_test = train_test_split(x,y,test_size=0.2)"
      ],
      "execution_count": null,
      "outputs": []
    },
    {
      "cell_type": "code",
      "metadata": {
        "id": "XJ2B4GVRi6p6",
        "colab_type": "code",
        "colab": {}
      },
      "source": [
        "## logistic regression after removing some featuers\n",
        "from sklearn.linear_model import LogisticRegression\n",
        "model_lr = LogisticRegression()\n",
        "model_lr.fit(x_train, y_train)\n",
        "ACC_train_lr = model_lr.score(x_train, y_train)\n",
        "ACC_test_lr = model_lr.score(x_test, y_test)\n",
        "\n",
        "x_train2=x_train.drop(['V13','V20','V23','V28'],axis=1)\n",
        "x_test2=x_test.drop(['V13','V20','V23','V28'],axis=1)\n",
        "\n",
        "\n",
        "from sklearn.linear_model import LogisticRegression\n",
        "model_lr2 = LogisticRegression()\n",
        "model_lr2.fit(x_train2, y_train)\n",
        "ACC_train_lr2 = model_lr2.score(x_train2, y_train)\n",
        "ACC_test_lr2 = model_lr2.score(x_test2, y_test)\n"
      ],
      "execution_count": null,
      "outputs": []
    },
    {
      "cell_type": "code",
      "metadata": {
        "id": "QX4fqjh5b21k",
        "colab_type": "code",
        "colab": {
          "base_uri": "https://localhost:8080/",
          "height": 136
        },
        "outputId": "9c88be29-cd5b-429f-fb1a-a22457c870a7"
      },
      "source": [
        "## accuracy\n",
        "lr_pred = model_lr.predict(x_test)\n",
        "lr_pred2 = model_lr2.predict(x_test2)\n",
        "\n",
        "from sklearn.metrics import accuracy_score\n",
        "lr_accuracy_score=  accuracy_score(y_test, lr_pred)\n",
        "lr_accuracy_score2=  accuracy_score(y_test, lr_pred2)\n",
        "\n",
        "from sklearn.metrics import f1_score\n",
        "lr_f1_score= f1_score(y_test, lr_pred)\n",
        "lr_f1_score2= f1_score(y_test, lr_pred2)\n",
        "\n",
        "from sklearn.metrics import recall_score\n",
        "lr_recall_score= recall_score(y_test, lr_pred)\n",
        "lr_recall_score2= recall_score(y_test, lr_pred2)\n",
        "\n",
        "from prettytable import PrettyTable\n",
        "t2 = PrettyTable(['Accuracy', 'Logistic (%)' , 'Logistic v2 (%)' ])\n",
        "t2.add_row(['accuracy_score', lr_accuracy_score*100, lr_accuracy_score2*100])\n",
        "t2.add_row(['f1_score',       lr_f1_score*100      , lr_f1_score2*100      ])\n",
        "t2.add_row(['recall_score',   lr_recall_score*100  , lr_recall_score2*100  ])\n",
        "print(t2)\n"
      ],
      "execution_count": null,
      "outputs": [
        {
          "output_type": "stream",
          "text": [
            "+----------------+-------------------+-------------------+\n",
            "|    Accuracy    |    Logistic (%)   |  Logistic v2 (%)  |\n",
            "+----------------+-------------------+-------------------+\n",
            "| accuracy_score | 99.90871107053826 | 99.91222218320986 |\n",
            "|    f1_score    | 64.86486486486487 | 67.94871794871794 |\n",
            "|  recall_score  | 51.06382978723404 | 56.38297872340425 |\n",
            "+----------------+-------------------+-------------------+\n"
          ],
          "name": "stdout"
        }
      ]
    },
    {
      "cell_type": "markdown",
      "metadata": {
        "id": "QW-SX_n5qvQ-",
        "colab_type": "text"
      },
      "source": [
        "Observations:\n",
        "\n",
        "Execluding irrelevant featuers ('V13','V20','V23','V28') shows minor enhancemnt in accurecy "
      ]
    },
    {
      "cell_type": "code",
      "metadata": {
        "id": "BreCYwncEQcj",
        "colab_type": "code",
        "colab": {}
      },
      "source": [
        "## logistic regression after removing some featuers\n",
        "from sklearn.ensemble import RandomForestClassifier \n",
        "model_rf = RandomForestClassifier()\n",
        "model_rf.fit(x_train,y_train)\n",
        "ACC_train_lr = model_rf.score(x_train, y_train)\n",
        "ACC_test_lr = model_rf.score(x_test, y_test)\n",
        "\n",
        "x_train2=x_train.drop(['V13','V20','V23','V28'],axis=1)\n",
        "x_test2=x_test.drop(['V13','V20','V23','V28'],axis=1)\n",
        "\n",
        "from sklearn.ensemble import RandomForestClassifier \n",
        "model_lr2 = RandomForestClassifier()\n",
        "model_lr2.fit(x_train2,y_train)\n",
        "ACC_train_lr2 = model_lr2.score(x_train2, y_train)\n",
        "ACC_test_lr2 = model_lr2.score(x_test2, y_test)"
      ],
      "execution_count": null,
      "outputs": []
    },
    {
      "cell_type": "code",
      "metadata": {
        "id": "KEAJAsENESki",
        "colab_type": "code",
        "colab": {
          "base_uri": "https://localhost:8080/",
          "height": 136
        },
        "outputId": "5aa92fe5-0241-4002-a2ea-c779c45591d1"
      },
      "source": [
        "## accuracy\n",
        "lr_pred = model_lr.predict(x_test)\n",
        "lr_pred2 = model_lr2.predict(x_test2)\n",
        "\n",
        "from sklearn.metrics import accuracy_score\n",
        "lr_accuracy_score=  accuracy_score(y_test, lr_pred)\n",
        "lr_accuracy_score2=  accuracy_score(y_test, lr_pred2)\n",
        "\n",
        "from sklearn.metrics import f1_score\n",
        "lr_f1_score= f1_score(y_test, lr_pred)\n",
        "lr_f1_score2= f1_score(y_test, lr_pred2)\n",
        "\n",
        "from sklearn.metrics import recall_score\n",
        "lr_recall_score= recall_score(y_test, lr_pred)\n",
        "lr_recall_score2= recall_score(y_test, lr_pred2)\n",
        "\n",
        "from prettytable import PrettyTable\n",
        "t2 = PrettyTable(['Accuracy', 'Logistic (%)' , 'Logistic v2 (%)' ])\n",
        "t2.add_row(['accuracy_score', lr_accuracy_score*100, lr_accuracy_score2*100])\n",
        "t2.add_row(['f1_score',       lr_f1_score*100      , lr_f1_score2*100      ])\n",
        "t2.add_row(['recall_score',   lr_recall_score*100  , lr_recall_score2*100  ])\n",
        "print(t2)"
      ],
      "execution_count": null,
      "outputs": [
        {
          "output_type": "stream",
          "text": [
            "+----------------+-------------------+-------------------+\n",
            "|    Accuracy    |    Logistic (%)   |  Logistic v2 (%)  |\n",
            "+----------------+-------------------+-------------------+\n",
            "| accuracy_score | 99.91397773954567 | 99.96664442961975 |\n",
            "|    f1_score    | 71.00591715976331 | 89.72972972972973 |\n",
            "|  recall_score  |        60.0       |        83.0       |\n",
            "+----------------+-------------------+-------------------+\n"
          ],
          "name": "stdout"
        }
      ]
    },
    {
      "cell_type": "markdown",
      "metadata": {
        "id": "SJVWJJIhG-Tg",
        "colab_type": "text"
      },
      "source": [
        "Observations:\n",
        "\n",
        "Execluding irrelevant featuers ('V13','V20','V23','V28') shows **good** enhancemnt in accurecy when using random forest"
      ]
    },
    {
      "cell_type": "code",
      "metadata": {
        "id": "NnQFVKK0qMFG",
        "colab_type": "code",
        "colab": {}
      },
      "source": [
        ""
      ],
      "execution_count": null,
      "outputs": []
    },
    {
      "cell_type": "markdown",
      "metadata": {
        "id": "fNzOX1gDFwRo",
        "colab_type": "text"
      },
      "source": [
        "# Exploratory Data Analysis EDA"
      ]
    },
    {
      "cell_type": "code",
      "metadata": {
        "id": "7sDmHOisp_i7",
        "colab_type": "code",
        "colab": {}
      },
      "source": [
        "creditcard.shape"
      ],
      "execution_count": null,
      "outputs": []
    },
    {
      "cell_type": "code",
      "metadata": {
        "id": "rvx6lBojqH6b",
        "colab_type": "code",
        "colab": {}
      },
      "source": [
        "creditcard.head()"
      ],
      "execution_count": null,
      "outputs": []
    },
    {
      "cell_type": "code",
      "metadata": {
        "id": "9iz3cqu2Iqoj",
        "colab_type": "code",
        "colab": {
          "base_uri": "https://localhost:8080/",
          "height": 287
        },
        "outputId": "8286c673-11c2-4315-a7a6-547d319d2e40"
      },
      "source": [
        "#numerical summary -> only non-anonymized columns of interest\n",
        "pd.set_option('precision', 3)\n",
        "creditcard.loc[:, ['Time', 'Amount']].describe()"
      ],
      "execution_count": 36,
      "outputs": [
        {
          "output_type": "execute_result",
          "data": {
            "text/html": [
              "<div>\n",
              "<style scoped>\n",
              "    .dataframe tbody tr th:only-of-type {\n",
              "        vertical-align: middle;\n",
              "    }\n",
              "\n",
              "    .dataframe tbody tr th {\n",
              "        vertical-align: top;\n",
              "    }\n",
              "\n",
              "    .dataframe thead th {\n",
              "        text-align: right;\n",
              "    }\n",
              "</style>\n",
              "<table border=\"1\" class=\"dataframe\">\n",
              "  <thead>\n",
              "    <tr style=\"text-align: right;\">\n",
              "      <th></th>\n",
              "      <th>Time</th>\n",
              "      <th>Amount</th>\n",
              "    </tr>\n",
              "  </thead>\n",
              "  <tbody>\n",
              "    <tr>\n",
              "      <th>count</th>\n",
              "      <td>284807.000</td>\n",
              "      <td>284807.000</td>\n",
              "    </tr>\n",
              "    <tr>\n",
              "      <th>mean</th>\n",
              "      <td>94813.860</td>\n",
              "      <td>88.350</td>\n",
              "    </tr>\n",
              "    <tr>\n",
              "      <th>std</th>\n",
              "      <td>47488.146</td>\n",
              "      <td>250.120</td>\n",
              "    </tr>\n",
              "    <tr>\n",
              "      <th>min</th>\n",
              "      <td>0.000</td>\n",
              "      <td>0.000</td>\n",
              "    </tr>\n",
              "    <tr>\n",
              "      <th>25%</th>\n",
              "      <td>54201.500</td>\n",
              "      <td>5.600</td>\n",
              "    </tr>\n",
              "    <tr>\n",
              "      <th>50%</th>\n",
              "      <td>84692.000</td>\n",
              "      <td>22.000</td>\n",
              "    </tr>\n",
              "    <tr>\n",
              "      <th>75%</th>\n",
              "      <td>139320.500</td>\n",
              "      <td>77.165</td>\n",
              "    </tr>\n",
              "    <tr>\n",
              "      <th>max</th>\n",
              "      <td>172792.000</td>\n",
              "      <td>25691.160</td>\n",
              "    </tr>\n",
              "  </tbody>\n",
              "</table>\n",
              "</div>"
            ],
            "text/plain": [
              "             Time      Amount\n",
              "count  284807.000  284807.000\n",
              "mean    94813.860      88.350\n",
              "std     47488.146     250.120\n",
              "min         0.000       0.000\n",
              "25%     54201.500       5.600\n",
              "50%     84692.000      22.000\n",
              "75%    139320.500      77.165\n",
              "max    172792.000   25691.160"
            ]
          },
          "metadata": {
            "tags": []
          },
          "execution_count": 36
        }
      ]
    },
    {
      "cell_type": "code",
      "metadata": {
        "id": "Q14qLRxYI3Cs",
        "colab_type": "code",
        "colab": {
          "base_uri": "https://localhost:8080/",
          "height": 531
        },
        "outputId": "edf366dd-872f-437b-eb45-cc553d4bbead"
      },
      "source": [
        "#visualizations of time and amount\n",
        "plt.figure(figsize=(10,8))\n",
        "plt.title('Distribution of Time Feature')\n",
        "sns.distplot(creditcard.Time)"
      ],
      "execution_count": 37,
      "outputs": [
        {
          "output_type": "execute_result",
          "data": {
            "text/plain": [
              "<matplotlib.axes._subplots.AxesSubplot at 0x7fd43ceb5860>"
            ]
          },
          "metadata": {
            "tags": []
          },
          "execution_count": 37
        },
        {
          "output_type": "display_data",
          "data": {
            "image/png": "[encoded data removed]",
            "text/plain": [
              "<Figure size 720x576 with 1 Axes>"
            ]
          },
          "metadata": {
            "tags": [],
            "needs_background": "light"
          }
        }
      ]
    },
    {
      "cell_type": "code",
      "metadata": {
        "id": "LpE9QBt6I8Ow",
        "colab_type": "code",
        "colab": {
          "base_uri": "https://localhost:8080/",
          "height": 531
        },
        "outputId": "fe1d9d09-c51d-4c16-bf78-3875bf050901"
      },
      "source": [
        "plt.figure(figsize=(10,8))\n",
        "plt.title('Distribution of Monetary Value Feature')\n",
        "sns.distplot(creditcard.Amount)"
      ],
      "execution_count": 38,
      "outputs": [
        {
          "output_type": "execute_result",
          "data": {
            "text/plain": [
              "<matplotlib.axes._subplots.AxesSubplot at 0x7fd43c639438>"
            ]
          },
          "metadata": {
            "tags": []
          },
          "execution_count": 38
        },
        {
          "output_type": "display_data",
          "data": {
            "image/png": "[encoded data removed]",
            "text/plain": [
              "<Figure size 720x576 with 1 Axes>"
            ]
          },
          "metadata": {
            "tags": [],
            "needs_background": "light"
          }
        }
      ]
    },
    {
      "cell_type": "code",
      "metadata": {
        "id": "cvZncLxVJGIP",
        "colab_type": "code",
        "colab": {
          "base_uri": "https://localhost:8080/",
          "height": 440
        },
        "outputId": "90eb13f7-1691-48cb-98b6-f592fcf1d644"
      },
      "source": [
        "#fraud vs. normal transactions \n",
        "counts = creditcard.Class.value_counts()\n",
        "normal = counts[0]\n",
        "fraudulent = counts[1]\n",
        "perc_normal = (normal/(normal+fraudulent))*100\n",
        "perc_fraudulent = (fraudulent/(normal+fraudulent))*100\n",
        "print('Just to remember, There were {} non-fraudulent transactions ({:.3f}%) and {} fraudulent transactions ({:.3f}%).'.format(normal, perc_normal, fraudulent, perc_fraudulent))\n",
        "plt.figure(figsize=(8,6))\n",
        "sns.barplot(x=counts.index, y=counts)\n",
        "plt.title('Count of Fraudulent vs. Non-Fraudulent Transactions')\n",
        "plt.ylabel('Count')\n",
        "plt.xlabel('Class (0:Non-Fraudulent, 1:Fraudulent)')"
      ],
      "execution_count": 39,
      "outputs": [
        {
          "output_type": "stream",
          "text": [
            "Just to remember, There were 284315 non-fraudulent transactions (99.827%) and 492 fraudulent transactions (0.173%).\n"
          ],
          "name": "stdout"
        },
        {
          "output_type": "execute_result",
          "data": {
            "text/plain": [
              "Text(0.5, 0, 'Class (0:Non-Fraudulent, 1:Fraudulent)')"
            ]
          },
          "metadata": {
            "tags": []
          },
          "execution_count": 39
        },
        {
          "output_type": "display_data",
          "data": {
            "image/png": "[encoded data removed]",
            "text/plain": [
              "<Figure size 576x432 with 1 Axes>"
            ]
          },
          "metadata": {
            "tags": [],
            "needs_background": "light"
          }
        }
      ]
    },
    {
      "cell_type": "code",
      "metadata": {
        "id": "-igCw8tOJPJp",
        "colab_type": "code",
        "colab": {
          "base_uri": "https://localhost:8080/",
          "height": 1000
        },
        "outputId": "b4598c55-5c64-48ea-cf33-227920429f09"
      },
      "source": [
        "corr = creditcard.corr()\n",
        "corr"
      ],
      "execution_count": 40,
      "outputs": [
        {
          "output_type": "execute_result",
          "data": {
            "text/html": [
              "<div>\n",
              "<style scoped>\n",
              "    .dataframe tbody tr th:only-of-type {\n",
              "        vertical-align: middle;\n",
              "    }\n",
              "\n",
              "    .dataframe tbody tr th {\n",
              "        vertical-align: top;\n",
              "    }\n",
              "\n",
              "    .dataframe thead th {\n",
              "        text-align: right;\n",
              "    }\n",
              "</style>\n",
              "<table border=\"1\" class=\"dataframe\">\n",
              "  <thead>\n",
              "    <tr style=\"text-align: right;\">\n",
              "      <th></th>\n",
              "      <th>Time</th>\n",
              "      <th>V1</th>\n",
              "      <th>V2</th>\n",
              "      <th>V3</th>\n",
              "      <th>V4</th>\n",
              "      <th>V5</th>\n",
              "      <th>V6</th>\n",
              "      <th>V7</th>\n",
              "      <th>V8</th>\n",
              "      <th>V9</th>\n",
              "      <th>V10</th>\n",
              "      <th>V11</th>\n",
              "      <th>V12</th>\n",
              "      <th>V13</th>\n",
              "      <th>V14</th>\n",
              "      <th>V15</th>\n",
              "      <th>V16</th>\n",
              "      <th>V17</th>\n",
              "      <th>V18</th>\n",
              "      <th>V19</th>\n",
              "      <th>V20</th>\n",
              "      <th>V21</th>\n",
              "      <th>V22</th>\n",
              "      <th>V23</th>\n",
              "      <th>V24</th>\n",
              "      <th>V25</th>\n",
              "      <th>V26</th>\n",
              "      <th>V27</th>\n",
              "      <th>V28</th>\n",
              "      <th>Amount</th>\n",
              "      <th>Class</th>\n",
              "    </tr>\n",
              "  </thead>\n",
              "  <tbody>\n",
              "    <tr>\n",
              "      <th>Time</th>\n",
              "      <td>1.000</td>\n",
              "      <td>1.174e-01</td>\n",
              "      <td>-1.059e-02</td>\n",
              "      <td>-4.196e-01</td>\n",
              "      <td>-1.053e-01</td>\n",
              "      <td>1.731e-01</td>\n",
              "      <td>-6.302e-02</td>\n",
              "      <td>8.471e-02</td>\n",
              "      <td>-3.695e-02</td>\n",
              "      <td>-8.660e-03</td>\n",
              "      <td>3.062e-02</td>\n",
              "      <td>-2.477e-01</td>\n",
              "      <td>1.243e-01</td>\n",
              "      <td>-6.590e-02</td>\n",
              "      <td>-9.876e-02</td>\n",
              "      <td>-1.835e-01</td>\n",
              "      <td>1.190e-02</td>\n",
              "      <td>-7.330e-02</td>\n",
              "      <td>9.044e-02</td>\n",
              "      <td>2.898e-02</td>\n",
              "      <td>-5.087e-02</td>\n",
              "      <td>4.474e-02</td>\n",
              "      <td>1.441e-01</td>\n",
              "      <td>5.114e-02</td>\n",
              "      <td>-1.618e-02</td>\n",
              "      <td>-2.331e-01</td>\n",
              "      <td>-4.141e-02</td>\n",
              "      <td>-5.135e-03</td>\n",
              "      <td>-9.413e-03</td>\n",
              "      <td>-1.060e-02</td>\n",
              "      <td>-1.232e-02</td>\n",
              "    </tr>\n",
              "    <tr>\n",
              "      <th>V1</th>\n",
              "      <td>0.117</td>\n",
              "      <td>1.000e+00</td>\n",
              "      <td>4.697e-17</td>\n",
              "      <td>-1.424e-15</td>\n",
              "      <td>1.755e-17</td>\n",
              "      <td>6.391e-17</td>\n",
              "      <td>2.398e-16</td>\n",
              "      <td>1.992e-15</td>\n",
              "      <td>-9.491e-17</td>\n",
              "      <td>2.170e-16</td>\n",
              "      <td>7.434e-17</td>\n",
              "      <td>2.439e-16</td>\n",
              "      <td>2.422e-16</td>\n",
              "      <td>-2.115e-16</td>\n",
              "      <td>9.353e-16</td>\n",
              "      <td>-3.252e-16</td>\n",
              "      <td>6.309e-16</td>\n",
              "      <td>-5.012e-16</td>\n",
              "      <td>2.870e-16</td>\n",
              "      <td>1.818e-16</td>\n",
              "      <td>1.037e-16</td>\n",
              "      <td>-1.755e-16</td>\n",
              "      <td>7.477e-17</td>\n",
              "      <td>9.809e-16</td>\n",
              "      <td>7.354e-17</td>\n",
              "      <td>-9.805e-16</td>\n",
              "      <td>-8.622e-17</td>\n",
              "      <td>3.208e-17</td>\n",
              "      <td>9.821e-16</td>\n",
              "      <td>-2.277e-01</td>\n",
              "      <td>-1.013e-01</td>\n",
              "    </tr>\n",
              "    <tr>\n",
              "      <th>V2</th>\n",
              "      <td>-0.011</td>\n",
              "      <td>4.697e-17</td>\n",
              "      <td>1.000e+00</td>\n",
              "      <td>2.512e-16</td>\n",
              "      <td>-1.126e-16</td>\n",
              "      <td>-2.040e-16</td>\n",
              "      <td>5.025e-16</td>\n",
              "      <td>3.966e-16</td>\n",
              "      <td>-4.414e-17</td>\n",
              "      <td>-5.729e-17</td>\n",
              "      <td>-4.782e-16</td>\n",
              "      <td>9.469e-16</td>\n",
              "      <td>-6.588e-16</td>\n",
              "      <td>3.855e-16</td>\n",
              "      <td>-2.541e-16</td>\n",
              "      <td>2.831e-16</td>\n",
              "      <td>4.934e-17</td>\n",
              "      <td>-9.883e-16</td>\n",
              "      <td>2.637e-16</td>\n",
              "      <td>9.528e-17</td>\n",
              "      <td>-9.310e-16</td>\n",
              "      <td>8.444e-17</td>\n",
              "      <td>2.501e-16</td>\n",
              "      <td>1.060e-16</td>\n",
              "      <td>-8.142e-18</td>\n",
              "      <td>-4.262e-17</td>\n",
              "      <td>2.602e-16</td>\n",
              "      <td>-4.478e-16</td>\n",
              "      <td>-3.676e-16</td>\n",
              "      <td>-5.314e-01</td>\n",
              "      <td>9.129e-02</td>\n",
              "    </tr>\n",
              "    <tr>\n",
              "      <th>V3</th>\n",
              "      <td>-0.420</td>\n",
              "      <td>-1.424e-15</td>\n",
              "      <td>2.512e-16</td>\n",
              "      <td>1.000e+00</td>\n",
              "      <td>-3.417e-16</td>\n",
              "      <td>-1.437e-15</td>\n",
              "      <td>1.432e-15</td>\n",
              "      <td>2.169e-15</td>\n",
              "      <td>3.433e-16</td>\n",
              "      <td>-4.234e-16</td>\n",
              "      <td>6.289e-16</td>\n",
              "      <td>-5.502e-17</td>\n",
              "      <td>2.207e-16</td>\n",
              "      <td>-6.883e-16</td>\n",
              "      <td>4.271e-16</td>\n",
              "      <td>1.123e-16</td>\n",
              "      <td>1.183e-15</td>\n",
              "      <td>4.577e-17</td>\n",
              "      <td>5.428e-16</td>\n",
              "      <td>2.577e-16</td>\n",
              "      <td>-9.429e-16</td>\n",
              "      <td>-2.972e-17</td>\n",
              "      <td>4.648e-16</td>\n",
              "      <td>2.115e-17</td>\n",
              "      <td>-9.352e-17</td>\n",
              "      <td>4.771e-16</td>\n",
              "      <td>6.522e-16</td>\n",
              "      <td>6.240e-16</td>\n",
              "      <td>7.727e-16</td>\n",
              "      <td>-2.109e-01</td>\n",
              "      <td>-1.930e-01</td>\n",
              "    </tr>\n",
              "    <tr>\n",
              "      <th>V4</th>\n",
              "      <td>-0.105</td>\n",
              "      <td>1.755e-17</td>\n",
              "      <td>-1.126e-16</td>\n",
              "      <td>-3.417e-16</td>\n",
              "      <td>1.000e+00</td>\n",
              "      <td>-1.941e-15</td>\n",
              "      <td>-2.713e-16</td>\n",
              "      <td>1.556e-16</td>\n",
              "      <td>5.196e-16</td>\n",
              "      <td>3.860e-16</td>\n",
              "      <td>6.055e-16</td>\n",
              "      <td>-2.084e-16</td>\n",
              "      <td>-5.658e-16</td>\n",
              "      <td>-1.506e-16</td>\n",
              "      <td>-8.522e-17</td>\n",
              "      <td>-1.508e-16</td>\n",
              "      <td>-6.939e-16</td>\n",
              "      <td>-4.398e-16</td>\n",
              "      <td>1.494e-16</td>\n",
              "      <td>-2.657e-16</td>\n",
              "      <td>-3.223e-16</td>\n",
              "      <td>-9.977e-17</td>\n",
              "      <td>2.100e-16</td>\n",
              "      <td>6.003e-17</td>\n",
              "      <td>2.230e-16</td>\n",
              "      <td>5.395e-16</td>\n",
              "      <td>-6.180e-16</td>\n",
              "      <td>-6.403e-17</td>\n",
              "      <td>-5.864e-17</td>\n",
              "      <td>9.873e-02</td>\n",
              "      <td>1.334e-01</td>\n",
              "    </tr>\n",
              "    <tr>\n",
              "      <th>V5</th>\n",
              "      <td>0.173</td>\n",
              "      <td>6.391e-17</td>\n",
              "      <td>-2.040e-16</td>\n",
              "      <td>-1.437e-15</td>\n",
              "      <td>-1.941e-15</td>\n",
              "      <td>1.000e+00</td>\n",
              "      <td>7.926e-16</td>\n",
              "      <td>-4.210e-16</td>\n",
              "      <td>7.589e-16</td>\n",
              "      <td>4.205e-16</td>\n",
              "      <td>-6.602e-16</td>\n",
              "      <td>7.343e-16</td>\n",
              "      <td>3.761e-16</td>\n",
              "      <td>-9.579e-16</td>\n",
              "      <td>-3.635e-16</td>\n",
              "      <td>-5.133e-16</td>\n",
              "      <td>-3.517e-16</td>\n",
              "      <td>1.426e-16</td>\n",
              "      <td>1.110e-15</td>\n",
              "      <td>-3.138e-16</td>\n",
              "      <td>2.076e-16</td>\n",
              "      <td>-1.369e-16</td>\n",
              "      <td>5.060e-16</td>\n",
              "      <td>1.638e-16</td>\n",
              "      <td>-9.286e-16</td>\n",
              "      <td>5.625e-16</td>\n",
              "      <td>9.145e-16</td>\n",
              "      <td>4.466e-16</td>\n",
              "      <td>-3.299e-16</td>\n",
              "      <td>-3.864e-01</td>\n",
              "      <td>-9.497e-02</td>\n",
              "    </tr>\n",
              "    <tr>\n",
              "      <th>V6</th>\n",
              "      <td>-0.063</td>\n",
              "      <td>2.398e-16</td>\n",
              "      <td>5.025e-16</td>\n",
              "      <td>1.432e-15</td>\n",
              "      <td>-2.713e-16</td>\n",
              "      <td>7.926e-16</td>\n",
              "      <td>1.000e+00</td>\n",
              "      <td>1.429e-16</td>\n",
              "      <td>-1.707e-16</td>\n",
              "      <td>1.114e-16</td>\n",
              "      <td>2.851e-16</td>\n",
              "      <td>4.866e-16</td>\n",
              "      <td>2.141e-16</td>\n",
              "      <td>-2.268e-16</td>\n",
              "      <td>3.453e-16</td>\n",
              "      <td>-6.368e-18</td>\n",
              "      <td>-2.478e-16</td>\n",
              "      <td>3.568e-16</td>\n",
              "      <td>2.811e-16</td>\n",
              "      <td>2.717e-16</td>\n",
              "      <td>1.899e-16</td>\n",
              "      <td>-1.576e-16</td>\n",
              "      <td>-3.363e-16</td>\n",
              "      <td>-7.232e-17</td>\n",
              "      <td>-1.262e-15</td>\n",
              "      <td>1.082e-15</td>\n",
              "      <td>-2.378e-16</td>\n",
              "      <td>-2.624e-16</td>\n",
              "      <td>4.813e-16</td>\n",
              "      <td>2.160e-01</td>\n",
              "      <td>-4.364e-02</td>\n",
              "    </tr>\n",
              "    <tr>\n",
              "      <th>V7</th>\n",
              "      <td>0.085</td>\n",
              "      <td>1.992e-15</td>\n",
              "      <td>3.966e-16</td>\n",
              "      <td>2.169e-15</td>\n",
              "      <td>1.556e-16</td>\n",
              "      <td>-4.210e-16</td>\n",
              "      <td>1.429e-16</td>\n",
              "      <td>1.000e+00</td>\n",
              "      <td>-8.692e-17</td>\n",
              "      <td>7.933e-16</td>\n",
              "      <td>3.043e-17</td>\n",
              "      <td>-1.084e-15</td>\n",
              "      <td>1.510e-15</td>\n",
              "      <td>-9.892e-17</td>\n",
              "      <td>-1.729e-16</td>\n",
              "      <td>1.937e-17</td>\n",
              "      <td>2.894e-16</td>\n",
              "      <td>1.150e-15</td>\n",
              "      <td>-1.117e-16</td>\n",
              "      <td>-2.874e-16</td>\n",
              "      <td>1.744e-16</td>\n",
              "      <td>1.939e-16</td>\n",
              "      <td>-1.058e-15</td>\n",
              "      <td>2.328e-16</td>\n",
              "      <td>-2.590e-17</td>\n",
              "      <td>1.174e-15</td>\n",
              "      <td>-7.335e-16</td>\n",
              "      <td>-5.887e-16</td>\n",
              "      <td>-6.837e-17</td>\n",
              "      <td>3.973e-01</td>\n",
              "      <td>-1.873e-01</td>\n",
              "    </tr>\n",
              "    <tr>\n",
              "      <th>V8</th>\n",
              "      <td>-0.037</td>\n",
              "      <td>-9.491e-17</td>\n",
              "      <td>-4.414e-17</td>\n",
              "      <td>3.433e-16</td>\n",
              "      <td>5.196e-16</td>\n",
              "      <td>7.589e-16</td>\n",
              "      <td>-1.707e-16</td>\n",
              "      <td>-8.692e-17</td>\n",
              "      <td>1.000e+00</td>\n",
              "      <td>2.901e-16</td>\n",
              "      <td>9.052e-17</td>\n",
              "      <td>1.955e-16</td>\n",
              "      <td>-6.266e-17</td>\n",
              "      <td>-2.383e-16</td>\n",
              "      <td>-1.131e-16</td>\n",
              "      <td>2.021e-16</td>\n",
              "      <td>5.027e-16</td>\n",
              "      <td>-3.509e-16</td>\n",
              "      <td>-4.094e-16</td>\n",
              "      <td>-5.340e-16</td>\n",
              "      <td>-1.096e-16</td>\n",
              "      <td>-2.412e-16</td>\n",
              "      <td>5.476e-16</td>\n",
              "      <td>3.897e-16</td>\n",
              "      <td>-1.803e-16</td>\n",
              "      <td>-1.391e-16</td>\n",
              "      <td>-1.210e-16</td>\n",
              "      <td>1.734e-16</td>\n",
              "      <td>-4.484e-16</td>\n",
              "      <td>-1.031e-01</td>\n",
              "      <td>1.988e-02</td>\n",
              "    </tr>\n",
              "    <tr>\n",
              "      <th>V9</th>\n",
              "      <td>-0.009</td>\n",
              "      <td>2.170e-16</td>\n",
              "      <td>-5.729e-17</td>\n",
              "      <td>-4.234e-16</td>\n",
              "      <td>3.860e-16</td>\n",
              "      <td>4.205e-16</td>\n",
              "      <td>1.114e-16</td>\n",
              "      <td>7.933e-16</td>\n",
              "      <td>2.901e-16</td>\n",
              "      <td>1.000e+00</td>\n",
              "      <td>-2.772e-16</td>\n",
              "      <td>4.682e-16</td>\n",
              "      <td>-2.445e-15</td>\n",
              "      <td>-2.650e-16</td>\n",
              "      <td>2.343e-16</td>\n",
              "      <td>-1.588e-15</td>\n",
              "      <td>-3.252e-16</td>\n",
              "      <td>6.536e-16</td>\n",
              "      <td>1.204e-16</td>\n",
              "      <td>1.121e-16</td>\n",
              "      <td>-4.341e-16</td>\n",
              "      <td>4.578e-17</td>\n",
              "      <td>2.872e-17</td>\n",
              "      <td>5.929e-16</td>\n",
              "      <td>-2.346e-16</td>\n",
              "      <td>1.100e-15</td>\n",
              "      <td>-1.389e-15</td>\n",
              "      <td>-2.287e-16</td>\n",
              "      <td>9.147e-16</td>\n",
              "      <td>-4.425e-02</td>\n",
              "      <td>-9.773e-02</td>\n",
              "    </tr>\n",
              "    <tr>\n",
              "      <th>V10</th>\n",
              "      <td>0.031</td>\n",
              "      <td>7.434e-17</td>\n",
              "      <td>-4.782e-16</td>\n",
              "      <td>6.289e-16</td>\n",
              "      <td>6.055e-16</td>\n",
              "      <td>-6.602e-16</td>\n",
              "      <td>2.851e-16</td>\n",
              "      <td>3.043e-17</td>\n",
              "      <td>9.052e-17</td>\n",
              "      <td>-2.772e-16</td>\n",
              "      <td>1.000e+00</td>\n",
              "      <td>2.624e-16</td>\n",
              "      <td>1.440e-15</td>\n",
              "      <td>-8.854e-16</td>\n",
              "      <td>2.623e-16</td>\n",
              "      <td>7.615e-16</td>\n",
              "      <td>-1.706e-15</td>\n",
              "      <td>3.674e-15</td>\n",
              "      <td>3.987e-16</td>\n",
              "      <td>2.663e-17</td>\n",
              "      <td>-1.142e-15</td>\n",
              "      <td>8.090e-16</td>\n",
              "      <td>-6.708e-16</td>\n",
              "      <td>3.810e-16</td>\n",
              "      <td>-4.033e-17</td>\n",
              "      <td>-2.864e-16</td>\n",
              "      <td>-2.554e-16</td>\n",
              "      <td>-3.103e-16</td>\n",
              "      <td>-1.516e-16</td>\n",
              "      <td>-1.015e-01</td>\n",
              "      <td>-2.169e-01</td>\n",
              "    </tr>\n",
              "    <tr>\n",
              "      <th>V11</th>\n",
              "      <td>-0.248</td>\n",
              "      <td>2.439e-16</td>\n",
              "      <td>9.469e-16</td>\n",
              "      <td>-5.502e-17</td>\n",
              "      <td>-2.084e-16</td>\n",
              "      <td>7.343e-16</td>\n",
              "      <td>4.866e-16</td>\n",
              "      <td>-1.084e-15</td>\n",
              "      <td>1.955e-16</td>\n",
              "      <td>4.682e-16</td>\n",
              "      <td>2.624e-16</td>\n",
              "      <td>1.000e+00</td>\n",
              "      <td>3.176e-15</td>\n",
              "      <td>1.946e-15</td>\n",
              "      <td>3.637e-17</td>\n",
              "      <td>4.801e-16</td>\n",
              "      <td>-6.174e-16</td>\n",
              "      <td>8.720e-16</td>\n",
              "      <td>5.978e-16</td>\n",
              "      <td>3.216e-16</td>\n",
              "      <td>-2.310e-16</td>\n",
              "      <td>-3.912e-16</td>\n",
              "      <td>-3.812e-17</td>\n",
              "      <td>2.232e-16</td>\n",
              "      <td>1.220e-15</td>\n",
              "      <td>-4.568e-16</td>\n",
              "      <td>-1.111e-16</td>\n",
              "      <td>-2.636e-16</td>\n",
              "      <td>-3.092e-16</td>\n",
              "      <td>1.040e-04</td>\n",
              "      <td>1.549e-01</td>\n",
              "    </tr>\n",
              "    <tr>\n",
              "      <th>V12</th>\n",
              "      <td>0.124</td>\n",
              "      <td>2.422e-16</td>\n",
              "      <td>-6.588e-16</td>\n",
              "      <td>2.207e-16</td>\n",
              "      <td>-5.658e-16</td>\n",
              "      <td>3.761e-16</td>\n",
              "      <td>2.141e-16</td>\n",
              "      <td>1.510e-15</td>\n",
              "      <td>-6.266e-17</td>\n",
              "      <td>-2.445e-15</td>\n",
              "      <td>1.440e-15</td>\n",
              "      <td>3.176e-15</td>\n",
              "      <td>1.000e+00</td>\n",
              "      <td>-2.306e-14</td>\n",
              "      <td>1.762e-16</td>\n",
              "      <td>8.858e-16</td>\n",
              "      <td>3.530e-16</td>\n",
              "      <td>-9.870e-16</td>\n",
              "      <td>-5.882e-16</td>\n",
              "      <td>9.283e-17</td>\n",
              "      <td>1.277e-16</td>\n",
              "      <td>3.230e-16</td>\n",
              "      <td>-5.904e-16</td>\n",
              "      <td>1.392e-16</td>\n",
              "      <td>4.902e-16</td>\n",
              "      <td>5.054e-16</td>\n",
              "      <td>-5.759e-16</td>\n",
              "      <td>-2.313e-16</td>\n",
              "      <td>7.327e-16</td>\n",
              "      <td>-9.542e-03</td>\n",
              "      <td>-2.606e-01</td>\n",
              "    </tr>\n",
              "    <tr>\n",
              "      <th>V13</th>\n",
              "      <td>-0.066</td>\n",
              "      <td>-2.115e-16</td>\n",
              "      <td>3.855e-16</td>\n",
              "      <td>-6.883e-16</td>\n",
              "      <td>-1.506e-16</td>\n",
              "      <td>-9.579e-16</td>\n",
              "      <td>-2.268e-16</td>\n",
              "      <td>-9.892e-17</td>\n",
              "      <td>-2.383e-16</td>\n",
              "      <td>-2.650e-16</td>\n",
              "      <td>-8.854e-16</td>\n",
              "      <td>1.946e-15</td>\n",
              "      <td>-2.306e-14</td>\n",
              "      <td>1.000e+00</td>\n",
              "      <td>2.841e-15</td>\n",
              "      <td>-4.728e-16</td>\n",
              "      <td>3.362e-16</td>\n",
              "      <td>-3.188e-16</td>\n",
              "      <td>3.193e-16</td>\n",
              "      <td>-2.595e-16</td>\n",
              "      <td>2.346e-18</td>\n",
              "      <td>9.499e-17</td>\n",
              "      <td>-2.660e-17</td>\n",
              "      <td>-5.884e-16</td>\n",
              "      <td>-5.471e-16</td>\n",
              "      <td>8.067e-17</td>\n",
              "      <td>-2.122e-16</td>\n",
              "      <td>-4.520e-16</td>\n",
              "      <td>1.050e-15</td>\n",
              "      <td>5.293e-03</td>\n",
              "      <td>-4.570e-03</td>\n",
              "    </tr>\n",
              "    <tr>\n",
              "      <th>V14</th>\n",
              "      <td>-0.099</td>\n",
              "      <td>9.353e-16</td>\n",
              "      <td>-2.541e-16</td>\n",
              "      <td>4.271e-16</td>\n",
              "      <td>-8.522e-17</td>\n",
              "      <td>-3.635e-16</td>\n",
              "      <td>3.453e-16</td>\n",
              "      <td>-1.729e-16</td>\n",
              "      <td>-1.131e-16</td>\n",
              "      <td>2.343e-16</td>\n",
              "      <td>2.623e-16</td>\n",
              "      <td>3.637e-17</td>\n",
              "      <td>1.762e-16</td>\n",
              "      <td>2.841e-15</td>\n",
              "      <td>1.000e+00</td>\n",
              "      <td>4.166e-17</td>\n",
              "      <td>7.910e-17</td>\n",
              "      <td>4.626e-15</td>\n",
              "      <td>8.981e-17</td>\n",
              "      <td>-1.061e-16</td>\n",
              "      <td>-1.789e-16</td>\n",
              "      <td>1.634e-17</td>\n",
              "      <td>3.440e-16</td>\n",
              "      <td>7.621e-17</td>\n",
              "      <td>2.336e-16</td>\n",
              "      <td>-2.607e-16</td>\n",
              "      <td>-6.580e-18</td>\n",
              "      <td>1.286e-16</td>\n",
              "      <td>2.503e-15</td>\n",
              "      <td>3.375e-02</td>\n",
              "      <td>-3.025e-01</td>\n",
              "    </tr>\n",
              "    <tr>\n",
              "      <th>V15</th>\n",
              "      <td>-0.183</td>\n",
              "      <td>-3.252e-16</td>\n",
              "      <td>2.831e-16</td>\n",
              "      <td>1.123e-16</td>\n",
              "      <td>-1.508e-16</td>\n",
              "      <td>-5.133e-16</td>\n",
              "      <td>-6.368e-18</td>\n",
              "      <td>1.937e-17</td>\n",
              "      <td>2.021e-16</td>\n",
              "      <td>-1.588e-15</td>\n",
              "      <td>7.615e-16</td>\n",
              "      <td>4.801e-16</td>\n",
              "      <td>8.858e-16</td>\n",
              "      <td>-4.728e-16</td>\n",
              "      <td>4.166e-17</td>\n",
              "      <td>1.000e+00</td>\n",
              "      <td>1.336e-15</td>\n",
              "      <td>3.208e-16</td>\n",
              "      <td>7.538e-16</td>\n",
              "      <td>-8.556e-16</td>\n",
              "      <td>3.240e-16</td>\n",
              "      <td>1.947e-17</td>\n",
              "      <td>-8.937e-16</td>\n",
              "      <td>1.120e-16</td>\n",
              "      <td>-4.590e-16</td>\n",
              "      <td>3.870e-16</td>\n",
              "      <td>3.761e-16</td>\n",
              "      <td>-1.265e-15</td>\n",
              "      <td>-1.063e-15</td>\n",
              "      <td>-2.986e-03</td>\n",
              "      <td>-4.223e-03</td>\n",
              "    </tr>\n",
              "    <tr>\n",
              "      <th>V16</th>\n",
              "      <td>0.012</td>\n",
              "      <td>6.309e-16</td>\n",
              "      <td>4.934e-17</td>\n",
              "      <td>1.183e-15</td>\n",
              "      <td>-6.939e-16</td>\n",
              "      <td>-3.517e-16</td>\n",
              "      <td>-2.478e-16</td>\n",
              "      <td>2.894e-16</td>\n",
              "      <td>5.027e-16</td>\n",
              "      <td>-3.252e-16</td>\n",
              "      <td>-1.706e-15</td>\n",
              "      <td>-6.174e-16</td>\n",
              "      <td>3.530e-16</td>\n",
              "      <td>3.362e-16</td>\n",
              "      <td>7.910e-17</td>\n",
              "      <td>1.336e-15</td>\n",
              "      <td>1.000e+00</td>\n",
              "      <td>1.854e-15</td>\n",
              "      <td>-3.015e-15</td>\n",
              "      <td>1.042e-15</td>\n",
              "      <td>3.903e-16</td>\n",
              "      <td>-3.927e-16</td>\n",
              "      <td>3.878e-17</td>\n",
              "      <td>8.520e-16</td>\n",
              "      <td>-4.289e-16</td>\n",
              "      <td>-6.644e-16</td>\n",
              "      <td>-5.187e-16</td>\n",
              "      <td>7.820e-16</td>\n",
              "      <td>8.637e-16</td>\n",
              "      <td>-3.910e-03</td>\n",
              "      <td>-1.965e-01</td>\n",
              "    </tr>\n",
              "    <tr>\n",
              "      <th>V17</th>\n",
              "      <td>-0.073</td>\n",
              "      <td>-5.012e-16</td>\n",
              "      <td>-9.883e-16</td>\n",
              "      <td>4.577e-17</td>\n",
              "      <td>-4.398e-16</td>\n",
              "      <td>1.426e-16</td>\n",
              "      <td>3.568e-16</td>\n",
              "      <td>1.150e-15</td>\n",
              "      <td>-3.509e-16</td>\n",
              "      <td>6.536e-16</td>\n",
              "      <td>3.674e-15</td>\n",
              "      <td>8.720e-16</td>\n",
              "      <td>-9.870e-16</td>\n",
              "      <td>-3.188e-16</td>\n",
              "      <td>4.626e-15</td>\n",
              "      <td>3.208e-16</td>\n",
              "      <td>1.854e-15</td>\n",
              "      <td>1.000e+00</td>\n",
              "      <td>-5.585e-15</td>\n",
              "      <td>-3.917e-16</td>\n",
              "      <td>-9.887e-16</td>\n",
              "      <td>-7.754e-16</td>\n",
              "      <td>-8.390e-16</td>\n",
              "      <td>5.368e-16</td>\n",
              "      <td>-5.544e-17</td>\n",
              "      <td>4.822e-16</td>\n",
              "      <td>4.870e-16</td>\n",
              "      <td>8.844e-16</td>\n",
              "      <td>-2.183e-16</td>\n",
              "      <td>7.309e-03</td>\n",
              "      <td>-3.265e-01</td>\n",
              "    </tr>\n",
              "    <tr>\n",
              "      <th>V18</th>\n",
              "      <td>0.090</td>\n",
              "      <td>2.870e-16</td>\n",
              "      <td>2.637e-16</td>\n",
              "      <td>5.428e-16</td>\n",
              "      <td>1.494e-16</td>\n",
              "      <td>1.110e-15</td>\n",
              "      <td>2.811e-16</td>\n",
              "      <td>-1.117e-16</td>\n",
              "      <td>-4.094e-16</td>\n",
              "      <td>1.204e-16</td>\n",
              "      <td>3.987e-16</td>\n",
              "      <td>5.978e-16</td>\n",
              "      <td>-5.882e-16</td>\n",
              "      <td>3.193e-16</td>\n",
              "      <td>8.981e-17</td>\n",
              "      <td>7.538e-16</td>\n",
              "      <td>-3.015e-15</td>\n",
              "      <td>-5.585e-15</td>\n",
              "      <td>1.000e+00</td>\n",
              "      <td>-2.424e-15</td>\n",
              "      <td>-4.943e-16</td>\n",
              "      <td>-1.141e-15</td>\n",
              "      <td>-8.663e-17</td>\n",
              "      <td>-3.624e-16</td>\n",
              "      <td>-1.126e-16</td>\n",
              "      <td>-2.311e-16</td>\n",
              "      <td>3.184e-16</td>\n",
              "      <td>2.435e-16</td>\n",
              "      <td>8.845e-16</td>\n",
              "      <td>3.565e-02</td>\n",
              "      <td>-1.115e-01</td>\n",
              "    </tr>\n",
              "    <tr>\n",
              "      <th>V19</th>\n",
              "      <td>0.029</td>\n",
              "      <td>1.818e-16</td>\n",
              "      <td>9.528e-17</td>\n",
              "      <td>2.577e-16</td>\n",
              "      <td>-2.657e-16</td>\n",
              "      <td>-3.138e-16</td>\n",
              "      <td>2.717e-16</td>\n",
              "      <td>-2.874e-16</td>\n",
              "      <td>-5.340e-16</td>\n",
              "      <td>1.121e-16</td>\n",
              "      <td>2.663e-17</td>\n",
              "      <td>3.216e-16</td>\n",
              "      <td>9.283e-17</td>\n",
              "      <td>-2.595e-16</td>\n",
              "      <td>-1.061e-16</td>\n",
              "      <td>-8.556e-16</td>\n",
              "      <td>1.042e-15</td>\n",
              "      <td>-3.917e-16</td>\n",
              "      <td>-2.424e-15</td>\n",
              "      <td>1.000e+00</td>\n",
              "      <td>2.938e-16</td>\n",
              "      <td>4.033e-16</td>\n",
              "      <td>-9.690e-16</td>\n",
              "      <td>5.734e-16</td>\n",
              "      <td>3.127e-17</td>\n",
              "      <td>7.415e-16</td>\n",
              "      <td>5.614e-16</td>\n",
              "      <td>-1.113e-16</td>\n",
              "      <td>-1.376e-15</td>\n",
              "      <td>-5.615e-02</td>\n",
              "      <td>3.478e-02</td>\n",
              "    </tr>\n",
              "    <tr>\n",
              "      <th>V20</th>\n",
              "      <td>-0.051</td>\n",
              "      <td>1.037e-16</td>\n",
              "      <td>-9.310e-16</td>\n",
              "      <td>-9.429e-16</td>\n",
              "      <td>-3.223e-16</td>\n",
              "      <td>2.076e-16</td>\n",
              "      <td>1.899e-16</td>\n",
              "      <td>1.744e-16</td>\n",
              "      <td>-1.096e-16</td>\n",
              "      <td>-4.341e-16</td>\n",
              "      <td>-1.142e-15</td>\n",
              "      <td>-2.310e-16</td>\n",
              "      <td>1.277e-16</td>\n",
              "      <td>2.346e-18</td>\n",
              "      <td>-1.789e-16</td>\n",
              "      <td>3.240e-16</td>\n",
              "      <td>3.903e-16</td>\n",
              "      <td>-9.887e-16</td>\n",
              "      <td>-4.943e-16</td>\n",
              "      <td>2.938e-16</td>\n",
              "      <td>1.000e+00</td>\n",
              "      <td>-1.121e-15</td>\n",
              "      <td>1.106e-15</td>\n",
              "      <td>4.987e-16</td>\n",
              "      <td>1.637e-16</td>\n",
              "      <td>-1.518e-16</td>\n",
              "      <td>-2.975e-16</td>\n",
              "      <td>-1.446e-15</td>\n",
              "      <td>-1.134e-16</td>\n",
              "      <td>3.394e-01</td>\n",
              "      <td>2.009e-02</td>\n",
              "    </tr>\n",
              "    <tr>\n",
              "      <th>V21</th>\n",
              "      <td>0.045</td>\n",
              "      <td>-1.755e-16</td>\n",
              "      <td>8.444e-17</td>\n",
              "      <td>-2.972e-17</td>\n",
              "      <td>-9.977e-17</td>\n",
              "      <td>-1.369e-16</td>\n",
              "      <td>-1.576e-16</td>\n",
              "      <td>1.939e-16</td>\n",
              "      <td>-2.412e-16</td>\n",
              "      <td>4.578e-17</td>\n",
              "      <td>8.090e-16</td>\n",
              "      <td>-3.912e-16</td>\n",
              "      <td>3.230e-16</td>\n",
              "      <td>9.499e-17</td>\n",
              "      <td>1.634e-17</td>\n",
              "      <td>1.947e-17</td>\n",
              "      <td>-3.927e-16</td>\n",
              "      <td>-7.754e-16</td>\n",
              "      <td>-1.141e-15</td>\n",
              "      <td>4.033e-16</td>\n",
              "      <td>-1.121e-15</td>\n",
              "      <td>1.000e+00</td>\n",
              "      <td>3.906e-15</td>\n",
              "      <td>6.127e-16</td>\n",
              "      <td>1.298e-16</td>\n",
              "      <td>-2.826e-16</td>\n",
              "      <td>-4.907e-16</td>\n",
              "      <td>-1.033e-15</td>\n",
              "      <td>5.132e-16</td>\n",
              "      <td>1.060e-01</td>\n",
              "      <td>4.041e-02</td>\n",
              "    </tr>\n",
              "    <tr>\n",
              "      <th>V22</th>\n",
              "      <td>0.144</td>\n",
              "      <td>7.477e-17</td>\n",
              "      <td>2.501e-16</td>\n",
              "      <td>4.648e-16</td>\n",
              "      <td>2.100e-16</td>\n",
              "      <td>5.060e-16</td>\n",
              "      <td>-3.363e-16</td>\n",
              "      <td>-1.058e-15</td>\n",
              "      <td>5.476e-16</td>\n",
              "      <td>2.872e-17</td>\n",
              "      <td>-6.708e-16</td>\n",
              "      <td>-3.812e-17</td>\n",
              "      <td>-5.904e-16</td>\n",
              "      <td>-2.660e-17</td>\n",
              "      <td>3.440e-16</td>\n",
              "      <td>-8.937e-16</td>\n",
              "      <td>3.878e-17</td>\n",
              "      <td>-8.390e-16</td>\n",
              "      <td>-8.663e-17</td>\n",
              "      <td>-9.690e-16</td>\n",
              "      <td>1.106e-15</td>\n",
              "      <td>3.906e-15</td>\n",
              "      <td>1.000e+00</td>\n",
              "      <td>3.131e-16</td>\n",
              "      <td>1.151e-17</td>\n",
              "      <td>-6.079e-16</td>\n",
              "      <td>-8.477e-16</td>\n",
              "      <td>-1.295e-16</td>\n",
              "      <td>-3.021e-16</td>\n",
              "      <td>-6.480e-02</td>\n",
              "      <td>8.053e-04</td>\n",
              "    </tr>\n",
              "    <tr>\n",
              "      <th>V23</th>\n",
              "      <td>0.051</td>\n",
              "      <td>9.809e-16</td>\n",
              "      <td>1.060e-16</td>\n",
              "      <td>2.115e-17</td>\n",
              "      <td>6.003e-17</td>\n",
              "      <td>1.638e-16</td>\n",
              "      <td>-7.232e-17</td>\n",
              "      <td>2.328e-16</td>\n",
              "      <td>3.897e-16</td>\n",
              "      <td>5.929e-16</td>\n",
              "      <td>3.810e-16</td>\n",
              "      <td>2.232e-16</td>\n",
              "      <td>1.392e-16</td>\n",
              "      <td>-5.884e-16</td>\n",
              "      <td>7.621e-17</td>\n",
              "      <td>1.120e-16</td>\n",
              "      <td>8.520e-16</td>\n",
              "      <td>5.368e-16</td>\n",
              "      <td>-3.624e-16</td>\n",
              "      <td>5.734e-16</td>\n",
              "      <td>4.987e-16</td>\n",
              "      <td>6.127e-16</td>\n",
              "      <td>3.131e-16</td>\n",
              "      <td>1.000e+00</td>\n",
              "      <td>-4.411e-17</td>\n",
              "      <td>-9.938e-16</td>\n",
              "      <td>8.849e-16</td>\n",
              "      <td>5.524e-16</td>\n",
              "      <td>9.030e-16</td>\n",
              "      <td>-1.126e-01</td>\n",
              "      <td>-2.685e-03</td>\n",
              "    </tr>\n",
              "    <tr>\n",
              "      <th>V24</th>\n",
              "      <td>-0.016</td>\n",
              "      <td>7.354e-17</td>\n",
              "      <td>-8.142e-18</td>\n",
              "      <td>-9.352e-17</td>\n",
              "      <td>2.230e-16</td>\n",
              "      <td>-9.286e-16</td>\n",
              "      <td>-1.262e-15</td>\n",
              "      <td>-2.590e-17</td>\n",
              "      <td>-1.803e-16</td>\n",
              "      <td>-2.346e-16</td>\n",
              "      <td>-4.033e-17</td>\n",
              "      <td>1.220e-15</td>\n",
              "      <td>4.902e-16</td>\n",
              "      <td>-5.471e-16</td>\n",
              "      <td>2.336e-16</td>\n",
              "      <td>-4.590e-16</td>\n",
              "      <td>-4.289e-16</td>\n",
              "      <td>-5.544e-17</td>\n",
              "      <td>-1.126e-16</td>\n",
              "      <td>3.127e-17</td>\n",
              "      <td>1.637e-16</td>\n",
              "      <td>1.298e-16</td>\n",
              "      <td>1.151e-17</td>\n",
              "      <td>-4.411e-17</td>\n",
              "      <td>1.000e+00</td>\n",
              "      <td>1.557e-15</td>\n",
              "      <td>3.129e-16</td>\n",
              "      <td>-3.737e-16</td>\n",
              "      <td>-2.259e-16</td>\n",
              "      <td>5.146e-03</td>\n",
              "      <td>-7.221e-03</td>\n",
              "    </tr>\n",
              "    <tr>\n",
              "      <th>V25</th>\n",
              "      <td>-0.233</td>\n",
              "      <td>-9.805e-16</td>\n",
              "      <td>-4.262e-17</td>\n",
              "      <td>4.771e-16</td>\n",
              "      <td>5.395e-16</td>\n",
              "      <td>5.625e-16</td>\n",
              "      <td>1.082e-15</td>\n",
              "      <td>1.174e-15</td>\n",
              "      <td>-1.391e-16</td>\n",
              "      <td>1.100e-15</td>\n",
              "      <td>-2.864e-16</td>\n",
              "      <td>-4.568e-16</td>\n",
              "      <td>5.054e-16</td>\n",
              "      <td>8.067e-17</td>\n",
              "      <td>-2.607e-16</td>\n",
              "      <td>3.870e-16</td>\n",
              "      <td>-6.644e-16</td>\n",
              "      <td>4.822e-16</td>\n",
              "      <td>-2.311e-16</td>\n",
              "      <td>7.415e-16</td>\n",
              "      <td>-1.518e-16</td>\n",
              "      <td>-2.826e-16</td>\n",
              "      <td>-6.079e-16</td>\n",
              "      <td>-9.938e-16</td>\n",
              "      <td>1.557e-15</td>\n",
              "      <td>1.000e+00</td>\n",
              "      <td>2.811e-15</td>\n",
              "      <td>-6.107e-16</td>\n",
              "      <td>3.399e-16</td>\n",
              "      <td>-4.784e-02</td>\n",
              "      <td>3.308e-03</td>\n",
              "    </tr>\n",
              "    <tr>\n",
              "      <th>V26</th>\n",
              "      <td>-0.041</td>\n",
              "      <td>-8.622e-17</td>\n",
              "      <td>2.602e-16</td>\n",
              "      <td>6.522e-16</td>\n",
              "      <td>-6.180e-16</td>\n",
              "      <td>9.145e-16</td>\n",
              "      <td>-2.378e-16</td>\n",
              "      <td>-7.335e-16</td>\n",
              "      <td>-1.210e-16</td>\n",
              "      <td>-1.389e-15</td>\n",
              "      <td>-2.554e-16</td>\n",
              "      <td>-1.111e-16</td>\n",
              "      <td>-5.759e-16</td>\n",
              "      <td>-2.122e-16</td>\n",
              "      <td>-6.580e-18</td>\n",
              "      <td>3.761e-16</td>\n",
              "      <td>-5.187e-16</td>\n",
              "      <td>4.870e-16</td>\n",
              "      <td>3.184e-16</td>\n",
              "      <td>5.614e-16</td>\n",
              "      <td>-2.975e-16</td>\n",
              "      <td>-4.907e-16</td>\n",
              "      <td>-8.477e-16</td>\n",
              "      <td>8.849e-16</td>\n",
              "      <td>3.129e-16</td>\n",
              "      <td>2.811e-15</td>\n",
              "      <td>1.000e+00</td>\n",
              "      <td>-3.384e-16</td>\n",
              "      <td>-3.751e-16</td>\n",
              "      <td>-3.208e-03</td>\n",
              "      <td>4.455e-03</td>\n",
              "    </tr>\n",
              "    <tr>\n",
              "      <th>V27</th>\n",
              "      <td>-0.005</td>\n",
              "      <td>3.208e-17</td>\n",
              "      <td>-4.478e-16</td>\n",
              "      <td>6.240e-16</td>\n",
              "      <td>-6.403e-17</td>\n",
              "      <td>4.466e-16</td>\n",
              "      <td>-2.624e-16</td>\n",
              "      <td>-5.887e-16</td>\n",
              "      <td>1.734e-16</td>\n",
              "      <td>-2.287e-16</td>\n",
              "      <td>-3.103e-16</td>\n",
              "      <td>-2.636e-16</td>\n",
              "      <td>-2.313e-16</td>\n",
              "      <td>-4.520e-16</td>\n",
              "      <td>1.286e-16</td>\n",
              "      <td>-1.265e-15</td>\n",
              "      <td>7.820e-16</td>\n",
              "      <td>8.844e-16</td>\n",
              "      <td>2.435e-16</td>\n",
              "      <td>-1.113e-16</td>\n",
              "      <td>-1.446e-15</td>\n",
              "      <td>-1.033e-15</td>\n",
              "      <td>-1.295e-16</td>\n",
              "      <td>5.524e-16</td>\n",
              "      <td>-3.737e-16</td>\n",
              "      <td>-6.107e-16</td>\n",
              "      <td>-3.384e-16</td>\n",
              "      <td>1.000e+00</td>\n",
              "      <td>-3.770e-16</td>\n",
              "      <td>2.883e-02</td>\n",
              "      <td>1.758e-02</td>\n",
              "    </tr>\n",
              "    <tr>\n",
              "      <th>V28</th>\n",
              "      <td>-0.009</td>\n",
              "      <td>9.821e-16</td>\n",
              "      <td>-3.676e-16</td>\n",
              "      <td>7.727e-16</td>\n",
              "      <td>-5.864e-17</td>\n",
              "      <td>-3.299e-16</td>\n",
              "      <td>4.813e-16</td>\n",
              "      <td>-6.837e-17</td>\n",
              "      <td>-4.484e-16</td>\n",
              "      <td>9.147e-16</td>\n",
              "      <td>-1.516e-16</td>\n",
              "      <td>-3.092e-16</td>\n",
              "      <td>7.327e-16</td>\n",
              "      <td>1.050e-15</td>\n",
              "      <td>2.503e-15</td>\n",
              "      <td>-1.063e-15</td>\n",
              "      <td>8.637e-16</td>\n",
              "      <td>-2.183e-16</td>\n",
              "      <td>8.845e-16</td>\n",
              "      <td>-1.376e-15</td>\n",
              "      <td>-1.134e-16</td>\n",
              "      <td>5.132e-16</td>\n",
              "      <td>-3.021e-16</td>\n",
              "      <td>9.030e-16</td>\n",
              "      <td>-2.259e-16</td>\n",
              "      <td>3.399e-16</td>\n",
              "      <td>-3.751e-16</td>\n",
              "      <td>-3.770e-16</td>\n",
              "      <td>1.000e+00</td>\n",
              "      <td>1.026e-02</td>\n",
              "      <td>9.536e-03</td>\n",
              "    </tr>\n",
              "    <tr>\n",
              "      <th>Amount</th>\n",
              "      <td>-0.011</td>\n",
              "      <td>-2.277e-01</td>\n",
              "      <td>-5.314e-01</td>\n",
              "      <td>-2.109e-01</td>\n",
              "      <td>9.873e-02</td>\n",
              "      <td>-3.864e-01</td>\n",
              "      <td>2.160e-01</td>\n",
              "      <td>3.973e-01</td>\n",
              "      <td>-1.031e-01</td>\n",
              "      <td>-4.425e-02</td>\n",
              "      <td>-1.015e-01</td>\n",
              "      <td>1.040e-04</td>\n",
              "      <td>-9.542e-03</td>\n",
              "      <td>5.293e-03</td>\n",
              "      <td>3.375e-02</td>\n",
              "      <td>-2.986e-03</td>\n",
              "      <td>-3.910e-03</td>\n",
              "      <td>7.309e-03</td>\n",
              "      <td>3.565e-02</td>\n",
              "      <td>-5.615e-02</td>\n",
              "      <td>3.394e-01</td>\n",
              "      <td>1.060e-01</td>\n",
              "      <td>-6.480e-02</td>\n",
              "      <td>-1.126e-01</td>\n",
              "      <td>5.146e-03</td>\n",
              "      <td>-4.784e-02</td>\n",
              "      <td>-3.208e-03</td>\n",
              "      <td>2.883e-02</td>\n",
              "      <td>1.026e-02</td>\n",
              "      <td>1.000e+00</td>\n",
              "      <td>5.632e-03</td>\n",
              "    </tr>\n",
              "    <tr>\n",
              "      <th>Class</th>\n",
              "      <td>-0.012</td>\n",
              "      <td>-1.013e-01</td>\n",
              "      <td>9.129e-02</td>\n",
              "      <td>-1.930e-01</td>\n",
              "      <td>1.334e-01</td>\n",
              "      <td>-9.497e-02</td>\n",
              "      <td>-4.364e-02</td>\n",
              "      <td>-1.873e-01</td>\n",
              "      <td>1.988e-02</td>\n",
              "      <td>-9.773e-02</td>\n",
              "      <td>-2.169e-01</td>\n",
              "      <td>1.549e-01</td>\n",
              "      <td>-2.606e-01</td>\n",
              "      <td>-4.570e-03</td>\n",
              "      <td>-3.025e-01</td>\n",
              "      <td>-4.223e-03</td>\n",
              "      <td>-1.965e-01</td>\n",
              "      <td>-3.265e-01</td>\n",
              "      <td>-1.115e-01</td>\n",
              "      <td>3.478e-02</td>\n",
              "      <td>2.009e-02</td>\n",
              "      <td>4.041e-02</td>\n",
              "      <td>8.053e-04</td>\n",
              "      <td>-2.685e-03</td>\n",
              "      <td>-7.221e-03</td>\n",
              "      <td>3.308e-03</td>\n",
              "      <td>4.455e-03</td>\n",
              "      <td>1.758e-02</td>\n",
              "      <td>9.536e-03</td>\n",
              "      <td>5.632e-03</td>\n",
              "      <td>1.000e+00</td>\n",
              "    </tr>\n",
              "  </tbody>\n",
              "</table>\n",
              "</div>"
            ],
            "text/plain": [
              "         Time         V1         V2  ...        V28     Amount      Class\n",
              "Time    1.000  1.174e-01 -1.059e-02  ... -9.413e-03 -1.060e-02 -1.232e-02\n",
              "V1      0.117  1.000e+00  4.697e-17  ...  9.821e-16 -2.277e-01 -1.013e-01\n",
              "V2     -0.011  4.697e-17  1.000e+00  ... -3.676e-16 -5.314e-01  9.129e-02\n",
              "V3     -0.420 -1.424e-15  2.512e-16  ...  7.727e-16 -2.109e-01 -1.930e-01\n",
              "V4     -0.105  1.755e-17 -1.126e-16  ... -5.864e-17  9.873e-02  1.334e-01\n",
              "V5      0.173  6.391e-17 -2.040e-16  ... -3.299e-16 -3.864e-01 -9.497e-02\n",
              "V6     -0.063  2.398e-16  5.025e-16  ...  4.813e-16  2.160e-01 -4.364e-02\n",
              "V7      0.085  1.992e-15  3.966e-16  ... -6.837e-17  3.973e-01 -1.873e-01\n",
              "V8     -0.037 -9.491e-17 -4.414e-17  ... -4.484e-16 -1.031e-01  1.988e-02\n",
              "V9     -0.009  2.170e-16 -5.729e-17  ...  9.147e-16 -4.425e-02 -9.773e-02\n",
              "V10     0.031  7.434e-17 -4.782e-16  ... -1.516e-16 -1.015e-01 -2.169e-01\n",
              "V11    -0.248  2.439e-16  9.469e-16  ... -3.092e-16  1.040e-04  1.549e-01\n",
              "V12     0.124  2.422e-16 -6.588e-16  ...  7.327e-16 -9.542e-03 -2.606e-01\n",
              "V13    -0.066 -2.115e-16  3.855e-16  ...  1.050e-15  5.293e-03 -4.570e-03\n",
              "V14    -0.099  9.353e-16 -2.541e-16  ...  2.503e-15  3.375e-02 -3.025e-01\n",
              "V15    -0.183 -3.252e-16  2.831e-16  ... -1.063e-15 -2.986e-03 -4.223e-03\n",
              "V16     0.012  6.309e-16  4.934e-17  ...  8.637e-16 -3.910e-03 -1.965e-01\n",
              "V17    -0.073 -5.012e-16 -9.883e-16  ... -2.183e-16  7.309e-03 -3.265e-01\n",
              "V18     0.090  2.870e-16  2.637e-16  ...  8.845e-16  3.565e-02 -1.115e-01\n",
              "V19     0.029  1.818e-16  9.528e-17  ... -1.376e-15 -5.615e-02  3.478e-02\n",
              "V20    -0.051  1.037e-16 -9.310e-16  ... -1.134e-16  3.394e-01  2.009e-02\n",
              "V21     0.045 -1.755e-16  8.444e-17  ...  5.132e-16  1.060e-01  4.041e-02\n",
              "V22     0.144  7.477e-17  2.501e-16  ... -3.021e-16 -6.480e-02  8.053e-04\n",
              "V23     0.051  9.809e-16  1.060e-16  ...  9.030e-16 -1.126e-01 -2.685e-03\n",
              "V24    -0.016  7.354e-17 -8.142e-18  ... -2.259e-16  5.146e-03 -7.221e-03\n",
              "V25    -0.233 -9.805e-16 -4.262e-17  ...  3.399e-16 -4.784e-02  3.308e-03\n",
              "V26    -0.041 -8.622e-17  2.602e-16  ... -3.751e-16 -3.208e-03  4.455e-03\n",
              "V27    -0.005  3.208e-17 -4.478e-16  ... -3.770e-16  2.883e-02  1.758e-02\n",
              "V28    -0.009  9.821e-16 -3.676e-16  ...  1.000e+00  1.026e-02  9.536e-03\n",
              "Amount -0.011 -2.277e-01 -5.314e-01  ...  1.026e-02  1.000e+00  5.632e-03\n",
              "Class  -0.012 -1.013e-01  9.129e-02  ...  9.536e-03  5.632e-03  1.000e+00\n",
              "\n",
              "[31 rows x 31 columns]"
            ]
          },
          "metadata": {
            "tags": []
          },
          "execution_count": 40
        }
      ]
    },
    {
      "cell_type": "code",
      "metadata": {
        "id": "-w6Ovz1YJTbE",
        "colab_type": "code",
        "colab": {
          "base_uri": "https://localhost:8080/",
          "height": 654
        },
        "outputId": "28f5995c-1c5a-412e-c90b-78374d0899a4"
      },
      "source": [
        "#heatmap of features correlation\n",
        "corr = creditcard.corr()\n",
        "plt.figure(figsize=(12,10))\n",
        "heat = sns.heatmap(data=corr)\n",
        "plt.title('Heatmap of Correlation')"
      ],
      "execution_count": 41,
      "outputs": [
        {
          "output_type": "execute_result",
          "data": {
            "text/plain": [
              "Text(0.5, 1.0, 'Heatmap of Correlation')"
            ]
          },
          "metadata": {
            "tags": []
          },
          "execution_count": 41
        },
        {
          "output_type": "display_data",
          "data": {
            "image/png": "[encoded data removed]",
            "text/plain": [
              "<Figure size 864x720 with 2 Axes>"
            ]
          },
          "metadata": {
            "tags": [],
            "needs_background": "light"
          }
        }
      ]
    },
    {
      "cell_type": "code",
      "metadata": {
        "id": "Qlc81zUKJW1A",
        "colab_type": "code",
        "colab": {}
      },
      "source": [
        ""
      ],
      "execution_count": null,
      "outputs": []
    },
    {
      "cell_type": "markdown",
      "metadata": {
        "id": "wS5hmDvyObf2",
        "colab_type": "text"
      },
      "source": [
        "We used the plot above to check the distribution of observations for each featur and one by one , for example V4: shows clear distinction between fraud & genuine transactions, while V28 didn't."
      ]
    },
    {
      "cell_type": "code",
      "metadata": {
        "id": "wiLPTVh3txYi",
        "colab_type": "code",
        "colab": {}
      },
      "source": [
        "def my_plot(plot_rows,plot_col,i,col):\n",
        "    plt.subplot(plot_rows,plot_col,i)\n",
        "    sns.boxplot(x='Class',y=col,data=creditcard)\n",
        "\n",
        "plt.figure(figsize=(24,12))\n",
        "axs = [ my_plot(6,5,i,'V'+str(i)) for i in range(1,29)]\n"
      ],
      "execution_count": null,
      "outputs": []
    },
    {
      "cell_type": "code",
      "metadata": {
        "id": "ACtKZJ7eFwRo",
        "colab_type": "code",
        "colab": {}
      },
      "source": [
        "sns.boxplot(x = \"Class\", y = \"Time\", data = creditcard)\n",
        "plt.show()"
      ],
      "execution_count": null,
      "outputs": []
    },
    {
      "cell_type": "code",
      "metadata": {
        "id": "fVUhmVkT09Zb",
        "colab_type": "code",
        "colab": {}
      },
      "source": [
        "sns.set_style(\"whitegrid\")\n",
        "sns.FacetGrid(creditcard, hue=\"Class\", size = 6).map(plt.scatter, \"Time\", \"Amount\").add_legend()\n",
        "plt.show()"
      ],
      "execution_count": null,
      "outputs": []
    },
    {
      "cell_type": "markdown",
      "metadata": {
        "id": "LrurYDXdFwRr",
        "colab_type": "text"
      },
      "source": [
        "Observations:\n",
        "\n",
        "By looking at the above plot we can say that both fraud & genuine transactions occur throughout time and there is no distinction between them."
      ]
    },
    {
      "cell_type": "code",
      "metadata": {
        "id": "eO6e7PhB5OuR",
        "colab_type": "code",
        "colab": {}
      },
      "source": [
        "sns.scatterplot(x = \"Class\", y = \"Amount\", data = creditcard)\n",
        "plt.show()"
      ],
      "execution_count": null,
      "outputs": []
    },
    {
      "cell_type": "markdown",
      "metadata": {
        "id": "5nAc8QOeFwRu",
        "colab_type": "text"
      },
      "source": [
        "Observations:\n",
        "\n",
        "From above box plot we can easily infer that there are no fraud transactions occur above the transaction amount of 3000. All of the fraud transactions have transaction amount less than 3000. However, there are many transactions which have a transaction amount greater than 3000 and all of them are genuine."
      ]
    },
    {
      "cell_type": "markdown",
      "metadata": {
        "id": "e_KmCnlJF2No",
        "colab_type": "text"
      },
      "source": [
        "**ECDF**"
      ]
    },
    {
      "cell_type": "code",
      "metadata": {
        "id": "JqaQccHsF9K6",
        "colab_type": "code",
        "colab": {}
      },
      "source": [
        "# Creating our ecdf function\n",
        "def ecdf(data,i):\n",
        "    xaxis = np.sort(data)\n",
        "    yaxis = np.arange(1,len(data)+1)/len(data)\n",
        "    plt.plot(xaxis,yaxis,linestyle='none',marker='.')\n",
        "    plt.title('ECDF of average V'+str(i))\n",
        "\n",
        "creditcardFraud=creditcard[creditcard['Class']==1]\n",
        "creditcardNotFraud=creditcard[creditcard['Class']==0]\n",
        "\n",
        "for i in range(1,29):\n",
        "    ecdf(creditcardFraud['V'+str(i)],i)\n",
        "    ecdf(creditcardNotFraud['V'+str(i)],i)\n",
        "    plt.show()\n"
      ],
      "execution_count": null,
      "outputs": []
    },
    {
      "cell_type": "markdown",
      "metadata": {
        "id": "eeLFM-jTloZt",
        "colab_type": "text"
      },
      "source": [
        "#Try Different classifiers (unbalanced)"
      ]
    },
    {
      "cell_type": "code",
      "metadata": {
        "id": "l42qxWRa4L5Y",
        "colab_type": "code",
        "colab": {
          "base_uri": "https://localhost:8080/",
          "height": 34
        },
        "outputId": "a2e99427-2db5-4e12-df0d-dd1c39701453"
      },
      "source": [
        "from sklearn.model_selection import train_test_split\n",
        "x = creditcard.drop('Class',axis=1)\n",
        "y = creditcard.Class\n",
        "x_train, x_test, y_train, y_test = train_test_split(x,y,test_size=0.2)\n",
        "print('size of test dataset = {}, size of traing data = {}, percentage = {}%'.format(len(x_test),len(x_train),len(x_test)*100/(len(x_test) + len(x_train))))"
      ],
      "execution_count": null,
      "outputs": [
        {
          "output_type": "stream",
          "text": [
            "size of test dataset = 56962, size of traing data = 227845, percentage = 20.000210668979342%\n"
          ],
          "name": "stdout"
        }
      ]
    },
    {
      "cell_type": "code",
      "metadata": {
        "id": "0LcJURKW4uTK",
        "colab_type": "code",
        "colab": {
          "base_uri": "https://localhost:8080/",
          "height": 439
        },
        "outputId": "ada2267a-ad37-4d4b-e29d-0d3cc8990a22"
      },
      "source": [
        "x"
      ],
      "execution_count": null,
      "outputs": [
        {
          "output_type": "execute_result",
          "data": {
            "text/html": [
              "<div>\n",
              "<style scoped>\n",
              "    .dataframe tbody tr th:only-of-type {\n",
              "        vertical-align: middle;\n",
              "    }\n",
              "\n",
              "    .dataframe tbody tr th {\n",
              "        vertical-align: top;\n",
              "    }\n",
              "\n",
              "    .dataframe thead th {\n",
              "        text-align: right;\n",
              "    }\n",
              "</style>\n",
              "<table border=\"1\" class=\"dataframe\">\n",
              "  <thead>\n",
              "    <tr style=\"text-align: right;\">\n",
              "      <th></th>\n",
              "      <th>Time</th>\n",
              "      <th>V1</th>\n",
              "      <th>V2</th>\n",
              "      <th>V3</th>\n",
              "      <th>V4</th>\n",
              "      <th>V5</th>\n",
              "      <th>V6</th>\n",
              "      <th>V7</th>\n",
              "      <th>V8</th>\n",
              "      <th>V9</th>\n",
              "      <th>V10</th>\n",
              "      <th>V11</th>\n",
              "      <th>V12</th>\n",
              "      <th>V13</th>\n",
              "      <th>V14</th>\n",
              "      <th>V15</th>\n",
              "      <th>V16</th>\n",
              "      <th>V17</th>\n",
              "      <th>V18</th>\n",
              "      <th>V19</th>\n",
              "      <th>V20</th>\n",
              "      <th>V21</th>\n",
              "      <th>V22</th>\n",
              "      <th>V23</th>\n",
              "      <th>V24</th>\n",
              "      <th>V25</th>\n",
              "      <th>V26</th>\n",
              "      <th>V27</th>\n",
              "      <th>V28</th>\n",
              "      <th>Amount</th>\n",
              "    </tr>\n",
              "  </thead>\n",
              "  <tbody>\n",
              "    <tr>\n",
              "      <th>0</th>\n",
              "      <td>0.0</td>\n",
              "      <td>-1.359807</td>\n",
              "      <td>-0.072781</td>\n",
              "      <td>2.536347</td>\n",
              "      <td>1.378155</td>\n",
              "      <td>-0.338321</td>\n",
              "      <td>0.462388</td>\n",
              "      <td>0.239599</td>\n",
              "      <td>0.098698</td>\n",
              "      <td>0.363787</td>\n",
              "      <td>0.090794</td>\n",
              "      <td>-0.551600</td>\n",
              "      <td>-0.617801</td>\n",
              "      <td>-0.991390</td>\n",
              "      <td>-0.311169</td>\n",
              "      <td>1.468177</td>\n",
              "      <td>-0.470401</td>\n",
              "      <td>0.207971</td>\n",
              "      <td>0.025791</td>\n",
              "      <td>0.403993</td>\n",
              "      <td>0.251412</td>\n",
              "      <td>-0.018307</td>\n",
              "      <td>0.277838</td>\n",
              "      <td>-0.110474</td>\n",
              "      <td>0.066928</td>\n",
              "      <td>0.128539</td>\n",
              "      <td>-0.189115</td>\n",
              "      <td>0.133558</td>\n",
              "      <td>-0.021053</td>\n",
              "      <td>149.62</td>\n",
              "    </tr>\n",
              "    <tr>\n",
              "      <th>1</th>\n",
              "      <td>0.0</td>\n",
              "      <td>1.191857</td>\n",
              "      <td>0.266151</td>\n",
              "      <td>0.166480</td>\n",
              "      <td>0.448154</td>\n",
              "      <td>0.060018</td>\n",
              "      <td>-0.082361</td>\n",
              "      <td>-0.078803</td>\n",
              "      <td>0.085102</td>\n",
              "      <td>-0.255425</td>\n",
              "      <td>-0.166974</td>\n",
              "      <td>1.612727</td>\n",
              "      <td>1.065235</td>\n",
              "      <td>0.489095</td>\n",
              "      <td>-0.143772</td>\n",
              "      <td>0.635558</td>\n",
              "      <td>0.463917</td>\n",
              "      <td>-0.114805</td>\n",
              "      <td>-0.183361</td>\n",
              "      <td>-0.145783</td>\n",
              "      <td>-0.069083</td>\n",
              "      <td>-0.225775</td>\n",
              "      <td>-0.638672</td>\n",
              "      <td>0.101288</td>\n",
              "      <td>-0.339846</td>\n",
              "      <td>0.167170</td>\n",
              "      <td>0.125895</td>\n",
              "      <td>-0.008983</td>\n",
              "      <td>0.014724</td>\n",
              "      <td>2.69</td>\n",
              "    </tr>\n",
              "    <tr>\n",
              "      <th>2</th>\n",
              "      <td>1.0</td>\n",
              "      <td>-1.358354</td>\n",
              "      <td>-1.340163</td>\n",
              "      <td>1.773209</td>\n",
              "      <td>0.379780</td>\n",
              "      <td>-0.503198</td>\n",
              "      <td>1.800499</td>\n",
              "      <td>0.791461</td>\n",
              "      <td>0.247676</td>\n",
              "      <td>-1.514654</td>\n",
              "      <td>0.207643</td>\n",
              "      <td>0.624501</td>\n",
              "      <td>0.066084</td>\n",
              "      <td>0.717293</td>\n",
              "      <td>-0.165946</td>\n",
              "      <td>2.345865</td>\n",
              "      <td>-2.890083</td>\n",
              "      <td>1.109969</td>\n",
              "      <td>-0.121359</td>\n",
              "      <td>-2.261857</td>\n",
              "      <td>0.524980</td>\n",
              "      <td>0.247998</td>\n",
              "      <td>0.771679</td>\n",
              "      <td>0.909412</td>\n",
              "      <td>-0.689281</td>\n",
              "      <td>-0.327642</td>\n",
              "      <td>-0.139097</td>\n",
              "      <td>-0.055353</td>\n",
              "      <td>-0.059752</td>\n",
              "      <td>378.66</td>\n",
              "    </tr>\n",
              "    <tr>\n",
              "      <th>3</th>\n",
              "      <td>1.0</td>\n",
              "      <td>-0.966272</td>\n",
              "      <td>-0.185226</td>\n",
              "      <td>1.792993</td>\n",
              "      <td>-0.863291</td>\n",
              "      <td>-0.010309</td>\n",
              "      <td>1.247203</td>\n",
              "      <td>0.237609</td>\n",
              "      <td>0.377436</td>\n",
              "      <td>-1.387024</td>\n",
              "      <td>-0.054952</td>\n",
              "      <td>-0.226487</td>\n",
              "      <td>0.178228</td>\n",
              "      <td>0.507757</td>\n",
              "      <td>-0.287924</td>\n",
              "      <td>-0.631418</td>\n",
              "      <td>-1.059647</td>\n",
              "      <td>-0.684093</td>\n",
              "      <td>1.965775</td>\n",
              "      <td>-1.232622</td>\n",
              "      <td>-0.208038</td>\n",
              "      <td>-0.108300</td>\n",
              "      <td>0.005274</td>\n",
              "      <td>-0.190321</td>\n",
              "      <td>-1.175575</td>\n",
              "      <td>0.647376</td>\n",
              "      <td>-0.221929</td>\n",
              "      <td>0.062723</td>\n",
              "      <td>0.061458</td>\n",
              "      <td>123.50</td>\n",
              "    </tr>\n",
              "    <tr>\n",
              "      <th>4</th>\n",
              "      <td>2.0</td>\n",
              "      <td>-1.158233</td>\n",
              "      <td>0.877737</td>\n",
              "      <td>1.548718</td>\n",
              "      <td>0.403034</td>\n",
              "      <td>-0.407193</td>\n",
              "      <td>0.095921</td>\n",
              "      <td>0.592941</td>\n",
              "      <td>-0.270533</td>\n",
              "      <td>0.817739</td>\n",
              "      <td>0.753074</td>\n",
              "      <td>-0.822843</td>\n",
              "      <td>0.538196</td>\n",
              "      <td>1.345852</td>\n",
              "      <td>-1.119670</td>\n",
              "      <td>0.175121</td>\n",
              "      <td>-0.451449</td>\n",
              "      <td>-0.237033</td>\n",
              "      <td>-0.038195</td>\n",
              "      <td>0.803487</td>\n",
              "      <td>0.408542</td>\n",
              "      <td>-0.009431</td>\n",
              "      <td>0.798278</td>\n",
              "      <td>-0.137458</td>\n",
              "      <td>0.141267</td>\n",
              "      <td>-0.206010</td>\n",
              "      <td>0.502292</td>\n",
              "      <td>0.219422</td>\n",
              "      <td>0.215153</td>\n",
              "      <td>69.99</td>\n",
              "    </tr>\n",
              "    <tr>\n",
              "      <th>...</th>\n",
              "      <td>...</td>\n",
              "      <td>...</td>\n",
              "      <td>...</td>\n",
              "      <td>...</td>\n",
              "      <td>...</td>\n",
              "      <td>...</td>\n",
              "      <td>...</td>\n",
              "      <td>...</td>\n",
              "      <td>...</td>\n",
              "      <td>...</td>\n",
              "      <td>...</td>\n",
              "      <td>...</td>\n",
              "      <td>...</td>\n",
              "      <td>...</td>\n",
              "      <td>...</td>\n",
              "      <td>...</td>\n",
              "      <td>...</td>\n",
              "      <td>...</td>\n",
              "      <td>...</td>\n",
              "      <td>...</td>\n",
              "      <td>...</td>\n",
              "      <td>...</td>\n",
              "      <td>...</td>\n",
              "      <td>...</td>\n",
              "      <td>...</td>\n",
              "      <td>...</td>\n",
              "      <td>...</td>\n",
              "      <td>...</td>\n",
              "      <td>...</td>\n",
              "      <td>...</td>\n",
              "    </tr>\n",
              "    <tr>\n",
              "      <th>284802</th>\n",
              "      <td>172786.0</td>\n",
              "      <td>-11.881118</td>\n",
              "      <td>10.071785</td>\n",
              "      <td>-9.834783</td>\n",
              "      <td>-2.066656</td>\n",
              "      <td>-5.364473</td>\n",
              "      <td>-2.606837</td>\n",
              "      <td>-4.918215</td>\n",
              "      <td>7.305334</td>\n",
              "      <td>1.914428</td>\n",
              "      <td>4.356170</td>\n",
              "      <td>-1.593105</td>\n",
              "      <td>2.711941</td>\n",
              "      <td>-0.689256</td>\n",
              "      <td>4.626942</td>\n",
              "      <td>-0.924459</td>\n",
              "      <td>1.107641</td>\n",
              "      <td>1.991691</td>\n",
              "      <td>0.510632</td>\n",
              "      <td>-0.682920</td>\n",
              "      <td>1.475829</td>\n",
              "      <td>0.213454</td>\n",
              "      <td>0.111864</td>\n",
              "      <td>1.014480</td>\n",
              "      <td>-0.509348</td>\n",
              "      <td>1.436807</td>\n",
              "      <td>0.250034</td>\n",
              "      <td>0.943651</td>\n",
              "      <td>0.823731</td>\n",
              "      <td>0.77</td>\n",
              "    </tr>\n",
              "    <tr>\n",
              "      <th>284803</th>\n",
              "      <td>172787.0</td>\n",
              "      <td>-0.732789</td>\n",
              "      <td>-0.055080</td>\n",
              "      <td>2.035030</td>\n",
              "      <td>-0.738589</td>\n",
              "      <td>0.868229</td>\n",
              "      <td>1.058415</td>\n",
              "      <td>0.024330</td>\n",
              "      <td>0.294869</td>\n",
              "      <td>0.584800</td>\n",
              "      <td>-0.975926</td>\n",
              "      <td>-0.150189</td>\n",
              "      <td>0.915802</td>\n",
              "      <td>1.214756</td>\n",
              "      <td>-0.675143</td>\n",
              "      <td>1.164931</td>\n",
              "      <td>-0.711757</td>\n",
              "      <td>-0.025693</td>\n",
              "      <td>-1.221179</td>\n",
              "      <td>-1.545556</td>\n",
              "      <td>0.059616</td>\n",
              "      <td>0.214205</td>\n",
              "      <td>0.924384</td>\n",
              "      <td>0.012463</td>\n",
              "      <td>-1.016226</td>\n",
              "      <td>-0.606624</td>\n",
              "      <td>-0.395255</td>\n",
              "      <td>0.068472</td>\n",
              "      <td>-0.053527</td>\n",
              "      <td>24.79</td>\n",
              "    </tr>\n",
              "    <tr>\n",
              "      <th>284804</th>\n",
              "      <td>172788.0</td>\n",
              "      <td>1.919565</td>\n",
              "      <td>-0.301254</td>\n",
              "      <td>-3.249640</td>\n",
              "      <td>-0.557828</td>\n",
              "      <td>2.630515</td>\n",
              "      <td>3.031260</td>\n",
              "      <td>-0.296827</td>\n",
              "      <td>0.708417</td>\n",
              "      <td>0.432454</td>\n",
              "      <td>-0.484782</td>\n",
              "      <td>0.411614</td>\n",
              "      <td>0.063119</td>\n",
              "      <td>-0.183699</td>\n",
              "      <td>-0.510602</td>\n",
              "      <td>1.329284</td>\n",
              "      <td>0.140716</td>\n",
              "      <td>0.313502</td>\n",
              "      <td>0.395652</td>\n",
              "      <td>-0.577252</td>\n",
              "      <td>0.001396</td>\n",
              "      <td>0.232045</td>\n",
              "      <td>0.578229</td>\n",
              "      <td>-0.037501</td>\n",
              "      <td>0.640134</td>\n",
              "      <td>0.265745</td>\n",
              "      <td>-0.087371</td>\n",
              "      <td>0.004455</td>\n",
              "      <td>-0.026561</td>\n",
              "      <td>67.88</td>\n",
              "    </tr>\n",
              "    <tr>\n",
              "      <th>284805</th>\n",
              "      <td>172788.0</td>\n",
              "      <td>-0.240440</td>\n",
              "      <td>0.530483</td>\n",
              "      <td>0.702510</td>\n",
              "      <td>0.689799</td>\n",
              "      <td>-0.377961</td>\n",
              "      <td>0.623708</td>\n",
              "      <td>-0.686180</td>\n",
              "      <td>0.679145</td>\n",
              "      <td>0.392087</td>\n",
              "      <td>-0.399126</td>\n",
              "      <td>-1.933849</td>\n",
              "      <td>-0.962886</td>\n",
              "      <td>-1.042082</td>\n",
              "      <td>0.449624</td>\n",
              "      <td>1.962563</td>\n",
              "      <td>-0.608577</td>\n",
              "      <td>0.509928</td>\n",
              "      <td>1.113981</td>\n",
              "      <td>2.897849</td>\n",
              "      <td>0.127434</td>\n",
              "      <td>0.265245</td>\n",
              "      <td>0.800049</td>\n",
              "      <td>-0.163298</td>\n",
              "      <td>0.123205</td>\n",
              "      <td>-0.569159</td>\n",
              "      <td>0.546668</td>\n",
              "      <td>0.108821</td>\n",
              "      <td>0.104533</td>\n",
              "      <td>10.00</td>\n",
              "    </tr>\n",
              "    <tr>\n",
              "      <th>284806</th>\n",
              "      <td>172792.0</td>\n",
              "      <td>-0.533413</td>\n",
              "      <td>-0.189733</td>\n",
              "      <td>0.703337</td>\n",
              "      <td>-0.506271</td>\n",
              "      <td>-0.012546</td>\n",
              "      <td>-0.649617</td>\n",
              "      <td>1.577006</td>\n",
              "      <td>-0.414650</td>\n",
              "      <td>0.486180</td>\n",
              "      <td>-0.915427</td>\n",
              "      <td>-1.040458</td>\n",
              "      <td>-0.031513</td>\n",
              "      <td>-0.188093</td>\n",
              "      <td>-0.084316</td>\n",
              "      <td>0.041333</td>\n",
              "      <td>-0.302620</td>\n",
              "      <td>-0.660377</td>\n",
              "      <td>0.167430</td>\n",
              "      <td>-0.256117</td>\n",
              "      <td>0.382948</td>\n",
              "      <td>0.261057</td>\n",
              "      <td>0.643078</td>\n",
              "      <td>0.376777</td>\n",
              "      <td>0.008797</td>\n",
              "      <td>-0.473649</td>\n",
              "      <td>-0.818267</td>\n",
              "      <td>-0.002415</td>\n",
              "      <td>0.013649</td>\n",
              "      <td>217.00</td>\n",
              "    </tr>\n",
              "  </tbody>\n",
              "</table>\n",
              "<p>284807 rows × 30 columns</p>\n",
              "</div>"
            ],
            "text/plain": [
              "            Time         V1         V2  ...       V27       V28  Amount\n",
              "0            0.0  -1.359807  -0.072781  ...  0.133558 -0.021053  149.62\n",
              "1            0.0   1.191857   0.266151  ... -0.008983  0.014724    2.69\n",
              "2            1.0  -1.358354  -1.340163  ... -0.055353 -0.059752  378.66\n",
              "3            1.0  -0.966272  -0.185226  ...  0.062723  0.061458  123.50\n",
              "4            2.0  -1.158233   0.877737  ...  0.219422  0.215153   69.99\n",
              "...          ...        ...        ...  ...       ...       ...     ...\n",
              "284802  172786.0 -11.881118  10.071785  ...  0.943651  0.823731    0.77\n",
              "284803  172787.0  -0.732789  -0.055080  ...  0.068472 -0.053527   24.79\n",
              "284804  172788.0   1.919565  -0.301254  ...  0.004455 -0.026561   67.88\n",
              "284805  172788.0  -0.240440   0.530483  ...  0.108821  0.104533   10.00\n",
              "284806  172792.0  -0.533413  -0.189733  ... -0.002415  0.013649  217.00\n",
              "\n",
              "[284807 rows x 30 columns]"
            ]
          },
          "metadata": {
            "tags": []
          },
          "execution_count": 17
        }
      ]
    },
    {
      "cell_type": "code",
      "metadata": {
        "id": "eiaplVab4vu_",
        "colab_type": "code",
        "colab": {}
      },
      "source": [
        "y"
      ],
      "execution_count": null,
      "outputs": []
    },
    {
      "cell_type": "code",
      "metadata": {
        "id": "il-Q3p2i5urf",
        "colab_type": "code",
        "colab": {
          "base_uri": "https://localhost:8080/",
          "height": 187
        },
        "outputId": "e20223d4-03f2-4cd5-c2aa-655d4fa73696"
      },
      "source": [
        "## logistic regression\n",
        "from sklearn.linear_model import LogisticRegression\n",
        "model_lr = LogisticRegression()\n",
        "model_lr.fit(x_train, y_train)\n",
        "ACC_train_lr = model_lr.score(x_train, y_train)\n",
        "ACC_test_lr = model_lr.score(x_test, y_test)\n",
        "print(ACC_train_lr*100)\n",
        "print(ACC_test_lr*100)"
      ],
      "execution_count": null,
      "outputs": [
        {
          "output_type": "stream",
          "text": [
            "99.885448440826\n",
            "99.89115550718023\n"
          ],
          "name": "stdout"
        },
        {
          "output_type": "stream",
          "text": [
            "/usr/local/lib/python3.6/dist-packages/sklearn/linear_model/_logistic.py:940: ConvergenceWarning: lbfgs failed to converge (status=1):\n",
            "STOP: TOTAL NO. of ITERATIONS REACHED LIMIT.\n",
            "\n",
            "Increase the number of iterations (max_iter) or scale the data as shown in:\n",
            "    https://scikit-learn.org/stable/modules/preprocessing.html\n",
            "Please also refer to the documentation for alternative solver options:\n",
            "    https://scikit-learn.org/stable/modules/linear_model.html#logistic-regression\n",
            "  extra_warning_msg=_LOGISTIC_SOLVER_CONVERGENCE_MSG)\n"
          ],
          "name": "stderr"
        }
      ]
    },
    {
      "cell_type": "code",
      "metadata": {
        "id": "ZFj46Gds5RlJ",
        "colab_type": "code",
        "colab": {
          "base_uri": "https://localhost:8080/",
          "height": 51
        },
        "outputId": "3dd090bc-6ffe-4a11-fb19-4c76534340de"
      },
      "source": [
        "##  Decision tree\n",
        "from sklearn import tree\n",
        "model_dt = tree.DecisionTreeClassifier()\n",
        "model_dt.fit(x_train,y_train)\n",
        "ACC_train_dt = model_dt.score(x_train,y_train)\n",
        "ACC_test_dt = model_dt.score(x_test,y_test)\n",
        "print(ACC_train_dt*100)\n",
        "print(ACC_test_dt*100)"
      ],
      "execution_count": null,
      "outputs": [
        {
          "output_type": "stream",
          "text": [
            "100.0\n",
            "99.9367999719111\n"
          ],
          "name": "stdout"
        }
      ]
    },
    {
      "cell_type": "code",
      "metadata": {
        "id": "2S6Ner1c65NK",
        "colab_type": "code",
        "colab": {
          "base_uri": "https://localhost:8080/",
          "height": 51
        },
        "outputId": "4a519508-8294-4ba7-f5b0-e04ea35fd53a"
      },
      "source": [
        "## Support Vector Machine\n",
        "from sklearn.svm import SVC \n",
        "model_svm = SVC()\n",
        "model_svm.fit(x_train, y_train)\n",
        "ACC_train_svm = model_svm.score(x_train, y_train)\n",
        "ACC_test_svm = model_svm.score(x_test, y_test)\n",
        "print(ACC_train_svm*100)\n",
        "print(ACC_test_svm*100)\n"
      ],
      "execution_count": null,
      "outputs": [
        {
          "output_type": "stream",
          "text": [
            "99.83058658298405\n",
            "99.8139110284049\n"
          ],
          "name": "stdout"
        }
      ]
    },
    {
      "cell_type": "code",
      "metadata": {
        "id": "c4jkgEHG7li2",
        "colab_type": "code",
        "colab": {
          "base_uri": "https://localhost:8080/",
          "height": 51
        },
        "outputId": "0999341b-ca39-4cec-9329-49ca4b24d0d3"
      },
      "source": [
        "## Random Forest \n",
        "from sklearn.ensemble import RandomForestClassifier \n",
        "model_rf = RandomForestClassifier()\n",
        "model_rf.fit(x_train,y_train)\n",
        "ACC_train_rf = model_rf.score(x_train, y_train)\n",
        "ACC_test_rf = model_rf.score(x_test, y_test)\n",
        "print(ACC_train_rf*100)\n",
        "print(ACC_test_rf*100)"
      ],
      "execution_count": null,
      "outputs": [
        {
          "output_type": "stream",
          "text": [
            "100.0\n",
            "99.95786664794073\n"
          ],
          "name": "stdout"
        }
      ]
    },
    {
      "cell_type": "code",
      "metadata": {
        "id": "qcvqTBP8D8y3",
        "colab_type": "code",
        "colab": {
          "base_uri": "https://localhost:8080/",
          "height": 51
        },
        "outputId": "704d7679-4768-4ee8-f2f8-2b565296cae5"
      },
      "source": [
        "## Naive Bayse\n",
        "from sklearn.naive_bayes import GaussianNB\n",
        "model_nb = GaussianNB()\n",
        "model_nb.fit(x_train,y_train)\n",
        "ACC_train_nb = model_nb.score(x_train,y_train)\n",
        "ACC_test_nb = model_nb.score(x_test,y_test)\n",
        "print(ACC_train_nb*100)\n",
        "print(ACC_test_nb*100)"
      ],
      "execution_count": null,
      "outputs": [
        {
          "output_type": "stream",
          "text": [
            "99.26133994601594\n",
            "99.29777746567888\n"
          ],
          "name": "stdout"
        }
      ]
    },
    {
      "cell_type": "code",
      "metadata": {
        "id": "MmKCgZ4z56pH",
        "colab_type": "code",
        "colab": {
          "base_uri": "https://localhost:8080/",
          "height": 119
        },
        "outputId": "4353a9ef-c330-42d2-ee02-632ffb9c3312"
      },
      "source": [
        "from prettytable import PrettyTable\n",
        "t = PrettyTable(['Accuracy', 'Logistic (%)' , 'DT (%)' , 'SVM (%)' , 'RF (%)' , 'NB (%)'])\n",
        "t.add_row(['Training', ACC_train_lr*100, ACC_train_dt*100, ACC_train_svm*100, ACC_train_rf*100 , ACC_train_nb*100])\n",
        "t.add_row(['Testing', ACC_test_lr*100, ACC_test_dt*100, ACC_test_svm*100, ACC_test_rf*100 , ACC_test_nb*100])\n",
        "print(t)"
      ],
      "execution_count": null,
      "outputs": [
        {
          "output_type": "stream",
          "text": [
            "+----------+-------------------+------------------+-------------------+-------------------+-------------------+\n",
            "| Accuracy |    Logistic (%)   |      DT (%)      |      SVM (%)      |       RF (%)      |       NB (%)      |\n",
            "+----------+-------------------+------------------+-------------------+-------------------+-------------------+\n",
            "| Training |  99.885448440826  |      100.0       | 99.83058658298405 |       100.0       | 99.26133994601594 |\n",
            "| Testing  | 99.89115550718023 | 99.9367999719111 |  99.8139110284049 | 99.95786664794073 | 99.29777746567888 |\n",
            "+----------+-------------------+------------------+-------------------+-------------------+-------------------+\n"
          ],
          "name": "stdout"
        }
      ]
    },
    {
      "cell_type": "code",
      "metadata": {
        "id": "xzEUWiVaIHJd",
        "colab_type": "code",
        "colab": {}
      },
      "source": [
        "# use differant performance metric on DT\n",
        "lr_pred = model_lr.predict(x_test)\n",
        "dt_pred = model_dt.predict(x_test)\n",
        "svm_pred = model_svm.predict(x_test)\n",
        "rf_pred = model_rf.predict(x_test)\n",
        "nb_pred = model_nb.predict(x_test)"
      ],
      "execution_count": null,
      "outputs": []
    },
    {
      "cell_type": "code",
      "metadata": {
        "id": "ERTfR-U2Q4Jh",
        "colab_type": "code",
        "colab": {}
      },
      "source": [
        "from sklearn.metrics import accuracy_score\n",
        "lr_accuracy_score=  accuracy_score(y_test, lr_pred)\n",
        "dt_accuracy_score=  accuracy_score(y_test, dt_pred)\n",
        "svm_accuracy_score=  accuracy_score(y_test, svm_pred)\n",
        "rf_accuracy_score=  accuracy_score(y_test, rf_pred)\n",
        "nb_accuracy_score=  accuracy_score(y_test, nb_pred)\n",
        "\n",
        "from sklearn.metrics import f1_score\n",
        "# f1 score : F1 score reaches its best value at 1 and worst score at 0\n",
        "lr_f1_score= f1_score(y_test, lr_pred)\n",
        "dt_f1_score= f1_score(y_test, dt_pred)\n",
        "svm_f1_score= f1_score(y_test, svm_pred)\n",
        "rf_f1_score= f1_score(y_test, rf_pred)\n",
        "nb_f1_score= f1_score(y_test, nb_pred)\n",
        "\n",
        "from sklearn.metrics import recall_score\n",
        "# recall score : The best value is 1 and the worst value is 0\n",
        "lr_recall_score= recall_score(y_test, lr_pred)\n",
        "dt_recall_score= recall_score(y_test, dt_pred)\n",
        "svm_recall_score= recall_score(y_test, svm_pred)\n",
        "rf_recall_score= recall_score(y_test, rf_pred)\n",
        "nb_recall_score= recall_score(y_test, nb_pred)"
      ],
      "execution_count": null,
      "outputs": []
    },
    {
      "cell_type": "code",
      "metadata": {
        "id": "GmWuYRrcJiT7",
        "colab_type": "code",
        "colab": {
          "base_uri": "https://localhost:8080/",
          "height": 136
        },
        "outputId": "18c4c100-a23f-4372-ea02-2cb186ea4347"
      },
      "source": [
        "from prettytable import PrettyTable\n",
        "t2 = PrettyTable(['Accuracy', 'Logistic (%)' , 'DT (%)' , 'SVM (%)' , 'RF (%)' , 'NB (%)'])\n",
        "t2.add_row(['accuracy_score', lr_accuracy_score*100, dt_accuracy_score*100, svm_accuracy_score*100, rf_accuracy_score*100 , nb_accuracy_score*100])\n",
        "t2.add_row(['f1_score',       lr_f1_score*100      , dt_f1_score*100      , svm_f1_score*100       , rf_f1_score*100       , nb_f1_score*100]      )\n",
        "t2.add_row(['recall_score',   lr_recall_score*100  , dt_recall_score*100  , svm_recall_score*100  , rf_recall_score*100   , nb_recall_score*100]  )\n",
        "print(t2)"
      ],
      "execution_count": null,
      "outputs": [
        {
          "output_type": "stream",
          "text": [
            "+----------------+-------------------+-------------------+------------------+-------------------+-------------------+\n",
            "|    Accuracy    |    Logistic (%)   |       DT (%)      |     SVM (%)      |       RF (%)      |       NB (%)      |\n",
            "+----------------+-------------------+-------------------+------------------+-------------------+-------------------+\n",
            "| accuracy_score | 99.89115550718023 |  99.9367999719111 | 99.8139110284049 | 99.95786664794073 | 99.29777746567888 |\n",
            "|    f1_score    |  69.6078431372549 | 83.33333333333334 |       0.0        | 87.87878787878786 | 28.31541218637993 |\n",
            "|  recall_score  | 66.98113207547169 | 84.90566037735849 |       0.0        |  82.0754716981132 | 74.52830188679245 |\n",
            "+----------------+-------------------+-------------------+------------------+-------------------+-------------------+\n"
          ],
          "name": "stdout"
        }
      ]
    },
    {
      "cell_type": "markdown",
      "metadata": {
        "id": "Ol-SUQB0GY4J",
        "colab_type": "text"
      },
      "source": [
        "# Try Hyper parameter turning & cross Fold"
      ]
    },
    {
      "cell_type": "markdown",
      "metadata": {
        "id": "IebVsWSsMHtd",
        "colab_type": "text"
      },
      "source": [
        "**Cross Validation** is a very useful technique for assessing the performance of machine learning models. It helps in knowing how the machine learning model would generalize to an independent data set. and to estimate how accurate your model will predict in practice."
      ]
    },
    {
      "cell_type": "code",
      "metadata": {
        "id": "yZp7G_H0GeWA",
        "colab_type": "code",
        "colab": {}
      },
      "source": [
        "from sklearn.model_selection import cross_val_score\n",
        "\n",
        "##LR\n",
        "from sklearn.linear_model import LogisticRegression\n",
        "ACC_test_lr = cross_val_score(LogisticRegression(),x,y)\n",
        "\n",
        "##DT\n",
        "from sklearn.tree import DecisionTreeClassifier\n",
        "ACC_test_dt = cross_val_score(DecisionTreeClassifier(),x,y)\n",
        "\n",
        "##SVM\n",
        "from sklearn.svm import SVC\n",
        "ACC_test_svm = cross_val_score(SVC(),x,y)\n",
        "\n",
        "##RF\n",
        "## from sklearn.ensemble import RandomForestClassifier\n",
        "## ACC_test_rf = cross_val_score(RandomForestClassifier(),x,y)\n",
        "\n",
        "from sklearn.model_selection import StratifiedKFold\n",
        "ACC_test_rf4 = cross_val_score(RandomForestClassifier(),x,y,cv=StratifiedKFold(n_splits=5, shuffle=True))\n",
        "print(ACC_test_rf4)\n",
        "\n",
        "##NB\n",
        "from sklearn.naive_bayes import GaussianNB\n",
        "ACC_test_nb = cross_val_score(GaussianNB(),x,y)\n",
        "\n",
        "\n",
        "ACC_test_lr_mean = np.mean(ACC_test_lr);\n",
        "ACC_test_dt_mean = np.mean(ACC_test_dt);\n",
        "ACC_test_svm_mean = np.mean(ACC_test_svm);\n",
        "ACC_test_rf_mean = np.mean(ACC_test_rf);\n",
        "ACC_test_nb_mean = np.mean(ACC_test_nb);\n",
        "\n",
        "\n",
        "from prettytable import PrettyTable\n",
        "t = PrettyTable(['KVC Accuracy', 'Logistic (%)' , 'DT (%)' , 'SVM (%)' , 'RF (%)', 'NB (%)'])\n",
        "t.add_row(['Testing', ACC_test_lr_mean*100, ACC_test_dt_mean*100, ACC_test_svm_mean*100, ACC_test_rf_mean*100, ACC_test_nb_mean*100])\n",
        "print(t)"
      ],
      "execution_count": null,
      "outputs": []
    },
    {
      "cell_type": "markdown",
      "metadata": {
        "id": "herqaTv35V-l",
        "colab_type": "text"
      },
      "source": [
        "\n",
        "SAAS API (prove of concept )\n",
        "\n",
        "Moh.....\n",
        "\n",
        "SMOT with RF\n",
        "\n",
        "transform ( save the model for prediction ) , then do fit\n",
        "\n",
        "assume featuers to PCA \n",
        "\n",
        "asma.....\n",
        "\n",
        "tuning of parameters \n",
        "\n",
        "ROC AUC curve"
      ]
    }
  ]
}